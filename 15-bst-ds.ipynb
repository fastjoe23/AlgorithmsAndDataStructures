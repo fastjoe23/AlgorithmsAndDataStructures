{
 "cells": [
  {
   "cell_type": "markdown",
   "metadata": {
    "state": "normal"
   },
   "source": [
    "# The BSTree data structure\n",
    "\n",
    "## Agenda\n",
    "\n",
    "- API\n",
    "- Implementation\n",
    "    - Search\n",
    "    - Addition\n",
    "    - Removal\n",
    "    - Iteration / Traversal\n",
    "- Runtime complexity"
   ]
  },
  {
   "cell_type": "markdown",
   "metadata": {
    "state": "normal"
   },
   "source": [
    "## API"
   ]
  },
  {
   "cell_type": "code",
   "execution_count": 2,
   "metadata": {
    "state": "normal"
   },
   "outputs": [],
   "source": [
    "class BSTree:\n",
    "    class Node:\n",
    "        def __init__(self, val, left=None, right=None):\n",
    "            self.val = val\n",
    "            self.left = left\n",
    "            self.right = right\n",
    "            \n",
    "    def __init__(self):\n",
    "        self.size = 0\n",
    "        self.root = None\n",
    "    \n",
    "    def __contains__(self, val):\n",
    "        \"\"\"Returns `True` if val is in this tree and `False` otherwise.\"\"\"\n",
    "        pass\n",
    "    \n",
    "    def add(self, val):\n",
    "        \"\"\"Adds `val` to this tree while maintaining BSTree properties.\"\"\"\n",
    "        assert val not in self\n",
    "        pass    \n",
    "\n",
    "    def __delitem__(self, val):\n",
    "        \"\"\"Removes `val` from this tree while maintaining BSTree properties.\"\"\"\n",
    "        assert val in self\n",
    "        pass\n",
    "    \n",
    "    def __iter__(self):\n",
    "        \"\"\"Returns an iterator over all the values in the tree, in ascending order.\"\"\"\n",
    "        pass\n",
    "\n",
    "    def __len__(self):\n",
    "        return self.size\n",
    "    \n",
    "    def height(self):\n",
    "        \"\"\"Returns the height of the root of the tree.\"\"\"\n",
    "        def height_rec(t):\n",
    "            if not t:\n",
    "                return 0\n",
    "            else:\n",
    "                return 1 + max(height_rec(t.left), height_rec(t.right))\n",
    "        return height_rec(self.root)\n",
    "\n",
    "    def pprint(self, width=64):\n",
    "        \"\"\"Attempts to pretty-print this tree's contents.\"\"\"\n",
    "        height = self.height()\n",
    "        nodes  = [(self.root, 0)]\n",
    "        prev_level = 0\n",
    "        repr_str = ''\n",
    "        while nodes:\n",
    "            n,level = nodes.pop(0)\n",
    "            if prev_level != level:\n",
    "                prev_level = level\n",
    "                repr_str += '\\n'\n",
    "            if not n:\n",
    "                if level < height-1:\n",
    "                    nodes.extend([(None, level+1), (None, level+1)])\n",
    "                repr_str += '{val:^{width}}'.format(val='-', width=width//2**level)\n",
    "            elif n:\n",
    "                if n.left or level < height-1:\n",
    "                    nodes.append((n.left, level+1))\n",
    "                if n.right or level < height-1:\n",
    "                    nodes.append((n.right, level+1))\n",
    "                repr_str += '{val:^{width}}'.format(val=n.val, width=width//2**level)\n",
    "        print(repr_str)"
   ]
  },
  {
   "cell_type": "code",
   "execution_count": 3,
   "metadata": {
    "state": "normal"
   },
   "outputs": [],
   "source": [
    "t = BSTree()\n",
    "t.root = BSTree.Node(5,\n",
    "                    left=BSTree.Node(2),\n",
    "                    right=BSTree.Node(10))\n",
    "t.size = 3"
   ]
  },
  {
   "cell_type": "code",
   "execution_count": 30,
   "metadata": {
    "state": "normal"
   },
   "outputs": [
    {
     "data": {
      "text/plain": [
       "2"
      ]
     },
     "execution_count": 30,
     "metadata": {},
     "output_type": "execute_result"
    }
   ],
   "source": [
    "t.height()"
   ]
  },
  {
   "cell_type": "code",
   "execution_count": 4,
   "metadata": {
    "state": "normal"
   },
   "outputs": [
    {
     "name": "stdout",
     "output_type": "stream",
     "text": [
      "                               5                                \n",
      "               2                               10               \n"
     ]
    }
   ],
   "source": [
    "t.pprint()"
   ]
  },
  {
   "cell_type": "markdown",
   "metadata": {
    "state": "normal"
   },
   "source": [
    "## Implementation"
   ]
  },
  {
   "cell_type": "markdown",
   "metadata": {
    "state": "normal"
   },
   "source": [
    "### Search"
   ]
  },
  {
   "cell_type": "code",
   "execution_count": 6,
   "metadata": {
    "state": "normal"
   },
   "outputs": [],
   "source": [
    "class BSTree(BSTree):\n",
    "    def __contains__(self, val):\n",
    "        def contains_rec(node):\n",
    "            \n",
    "            if node is None:\n",
    "                return False\n",
    "            if node.val == val:\n",
    "                return True\n",
    "            elif val < node.val:\n",
    "                return contains_rec(node.left)\n",
    "            else:\n",
    "                return contains_rec(node.right)\n",
    "        return contains_rec(self.root)"
   ]
  },
  {
   "cell_type": "code",
   "execution_count": 32,
   "metadata": {
    "state": "normal"
   },
   "outputs": [],
   "source": [
    "t = BSTree()\n",
    "t.root = BSTree.Node(5,\n",
    "                    left=BSTree.Node(2),\n",
    "                    right=BSTree.Node(10))\n",
    "t.size = 3"
   ]
  },
  {
   "cell_type": "code",
   "execution_count": 33,
   "metadata": {
    "state": "normal"
   },
   "outputs": [
    {
     "data": {
      "text/plain": [
       "False"
      ]
     },
     "execution_count": 33,
     "metadata": {},
     "output_type": "execute_result"
    }
   ],
   "source": [
    "3 in t"
   ]
  },
  {
   "cell_type": "markdown",
   "metadata": {
    "state": "normal"
   },
   "source": [
    "### Addition"
   ]
  },
  {
   "cell_type": "code",
   "execution_count": 5,
   "metadata": {
    "state": "normal"
   },
   "outputs": [],
   "source": [
    "class BSTree(BSTree):\n",
    "    def add(self, val):\n",
    "        def add_rec(node):\n",
    "            if node is None:\n",
    "                return BSTree.Node(val)\n",
    "            elif val < node.val:\n",
    "                node.left = add_rec(node.left)\n",
    "                return node\n",
    "            else:\n",
    "                node.right = add_rec(node.right)\n",
    "                return node\n",
    "\n",
    "        assert val not in self\n",
    "        self.root = add_rec(self.root)\n",
    "        self.size += 1"
   ]
  },
  {
   "cell_type": "code",
   "execution_count": 39,
   "metadata": {
    "state": "normal"
   },
   "outputs": [
    {
     "name": "stdout",
     "output_type": "stream",
     "text": [
      "                               9                                \n",
      "               1                               -                \n",
      "       0               2               -               -        \n",
      "   -       -       -       3       -       -       -       -    \n",
      " -   -   -   -   -   -   -   8   -   -   -   -   -   -   -   -  \n",
      "- - - - - - - - - - - - - - 7 - - - - - - - - - - - - - - - - - \n",
      "----------------------------4-----------------------------------\n",
      "---------------------------------------------------------5----------------------------------------------------------------------\n",
      "-------------------------------------------------------------------------------------------------------------------6--------------------------------------------------------------------------------------------------------------------------------------------\n"
     ]
    }
   ],
   "source": [
    "import random\n",
    "t = BSTree()\n",
    "vals = list(range(10))\n",
    "random.shuffle(vals)\n",
    "for x in vals:\n",
    "    t.add(x)\n",
    "t.pprint()"
   ]
  },
  {
   "attachments": {},
   "cell_type": "markdown",
   "metadata": {
    "state": "normal"
   },
   "source": [
    "### Removal\n",
    "There are three different cases. The node to delete:\n",
    "- is a leaf node (has no children) -> easy just delete it\n",
    "- has only one child (left or right) -> more or less easy swap the child one step higher\n",
    "- has two children -> hmm, that's difficult\n",
    "\n",
    "Let's handle the easy cases first:"
   ]
  },
  {
   "cell_type": "code",
   "execution_count": 40,
   "metadata": {
    "state": "normal"
   },
   "outputs": [],
   "source": [
    "class BSTree(BSTree):\n",
    "    def __delitem__(self, val):\n",
    "        def del_rec(node):\n",
    "            if val < node.val:\n",
    "                node.left = del_rec(node.left)\n",
    "                return node\n",
    "            elif val > node.val:\n",
    "                node.right = del_rec(node.right)\n",
    "                return node\n",
    "            else:\n",
    "                if node.left is None and node.right is None:\n",
    "                    return None\n",
    "                elif node.left is None and node.right is not None:\n",
    "                    return node.right\n",
    "                elif node.left is not None and node.right is None:\n",
    "                    return node.left\n",
    "                else:\n",
    "                    pass\n",
    "\n",
    "\n",
    "        assert val in self\n",
    "        self.root = del_rec(self.root)\n",
    "        self.size -= 1"
   ]
  },
  {
   "cell_type": "code",
   "execution_count": 41,
   "metadata": {
    "state": "normal"
   },
   "outputs": [
    {
     "name": "stdout",
     "output_type": "stream",
     "text": [
      "                               10                               \n",
      "               5                               15               \n",
      "       2               -               -               17       \n"
     ]
    }
   ],
   "source": [
    "t = BSTree()\n",
    "for x in [10, 5, 15, 2, 17]:\n",
    "    t.add(x)\n",
    "t.pprint()"
   ]
  },
  {
   "cell_type": "code",
   "execution_count": 42,
   "metadata": {
    "state": "normal"
   },
   "outputs": [
    {
     "name": "stdout",
     "output_type": "stream",
     "text": [
      "                               10                               \n",
      "               5                               15               \n",
      "       -               -               -               17       \n"
     ]
    }
   ],
   "source": [
    "del t[2]\n",
    "t.pprint()"
   ]
  },
  {
   "cell_type": "code",
   "execution_count": 44,
   "metadata": {
    "state": "normal"
   },
   "outputs": [
    {
     "name": "stdout",
     "output_type": "stream",
     "text": [
      "                               10                               \n",
      "               5                               15               \n",
      "       2               -               -               17       \n"
     ]
    }
   ],
   "source": [
    "t = BSTree()\n",
    "for x in [10, 5, 15, 2, 17]:\n",
    "    t.add(x)\n",
    "t.pprint()"
   ]
  },
  {
   "cell_type": "code",
   "execution_count": 45,
   "metadata": {
    "state": "normal"
   },
   "outputs": [
    {
     "name": "stdout",
     "output_type": "stream",
     "text": [
      "                               10                               \n",
      "               2                               15               \n",
      "       -               -               -               17       \n"
     ]
    }
   ],
   "source": [
    "del t[5]\n",
    "t.pprint()"
   ]
  },
  {
   "cell_type": "code",
   "execution_count": 46,
   "metadata": {
    "state": "normal"
   },
   "outputs": [
    {
     "name": "stdout",
     "output_type": "stream",
     "text": [
      "                               10                               \n",
      "               5                               15               \n",
      "       2               -               -               17       \n"
     ]
    }
   ],
   "source": [
    "t = BSTree()\n",
    "for x in [10, 5, 15, 2, 17]:\n",
    "    t.add(x)\n",
    "t.pprint()"
   ]
  },
  {
   "cell_type": "code",
   "execution_count": 47,
   "metadata": {
    "state": "normal"
   },
   "outputs": [
    {
     "name": "stdout",
     "output_type": "stream",
     "text": [
      "                               10                               \n",
      "               5                               17               \n",
      "       2               -               -               -        \n"
     ]
    }
   ],
   "source": [
    "del t[15]\n",
    "t.pprint()"
   ]
  },
  {
   "cell_type": "code",
   "execution_count": 48,
   "metadata": {
    "state": "normal"
   },
   "outputs": [
    {
     "name": "stdout",
     "output_type": "stream",
     "text": [
      "                               10                               \n",
      "               5                               15               \n",
      "       2               -               -               17       \n"
     ]
    }
   ],
   "source": [
    "t = BSTree()\n",
    "for x in [10, 5, 15, 2, 17]:\n",
    "    t.add(x)\n",
    "t.pprint()"
   ]
  },
  {
   "cell_type": "code",
   "execution_count": 49,
   "metadata": {
    "state": "normal"
   },
   "outputs": [
    {
     "name": "stdout",
     "output_type": "stream",
     "text": [
      "                               -                                \n"
     ]
    }
   ],
   "source": [
    "del t[10]\n",
    "t.pprint()"
   ]
  },
  {
   "attachments": {},
   "cell_type": "markdown",
   "metadata": {},
   "source": [
    "Well, ... seems like we have to handle the complex case now.\n",
    "\n",
    "Proposals?\n",
    "\n",
    "There are different strategies:"
   ]
  },
  {
   "cell_type": "code",
   "execution_count": 13,
   "metadata": {
    "state": "normal"
   },
   "outputs": [],
   "source": [
    "class BSTree(BSTree):\n",
    "    def __delitem__(self, val):\n",
    "        assert val in self\n",
    "        def delitem_rec(node):\n",
    "            if val < node.val:\n",
    "                node.left = delitem_rec(node.left)\n",
    "                return node\n",
    "            elif val > node.val:\n",
    "                node.right = delitem_rec(node.right)\n",
    "                return node\n",
    "            else:\n",
    "                if not node.left and not node.right:\n",
    "                    return None\n",
    "                elif node.left and not node.right:\n",
    "                    return node.left\n",
    "                elif node.right and not node.left:\n",
    "                    return node.right\n",
    "                else:\n",
    "                    # handle the complex case\n",
    "                    max = node.left\n",
    "                    if max.right is None:\n",
    "                        node.left = max.left\n",
    "                    else:\n",
    "                        prevMax = max\n",
    "                        max = max.right\n",
    "                        while max.right:\n",
    "                            prevMax = max\n",
    "                            max = max.right\n",
    "                        prevMax.right = max.left\n",
    "\n",
    "                    node.val = max.val\n",
    "                    return node\n",
    "\n",
    "        self.root = delitem_rec(self.root)\n",
    "        self.size -= 1"
   ]
  },
  {
   "cell_type": "code",
   "execution_count": 15,
   "metadata": {
    "state": "normal"
   },
   "outputs": [
    {
     "name": "stdout",
     "output_type": "stream",
     "text": [
      "                               10                               \n",
      "               5                               15               \n",
      "       2               7               12              18       \n",
      "   1       3       6       9       -       -       -       -    \n",
      " -   -   -   -   -   -   8   -   -   -   -   -   -   -   -   -  \n"
     ]
    }
   ],
   "source": [
    "t = BSTree()\n",
    "for x in [10, 5, 2, 3, 7, 9,  8, 1, 15, 12, 6, 18]:\n",
    "    t.add(x)\n",
    "t.pprint()"
   ]
  },
  {
   "cell_type": "code",
   "execution_count": 16,
   "metadata": {
    "state": "normal"
   },
   "outputs": [
    {
     "name": "stdout",
     "output_type": "stream",
     "text": [
      "                               10                               \n",
      "               5                               12               \n",
      "       2               7               -               18       \n",
      "   1       3       6       9       -       -       -       -    \n",
      " -   -   -   -   -   -   8   -   -   -   -   -   -   -   -   -  \n"
     ]
    }
   ],
   "source": [
    "del t[15]\n",
    "t.pprint()"
   ]
  },
  {
   "cell_type": "code",
   "execution_count": 17,
   "metadata": {
    "state": "normal"
   },
   "outputs": [
    {
     "name": "stdout",
     "output_type": "stream",
     "text": [
      "                               10                               \n",
      "               5                               15               \n",
      "       2               7               12              18       \n",
      "   1       -       -       9       -       -       -       -    \n",
      " -   -   -   -   -   -   8   -   -   -   -   -   -   -   -   -  \n"
     ]
    }
   ],
   "source": [
    "t = BSTree()\n",
    "for x in [10, 5, 2, 7, 9, 8, 1, 15, 12, 18]:\n",
    "    t.add(x)\n",
    "t.pprint()"
   ]
  },
  {
   "cell_type": "code",
   "execution_count": 18,
   "metadata": {
    "state": "normal"
   },
   "outputs": [
    {
     "name": "stdout",
     "output_type": "stream",
     "text": [
      "                               10                               \n",
      "               2                               15               \n",
      "       1               7               12              18       \n",
      "   -       -       -       9       -       -       -       -    \n",
      " -   -   -   -   -   -   8   -   -   -   -   -   -   -   -   -  \n"
     ]
    }
   ],
   "source": [
    "del t[5]\n",
    "t.pprint()"
   ]
  },
  {
   "cell_type": "code",
   "execution_count": 19,
   "metadata": {
    "state": "normal"
   },
   "outputs": [
    {
     "name": "stdout",
     "output_type": "stream",
     "text": [
      "                               10                               \n",
      "               5                               15               \n",
      "       2               7               12              18       \n",
      "   1       -       -       9       -       -       -       -    \n",
      " -   -   -   -   -   -   8   -   -   -   -   -   -   -   -   -  \n"
     ]
    }
   ],
   "source": [
    "t = BSTree()\n",
    "for x in [10, 5, 2, 7, 9, 8, 1, 15, 12, 18]:\n",
    "    t.add(x)\n",
    "t.pprint()"
   ]
  },
  {
   "cell_type": "code",
   "execution_count": 20,
   "metadata": {
    "state": "normal"
   },
   "outputs": [
    {
     "name": "stdout",
     "output_type": "stream",
     "text": [
      "                               9                                \n",
      "               5                               15               \n",
      "       2               7               12              18       \n",
      "   1       -       -       8       -       -       -       -    \n"
     ]
    }
   ],
   "source": [
    "del t[10]\n",
    "t.pprint()"
   ]
  },
  {
   "cell_type": "markdown",
   "metadata": {
    "state": "normal"
   },
   "source": [
    "### Iteration / Traversal"
   ]
  },
  {
   "cell_type": "code",
   "execution_count": 29,
   "metadata": {
    "state": "normal"
   },
   "outputs": [],
   "source": [
    "class BSTree(BSTree):\n",
    "    def __iter__(self):\n",
    "        def iter_rec(node):\n",
    "            if node:\n",
    "                yield from iter_rec(node.left)\n",
    "                yield node.val\n",
    "                yield from iter_rec(node.right)\n",
    "            \n",
    "\n",
    "        return iter_rec(self.root)    "
   ]
  },
  {
   "cell_type": "code",
   "execution_count": 30,
   "metadata": {
    "state": "normal"
   },
   "outputs": [
    {
     "name": "stdout",
     "output_type": "stream",
     "text": [
      "                               10                               \n",
      "               9                               13               \n",
      "       0               -               12              17       \n",
      "   -       7       -       -       11      -       16      18   \n",
      " -   -   6   8   -   -   -   -   -   -   -   -   14  -   -   19 \n",
      "- - - - 5 - - - - - - - - - - - - - - - - - - - - 15- - - - - - \n",
      "--------1-------------------------------------------------------\n",
      "-----------------3--------------------------------------------------------------------------------------------------------------\n",
      "----------------------------------24----------------------------------------------------------------------------------------------------------------------------------------------------------------------------------------------------------------------------\n",
      "0\n",
      "1\n",
      "2\n",
      "3\n",
      "4\n",
      "5\n",
      "6\n",
      "7\n",
      "8\n",
      "9\n",
      "10\n",
      "11\n",
      "12\n",
      "13\n",
      "14\n",
      "15\n",
      "16\n",
      "17\n",
      "18\n",
      "19\n"
     ]
    }
   ],
   "source": [
    "import random\n",
    "t = BSTree()\n",
    "vals = list(range(20))\n",
    "random.shuffle(vals)\n",
    "for x in vals:\n",
    "    t.add(x)\n",
    "t.pprint()\n",
    "for x in t:\n",
    "    print(x)"
   ]
  },
  {
   "cell_type": "markdown",
   "metadata": {
    "state": "normal"
   },
   "source": [
    "### Iteration by Level"
   ]
  },
  {
   "cell_type": "code",
   "execution_count": 31,
   "metadata": {
    "state": "normal"
   },
   "outputs": [],
   "source": [
    "class BSTree(BSTree):\n",
    "    def __iter__(self):\n",
    "        def iter_rec(node):\n",
    "            if node:\n",
    "                yield node.val\n",
    "                yield from iter_rec(node.left)\n",
    "                yield from iter_rec(node.right)\n",
    "            \n",
    "\n",
    "        return iter_rec(self.root)    "
   ]
  },
  {
   "cell_type": "code",
   "execution_count": 35,
   "metadata": {
    "state": "normal"
   },
   "outputs": [
    {
     "name": "stdout",
     "output_type": "stream",
     "text": [
      "                               3                                \n",
      "               2                               7                \n",
      "       0               -               4               9        \n",
      "   -       1       -       -       -       5       8       -    \n",
      " -   -   -   -   -   -   -   -   -   -   -   6   -   -   -   -  \n"
     ]
    }
   ],
   "source": [
    "import random\n",
    "t = BSTree()\n",
    "vals = list(range(10))\n",
    "random.shuffle(vals)\n",
    "for x in vals:\n",
    "    t.add(x)\n",
    "t.pprint()"
   ]
  },
  {
   "cell_type": "code",
   "execution_count": 36,
   "metadata": {
    "state": "normal"
   },
   "outputs": [
    {
     "name": "stdout",
     "output_type": "stream",
     "text": [
      "3\n",
      "2\n",
      "0\n",
      "1\n",
      "7\n",
      "4\n",
      "5\n",
      "6\n",
      "9\n",
      "8\n"
     ]
    }
   ],
   "source": [
    "for x in t:\n",
    "    print(x)"
   ]
  },
  {
   "cell_type": "markdown",
   "metadata": {
    "state": "normal"
   },
   "source": [
    "## Runtime Complexity"
   ]
  },
  {
   "cell_type": "markdown",
   "metadata": {
    "state": "normal"
   },
   "source": [
    "The runtime complexity of the search, add, and delete methods of the binary search tree are dependent, ultimately, on the depth of their recursive implementation. The depth of recursion is in turn dependent on the height of the binary search tree.\n",
    "\n",
    "Given $N$ nodes, the height of a binary search tree is, in the worst case = ?\n",
    "\n",
    "This gives us the following worst-case runtime complexities:\n",
    "\n",
    "- Search = O(?)\n",
    "- Add = O(?)\n",
    "- Delete = O(?)\n",
    "\n",
    "How can we improve this runtime complexity? What should be our target runtime complexity?"
   ]
  }
 ],
 "metadata": {
  "kernelspec": {
   "display_name": "Python 3",
   "language": "python",
   "name": "python3"
  },
  "language_info": {
   "codemirror_mode": {
    "name": "ipython",
    "version": 3
   },
   "file_extension": ".py",
   "mimetype": "text/x-python",
   "name": "python",
   "nbconvert_exporter": "python",
   "pygments_lexer": "ipython3",
   "version": "3.11.2"
  },
  "mimir": {
   "data": {},
   "last_submission_id": "",
   "project_id": "70342fc0-6851-4ef5-89fd-5f50ede58dc2"
  },
  "varInspector": {
   "cols": {
    "lenName": 16,
    "lenType": 16,
    "lenVar": 40
   },
   "kernels_config": {
    "python": {
     "delete_cmd_postfix": "",
     "delete_cmd_prefix": "del ",
     "library": "var_list.py",
     "varRefreshCmd": "print(var_dic_list())"
    },
    "r": {
     "delete_cmd_postfix": ") ",
     "delete_cmd_prefix": "rm(",
     "library": "var_list.r",
     "varRefreshCmd": "cat(var_dic_list()) "
    }
   },
   "types_to_exclude": [
    "module",
    "function",
    "builtin_function_or_method",
    "instance",
    "_Feature"
   ],
   "window_display": false
  }
 },
 "nbformat": 4,
 "nbformat_minor": 4
}
