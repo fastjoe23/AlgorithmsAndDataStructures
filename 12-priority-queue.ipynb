{
 "cells": [
  {
   "cell_type": "markdown",
   "metadata": {
    "state": "normal"
   },
   "source": [
    "# Priority Queue\n",
    "\n",
    "## Agenda\n",
    "\n",
    "1. \"Priority Queue\"\n",
    "2. Naive implementation\n",
    "3. Heap\n",
    "    - Mechanics\n",
    "    - Implementation\n",
    "    - Run-time Analysis\n",
    "4. Heap Construction\n",
    "5. Heapsort"
   ]
  },
  {
   "cell_type": "markdown",
   "metadata": {},
   "source": [
    "## 1. Priority Queue\n",
    "\n",
    "The priority queue ADT is similar to a queue, in that values are conceptually added to one end and taken out another. Values are not dequeued from a priority queue in FIFO order, however. Instead, each value in a priority queue has an implicit \"priority\", and the *value with maximum priority is always dequeued first*, regardless of when it was enqueued. "
   ]
  },
  {
   "attachments": {},
   "cell_type": "markdown",
   "metadata": {
    "state": "normal"
   },
   "source": [
    "## 2. Naive implementation\n",
    "Using a sorted python array, where the element with the highest priority stands at the end of the array. And we are using the value of the element also as priority"
   ]
  },
  {
   "cell_type": "code",
   "execution_count": 1,
   "metadata": {
    "state": "normal",
    "tags": []
   },
   "outputs": [],
   "source": [
    "class PriorityQueue:\n",
    "    def __init__(self):\n",
    "        self.data = []\n",
    "        \n",
    "    def add(self, x):\n",
    "        for i in range(len(self.data)):\n",
    "            if self.data[i] > x:\n",
    "                self.data.insert(i,x)\n",
    "                break\n",
    "        else:\n",
    "            self.data.append(x)\n",
    "    \n",
    "    def max(self):\n",
    "        assert len(self) > 0\n",
    "        return self.data[-1]\n",
    "        \n",
    "    def pop_max(self):\n",
    "        assert len(self) > 0\n",
    "        retValue = self.data[-1]\n",
    "        self.data = self.data[:-1]\n",
    "        return retValue\n",
    "\n",
    "\n",
    "    def __bool__(self):\n",
    "        return len(self.data) > 0\n",
    "\n",
    "    def __len__(self):\n",
    "        return len(self.data)\n",
    "\n",
    "    def __repr__(self):\n",
    "        return repr(self.data)"
   ]
  },
  {
   "cell_type": "code",
   "execution_count": 2,
   "metadata": {
    "state": "normal",
    "tags": []
   },
   "outputs": [],
   "source": [
    "import random\n",
    "\n",
    "pq = PriorityQueue()\n",
    "\n",
    "vals = random.sample(range(100), 10)\n",
    "for x in vals:\n",
    "    pq.add(x)"
   ]
  },
  {
   "cell_type": "code",
   "execution_count": 3,
   "metadata": {
    "state": "normal"
   },
   "outputs": [
    {
     "data": {
      "text/plain": [
       "[8, 12, 19, 25, 40, 48, 58, 66, 67, 68]"
      ]
     },
     "execution_count": 3,
     "metadata": {},
     "output_type": "execute_result"
    }
   ],
   "source": [
    "pq"
   ]
  },
  {
   "cell_type": "code",
   "execution_count": 4,
   "metadata": {
    "state": "normal"
   },
   "outputs": [
    {
     "name": "stdout",
     "output_type": "stream",
     "text": [
      "[8, 12, 19, 25, 40, 48, 58, 66, 67]\n",
      "[8, 12, 19, 25, 40, 48, 58, 66]\n",
      "[8, 12, 19, 25, 40, 48, 58]\n",
      "[8, 12, 19, 25, 40, 48]\n",
      "[8, 12, 19, 25, 40]\n",
      "[8, 12, 19, 25]\n",
      "[8, 12, 19]\n",
      "[8, 12]\n",
      "[8]\n",
      "[]\n"
     ]
    }
   ],
   "source": [
    "while pq:\n",
    "    pq.pop_max()\n",
    "    print(pq)"
   ]
  },
  {
   "cell_type": "markdown",
   "metadata": {
    "state": "normal"
   },
   "source": [
    "## 3. Heap"
   ]
  },
  {
   "cell_type": "markdown",
   "metadata": {},
   "source": [
    "A heap is an implementation of a priority queue that imposes a *partial ordering* on its contents. A heap takes the form of a *complete binary tree* where every node adheres to the *heap property*, i.e., that the value in a given node is the maximum value in the subtree of which it is the root."
   ]
  },
  {
   "cell_type": "markdown",
   "metadata": {
    "state": "normal"
   },
   "source": [
    "### Mechanics"
   ]
  },
  {
   "cell_type": "markdown",
   "metadata": {},
   "source": [
    "The heap property is maintained across insertions and removals by way of the \"bubble up\" and \"trickle down\" algorithms.\n",
    "\n",
    "![](images/heap-mechanics.jpg)\n",
    "\n",
    "Note that the \"trickle down\" algorithm can also be thought of as a way of \"re-heapifying\" a tree where all nodes but the root obey the heap property."
   ]
  },
  {
   "cell_type": "markdown",
   "metadata": {
    "state": "normal"
   },
   "source": [
    "### Implementation"
   ]
  },
  {
   "cell_type": "code",
   "execution_count": 1,
   "metadata": {
    "state": "normal",
    "tags": []
   },
   "outputs": [],
   "source": [
    "class Heap:\n",
    "    def __init__(self):\n",
    "        self.data = []\n",
    "\n",
    "\n",
    "    @staticmethod\n",
    "    def _parent(idx):\n",
    "        return (idx -1 ) // 2\n",
    "    \n",
    "    @staticmethod\n",
    "    def _left(idx):\n",
    "        return  2* idx + 1\n",
    "    \n",
    "    @staticmethod\n",
    "    def _right(idx):\n",
    "        return 2 * idx + 2\n",
    "        \n",
    "    def add(self, x):\n",
    "        # appending at the end of the list\n",
    "        self.data.append(x)\n",
    "\n",
    "        # now bubble up if necessary\n",
    "        index = len(self.data) - 1\n",
    "        while index > 0:\n",
    "            parentIndex = Heap._parent(index)\n",
    "            if self.data[parentIndex] < self.data[index]:\n",
    "                self.data[parentIndex], self.data[index] = self.data[index], self.data[parentIndex]\n",
    "                index = parentIndex\n",
    "            else:\n",
    "                break\n",
    "\n",
    "                \n",
    "    def max(self):\n",
    "        assert len(self) > 0\n",
    "        return self.data[0]\n",
    "\n",
    "    def pop_max(self):\n",
    "        assert len(self) > 0\n",
    "        retValue = self.data[0]\n",
    "\n",
    "        self.data[0] = self.data[-1]\n",
    "        del self.data[-1]\n",
    "\n",
    "        # now trickle it down, if necessaray\n",
    "        idx = 0\n",
    "        while idx < len(self.data):\n",
    "            leftIndex = Heap._left(idx)\n",
    "            rightIndex = Heap._right(idx)\n",
    "            maxIndex = idx\n",
    "\n",
    "            if leftIndex < len(self.data) and self.data[leftIndex] > self.data[maxIndex]:\n",
    "                maxIndex = leftIndex\n",
    "            if rightIndex < len(self.data) and self.data[rightIndex] > self.data[maxIndex]:\n",
    "                maxIndex = rightIndex\n",
    "            if idx != maxIndex:\n",
    "                self.data[idx], self.data[maxIndex] = self.data[maxIndex], self.data[idx]\n",
    "                idx = maxIndex\n",
    "            else:\n",
    "                break\n",
    "            \n",
    "        return retValue\n",
    "                                        \n",
    "\n",
    "\n",
    "\n",
    "\n",
    "    def __bool__(self):\n",
    "        return len(self.data) > 0\n",
    "\n",
    "    def __len__(self):\n",
    "        return len(self.data)\n",
    "\n",
    "    def __repr__(self):\n",
    "        return repr(self.data)"
   ]
  },
  {
   "cell_type": "code",
   "execution_count": 2,
   "metadata": {
    "state": "normal",
    "tags": []
   },
   "outputs": [
    {
     "name": "stdout",
     "output_type": "stream",
     "text": [
      "[0]\n",
      "[1, 0]\n",
      "[2, 0, 1]\n",
      "[3, 2, 1, 0]\n",
      "[4, 3, 1, 0, 2]\n",
      "[5, 3, 4, 0, 2, 1]\n",
      "[6, 3, 5, 0, 2, 1, 4]\n",
      "[7, 6, 5, 3, 2, 1, 4, 0]\n",
      "[8, 7, 5, 6, 2, 1, 4, 0, 3]\n",
      "[9, 8, 5, 6, 7, 1, 4, 0, 3, 2]\n"
     ]
    }
   ],
   "source": [
    "import random\n",
    "\n",
    "h = Heap()\n",
    "\n",
    "#vals = random.sample(range(100), 10)\n",
    "vals = range(10)\n",
    "for x in vals:\n",
    "    h.add(x)\n",
    "    print(h)"
   ]
  },
  {
   "cell_type": "code",
   "execution_count": 17,
   "metadata": {
    "state": "normal"
   },
   "outputs": [
    {
     "data": {
      "text/plain": [
       "[9, 8, 5, 6, 7, 1, 4, 0, 3, 2]"
      ]
     },
     "execution_count": 17,
     "metadata": {},
     "output_type": "execute_result"
    }
   ],
   "source": [
    "h"
   ]
  },
  {
   "cell_type": "code",
   "execution_count": 18,
   "metadata": {
    "state": "normal"
   },
   "outputs": [
    {
     "name": "stdout",
     "output_type": "stream",
     "text": [
      "9\n",
      "8\n",
      "7\n",
      "6\n",
      "5\n",
      "4\n",
      "3\n",
      "2\n",
      "1\n",
      "0\n"
     ]
    }
   ],
   "source": [
    "while h:\n",
    "    print(h.pop_max())"
   ]
  },
  {
   "cell_type": "markdown",
   "metadata": {},
   "source": [
    "Pretty printing a heap isn't an easy task. Here is a nice algorithm for pretty printing a heap (taken from https://gist.github.com/ydm/4f0c948bc0d151631621):"
   ]
  },
  {
   "cell_type": "code",
   "execution_count": 3,
   "metadata": {},
   "outputs": [],
   "source": [
    "from math import log\n",
    "first = lambda h: 2**h - 1      # H stands for level height\n",
    "last = lambda h: first(h + 1)\n",
    "level = lambda heap, h: heap[first(h):last(h)]\n",
    "prepare = lambda e, field: str(e).center(field)\n",
    "\n",
    "def heap_print(heap, width=None):\n",
    "    if width is None:\n",
    "        width = max(len(str(e)) for e in heap.data)\n",
    "    height = int(log(len(heap), 2)) + 1\n",
    "    gap = ' ' * width\n",
    "    for h in range(height):\n",
    "        below = 2 ** (height - h - 1)\n",
    "        field = (2 * below - 1) * width\n",
    "        print(gap.join(prepare(e, field) for e in level(heap.data, h)))"
   ]
  },
  {
   "cell_type": "code",
   "execution_count": 5,
   "metadata": {},
   "outputs": [
    {
     "name": "stdout",
     "output_type": "stream",
     "text": [
      "       9       \n",
      "   8       5   \n",
      " 6   7   1   4 \n",
      "0 3 2\n"
     ]
    }
   ],
   "source": [
    "heap_print(h)"
   ]
  },
  {
   "cell_type": "markdown",
   "metadata": {
    "state": "normal"
   },
   "source": [
    "### Run-time Analysis"
   ]
  },
  {
   "cell_type": "markdown",
   "metadata": {},
   "source": [
    "![](images/heap-runtime.jpg)"
   ]
  },
  {
   "cell_type": "markdown",
   "metadata": {},
   "source": [
    "I.e., when adding or removing elements from a heap, we need to carry out at most $O(h)$ operations, where $h$ is the number of levels in the heap, to ensure the heap property is established throughout. Since the heap takes the form of a complete binary tree, and the height $h$ of the tree is $O(\\log N)$, where $N$ is the number of elements in the tree, we conclude that **the add and remove heap operations are both $O(\\log N)$**."
   ]
  },
  {
   "cell_type": "markdown",
   "metadata": {
    "state": "normal"
   },
   "source": [
    "## 4. Heap Construction"
   ]
  },
  {
   "cell_type": "markdown",
   "metadata": {},
   "source": [
    "If we construct a heap of $N$ elements by simply calling `add` $N$ times, it is easy to see that this approach has $O(N \\log N)$ runtime complexity.\n",
    "\n",
    "Can we do better?"
   ]
  },
  {
   "cell_type": "markdown",
   "metadata": {
    "tags": []
   },
   "source": [
    "Yes! If we are given a list of $N$ values from which to construct a heap, we start by observing that we can interpret the list as the representation of a complete binary tree. In this tree, the only values that may violate the heap property are those found in *internal nodes* (i.e., nodes with at least 1 child).\n",
    "\n",
    "Recall that if we are given a complete tree where only the root node violates the heap property, we can re-heapify it by applying the trickle-down algorithm starting at the root.\n",
    "\n",
    "Therefore, to build a heap out of a list, we need only apply the trickle-down algorithm to each node starting at the deepest, right-most internal node, all the way up until we hit the root."
   ]
  },
  {
   "cell_type": "markdown",
   "metadata": {
    "tags": []
   },
   "source": [
    "![](images/heap-building.jpg)"
   ]
  },
  {
   "cell_type": "markdown",
   "metadata": {},
   "source": [
    "In a tree with $N$ total nodes, there are only $\\lfloor \\frac{N-1}{2} \\rfloor$ internal nodes, which means that we only need to apply the trickle-down algorithm to roughly *half* of the nodes in the tree. Note, also, that the runtime complexity of trickle-down depends on the height of the node, which only matches the height of the tree at the root. We will not prove this, but building a heap using this approach yields an algorithm with a runtime complexity of $O(N)$."
   ]
  },
  {
   "cell_type": "code",
   "execution_count": 19,
   "metadata": {
    "state": "normal",
    "tags": []
   },
   "outputs": [],
   "source": [
    "class Heap(Heap):\n",
    "    def __init__(self, iterable=None):\n",
    "        if not iterable:\n",
    "            self.data = []\n",
    "        else:\n",
    "            self.data = list(iterable)\n",
    "            last_internal_idx = Heap._parent(len(self.data)-1)\n",
    "            for i in range(last_internal_idx, -1, -1):\n",
    "                self._heapify(i)\n",
    "        \n",
    "    def _heapify(self, idx):\n",
    "        # re-heapify using the trickle down algorithm, starting at idx\n",
    "        while idx < len(self.data):\n",
    "            lidx = Heap._left(idx)\n",
    "            ridx = Heap._right(idx)\n",
    "            maxidx = idx\n",
    "            if lidx < len(self.data) and self.data[lidx] > self.data[idx]:\n",
    "                maxidx = lidx\n",
    "            if ridx < len(self.data) and self.data[ridx] > self.data[maxidx]:\n",
    "                maxidx = ridx\n",
    "            if maxidx != idx:\n",
    "                self.data[idx], self.data[maxidx] = self.data[maxidx], self.data[idx]\n",
    "                idx = maxidx\n",
    "            else:\n",
    "                break\n",
    "\n",
    "    def pop_max(self):\n",
    "        assert len(self) > 0\n",
    "        ret = self.data[0]\n",
    "        \n",
    "        # move the bottom-right value to the root\n",
    "        self.data[0] = self.data[-1]\n",
    "        del self.data[-1]\n",
    "        \n",
    "        self._heapify(0)\n",
    "        \n",
    "        return ret"
   ]
  },
  {
   "cell_type": "code",
   "execution_count": 20,
   "metadata": {
    "state": "normal",
    "tags": []
   },
   "outputs": [],
   "source": [
    "import random\n",
    "\n",
    "h = Heap()\n",
    "\n",
    "vals = random.sample(range(100), 10)\n",
    "for x in vals:\n",
    "    h.add(x)"
   ]
  },
  {
   "cell_type": "code",
   "execution_count": 21,
   "metadata": {
    "state": "normal"
   },
   "outputs": [
    {
     "data": {
      "text/plain": [
       "[83, 69, 38, 57, 65, 22, 32, 18, 34, 24]"
      ]
     },
     "execution_count": 21,
     "metadata": {},
     "output_type": "execute_result"
    }
   ],
   "source": [
    "h"
   ]
  },
  {
   "cell_type": "code",
   "execution_count": 22,
   "metadata": {
    "state": "normal"
   },
   "outputs": [
    {
     "name": "stdout",
     "output_type": "stream",
     "text": [
      "83\n",
      "69\n",
      "65\n",
      "57\n",
      "38\n",
      "34\n",
      "32\n",
      "24\n",
      "22\n",
      "18\n"
     ]
    }
   ],
   "source": [
    "while h:\n",
    "    print(h.pop_max())"
   ]
  },
  {
   "cell_type": "code",
   "execution_count": 23,
   "metadata": {},
   "outputs": [
    {
     "name": "stdout",
     "output_type": "stream",
     "text": [
      "97\n",
      "85\n",
      "84\n",
      "83\n",
      "75\n",
      "74\n",
      "57\n",
      "43\n",
      "14\n",
      "12\n"
     ]
    }
   ],
   "source": [
    "h = Heap(random.sample(range(100), 10)) # use the new heap initializer\n",
    "\n",
    "while h:\n",
    "    print(h.pop_max())"
   ]
  },
  {
   "cell_type": "markdown",
   "metadata": {},
   "source": [
    "## 5. Heapsort\n",
    "\n",
    "We can use a heap to implement an efficient sorting algorithm: heapsort!"
   ]
  },
  {
   "cell_type": "code",
   "execution_count": 24,
   "metadata": {
    "state": "normal",
    "tags": []
   },
   "outputs": [],
   "source": [
    "def heapsort(iterable):\n",
    "    h = Heap(iterable) # O(n)\n",
    "    retValue = []\n",
    "    while h: # O (n log n)\n",
    "        retValue.append(h.pop_max())\n",
    "    \n",
    "    return retValue\n",
    "    "
   ]
  },
  {
   "cell_type": "code",
   "execution_count": 25,
   "metadata": {
    "state": "normal",
    "tags": []
   },
   "outputs": [
    {
     "data": {
      "image/png": "[encoded data removed]",
      "text/plain": [
       "<Figure size 640x480 with 1 Axes>"
      ]
     },
     "metadata": {},
     "output_type": "display_data"
    }
   ],
   "source": [
    "import matplotlib.pyplot as plt\n",
    "import numpy as np\n",
    "%matplotlib inline\n",
    "\n",
    "lst = list(range(100))\n",
    "random.shuffle(lst)\n",
    "plt.plot(lst, 'ro');"
   ]
  },
  {
   "cell_type": "code",
   "execution_count": 26,
   "metadata": {
    "state": "normal",
    "tags": []
   },
   "outputs": [
    {
     "data": {
      "image/png": "[encoded data removed]",
      "text/plain": [
       "<Figure size 640x480 with 1 Axes>"
      ]
     },
     "metadata": {},
     "output_type": "display_data"
    }
   ],
   "source": [
    "plt.plot(heapsort(lst), 'ro');"
   ]
  },
  {
   "cell_type": "code",
   "execution_count": 27,
   "metadata": {},
   "outputs": [],
   "source": [
    "def insertion_sort(lst):\n",
    "    for i in range(1, len(lst)):\n",
    "        for j in range(i, 0, -1):\n",
    "            if lst[j-1] > lst[j]:\n",
    "                lst[j-1], lst[j] = lst[j], lst[j-1] # swap\n",
    "            else:\n",
    "                break"
   ]
  },
  {
   "cell_type": "code",
   "execution_count": 28,
   "metadata": {},
   "outputs": [],
   "source": [
    "import timeit\n",
    "\n",
    "def time_insertionsort(n):\n",
    "    return timeit.timeit('insertion_sort(lst)',\n",
    "                         f'lst = random.sample(range(1_000_000), {n})',\n",
    "                         globals=globals(),\n",
    "                         number=1)\n",
    "\n",
    "def time_heapsort(n):\n",
    "    return timeit.timeit('heapsort(lst)',\n",
    "                         f'lst = random.sample(range(1_000_000), {n})',\n",
    "                         globals=globals(),\n",
    "                         number=1)"
   ]
  },
  {
   "cell_type": "code",
   "execution_count": 29,
   "metadata": {
    "state": "normal"
   },
   "outputs": [
    {
     "data": {
      "image/png": "[encoded data removed]",
      "text/plain": [
       "<Figure size 640x480 with 1 Axes>"
      ]
     },
     "metadata": {},
     "output_type": "display_data"
    }
   ],
   "source": [
    "ns = np.linspace(100, 2000, 50, dtype=np.int_)\n",
    "plt.plot(ns, [time_insertionsort(n) for n in ns], 'ro')\n",
    "plt.plot(ns, [time_heapsort(n) for n in ns], 'b^');"
   ]
  },
  {
   "cell_type": "code",
   "execution_count": 30,
   "metadata": {
    "state": "normal"
   },
   "outputs": [
    {
     "data": {
      "image/png": "[encoded data removed]",
      "text/plain": [
       "<Figure size 640x480 with 1 Axes>"
      ]
     },
     "metadata": {},
     "output_type": "display_data"
    }
   ],
   "source": [
    "ns = np.linspace(100, 10000, 50, dtype=np.int_)\n",
    "plt.plot(ns, [time_heapsort(n) for n in ns], 'b^');"
   ]
  },
  {
   "cell_type": "markdown",
   "metadata": {},
   "source": [
    "Heapsort is the first sorting algorithm we've encountered with $O(N \\log N)$."
   ]
  }
 ],
 "metadata": {
  "kernelspec": {
   "display_name": "Python 3",
   "language": "python",
   "name": "python3"
  },
  "language_info": {
   "codemirror_mode": {
    "name": "ipython",
    "version": 3
   },
   "file_extension": ".py",
   "mimetype": "text/x-python",
   "name": "python",
   "nbconvert_exporter": "python",
   "pygments_lexer": "ipython3",
   "version": "3.11.9"
  },
  "mimir": {
   "data": {},
   "last_submission_id": "",
   "project_id": "cd081cc2-3118-4acf-abe4-cfe5215cf9e7"
  },
  "toc-autonumbering": false,
  "toc-showcode": true,
  "toc-showmarkdowntxt": false,
  "varInspector": {
   "cols": {
    "lenName": 16,
    "lenType": 16,
    "lenVar": 40
   },
   "kernels_config": {
    "python": {
     "delete_cmd_postfix": "",
     "delete_cmd_prefix": "del ",
     "library": "var_list.py",
     "varRefreshCmd": "print(var_dic_list())"
    },
    "r": {
     "delete_cmd_postfix": ") ",
     "delete_cmd_prefix": "rm(",
     "library": "var_list.r",
     "varRefreshCmd": "cat(var_dic_list()) "
    }
   },
   "types_to_exclude": [
    "module",
    "function",
    "builtin_function_or_method",
    "instance",
    "_Feature"
   ],
   "window_display": false
  }
 },
 "nbformat": 4,
 "nbformat_minor": 4
}
