{
 "cells": [
  {
   "attachments": {},
   "cell_type": "markdown",
   "metadata": {},
   "source": [
    "# Portfolio Prüfung Wiederholung WWI2022B\n",
    "Bitte bearbeiten Sie alle Aufgaben direkt  hier im Notebook und geben Sie die .ipynb-Datei am Ende der Portfolio-Prüfung [hier](https://privacy.dhbw-stuttgart.de/wwi2022b.html) ab.\n",
    "Für Aufgaben die ohne Code erstellt werden, steht nach der Aufgabenstellung ein Markdown Antwortfeld zur Verfügung. \n",
    "Für Aufgaben bei denen ein Code verlangt wird, befindet sich nach der Aufgabenstellung ein interaktives Code-Feld (ggf. mit schon vorab ausgefüllten Code-Fragementen).\n",
    "\n",
    "Viel Erfolg "
   ]
  },
  {
   "attachments": {},
   "cell_type": "markdown",
   "metadata": {},
   "source": [
    "## Aufgabe 1 Python Basics\n",
    "\n",
    "Verwenden Sie jeweils eine Zeile Code um die im Kommentar beschriebene Funktionalität zu erzeugen."
   ]
  },
  {
   "cell_type": "code",
   "execution_count": null,
   "metadata": {},
   "outputs": [],
   "source": [
    "# geben Sie \"WWI rockt\" als Output der Codezelle aus\n"
   ]
  },
  {
   "cell_type": "code",
   "execution_count": 1,
   "metadata": {},
   "outputs": [],
   "source": [
    "# Erstellen Sie eine Liste mit den Zahlen 1, 2, 3, 4 und weisen Sie die Liste der Variablen \"zahlen\" zu."
   ]
  },
  {
   "cell_type": "code",
   "execution_count": null,
   "metadata": {},
   "outputs": [],
   "source": [
    "# Erstellen Sie eine Range aller geraden Zahlen von 2 bis 100 (einschließlich) und weisen Sie die Range der Variablen \"nummern\" zu."
   ]
  },
  {
   "attachments": {},
   "cell_type": "markdown",
   "metadata": {},
   "source": [
    "<div style=\"text-align: right\"> (___ / 3 Punkte) </div>\n"
   ]
  },
  {
   "attachments": {},
   "cell_type": "markdown",
   "metadata": {},
   "source": [
    "## Aufgabe 2 Linked Queue\n",
    "Gegeben ist der folgende Code für eine verlinkte Queue:"
   ]
  },
  {
   "cell_type": "code",
   "execution_count": null,
   "metadata": {},
   "outputs": [],
   "source": [
    "class LinkedQueue:\n",
    "    class Node:\n",
    "        def __init__(self,val, next=None):\n",
    "            self.value = val\n",
    "            self.next = next\n",
    "    \n",
    "    def __init__(self) -> None:\n",
    "        self.head = self.tail = None\n",
    "\n",
    "    def enqueue(self, value):\n",
    "        # enqueues an element at the end of the queue\n",
    "        if self.tail:\n",
    "            self.tail.next = self.tail = LinkedQueue.Node(value)\n",
    "        else:\n",
    "            self.head = self.tail = LinkedQueue.Node(value)\n",
    "    \n",
    "    def __iter__(self):\n",
    "        node = self.head\n",
    "        while node:\n",
    "            yield node.value\n",
    "            node = node.next\n",
    "    \n",
    "    def __repr__(self) -> str:\n",
    "        return '[' + ', '.join(repr(x) for x in self) + ']'\n"
   ]
  },
  {
   "attachments": {},
   "cell_type": "markdown",
   "metadata": {},
   "source": [
    "### a) Dequeue und Empty\n",
    "Implementieren Sie die Funktionen `dequeue()`, welche das erste Element der Liste zurückgibt und aus der Liste löscht. Implementieren Sie zusätzlich die Funktion `empty()`, welche `True` zurückliefert, wenn die Liste leer ist, ansonsten `False`."
   ]
  },
  {
   "cell_type": "code",
   "execution_count": null,
   "metadata": {},
   "outputs": [],
   "source": [
    "class LinkedQueue(LinkedQueue):    \n",
    "    def dequeue(self): \n",
    "        assert not self.empty()\n",
    "        \n",
    "    \n",
    "    def empty(self):\n",
    "        pass"
   ]
  },
  {
   "attachments": {},
   "cell_type": "markdown",
   "metadata": {},
   "source": [
    "<div style=\"text-align: right\"> (___ / 5 Punkte) </div>\n"
   ]
  },
  {
   "cell_type": "markdown",
   "metadata": {},
   "source": [
    "Sie können Ihre Implementierung mit unten stehendem Code testen. Die Ausgabe sollte:\n",
    "```\n",
    "0\n",
    "1\n",
    "2\n",
    "3\n",
    "4\n",
    "True\n",
    "```\n",
    "ergeben."
   ]
  },
  {
   "cell_type": "code",
   "execution_count": null,
   "metadata": {},
   "outputs": [],
   "source": [
    "myQueue= LinkedQueue()\n",
    "for i in range(5):\n",
    "    myQueue.enqueue(i)\n",
    "\n",
    "while not myQueue.empty():\n",
    "    print(myQueue.dequeue())\n",
    "print(myQueue.empty())"
   ]
  },
  {
   "attachments": {},
   "cell_type": "markdown",
   "metadata": {},
   "source": [
    "### b) Mittelwert aller Elemente\n",
    "Implementieren Sie eine Funktion `mean(self)`, welche den Mittelwert aller Elemente der LinkedQueue berechnet und zurückgibt. Gehen Sie davon aus, dass die Liste nur Knoten mit Zahlen als Werten enthält. \n",
    "\n",
    "Beispiel: \n",
    "Der Mittelwert der LinkedQueue mit den Werten [0,1,2,3,4] beträgt 2,0."
   ]
  },
  {
   "cell_type": "code",
   "execution_count": null,
   "metadata": {},
   "outputs": [],
   "source": [
    "class LinkedQueue(LinkedQueue):\n",
    "    def mean(self):\n",
    "        pass"
   ]
  },
  {
   "attachments": {},
   "cell_type": "markdown",
   "metadata": {},
   "source": [
    "<div style=\"text-align: right\"> (___ / 4 Punkte) </div>\n"
   ]
  },
  {
   "cell_type": "markdown",
   "metadata": {},
   "source": [
    "Sie können Ihre Implementierung mit folgendem Code testen:"
   ]
  },
  {
   "cell_type": "code",
   "execution_count": null,
   "metadata": {},
   "outputs": [],
   "source": [
    "myQueue = LinkedQueue()\n",
    "for i in range(5):\n",
    "    myQueue.enqueue(i)\n",
    "print(myQueue.mean()) #should be 2.0"
   ]
  },
  {
   "attachments": {},
   "cell_type": "markdown",
   "metadata": {},
   "source": [
    "### c) Einfügen vor\n",
    "Implementieren Sie eine Funktion `addBefore(self, value, targetNodeValue)`, welche einen Knoten mit dem Werte `value` direkt vor dem ersten Knoten mit dem Wert `targetNodeValue` einfügt. Geben Sie eine Meldung aus, falls die Liste leer ist oder kein Knoten der Liste den Wert `targetNodeValue` besitzt."
   ]
  },
  {
   "cell_type": "code",
   "execution_count": null,
   "metadata": {},
   "outputs": [],
   "source": [
    "class LinkedQueue(LinkedQueue):\n",
    "    def addBefore(self, value, targetNodeValue):\n",
    "        pass\n",
    "        "
   ]
  },
  {
   "attachments": {},
   "cell_type": "markdown",
   "metadata": {},
   "source": [
    "<div style=\"text-align: right\"> (___ / 6 Punkte) </div>\n"
   ]
  },
  {
   "cell_type": "markdown",
   "metadata": {},
   "source": [
    "Sie können Ihre Implementierung mit folgendem Code testen:"
   ]
  },
  {
   "cell_type": "code",
   "execution_count": null,
   "metadata": {},
   "outputs": [],
   "source": [
    "myQueue = LinkedQueue()\n",
    "for x in range(4):\n",
    "    myQueue.enqueue(x)\n",
    "\n",
    "print(myQueue) # should be [0, 1, 2, 3]\n",
    "myQueue.addBefore(10,1)\n",
    "print(myQueue) # should be [0, 10, 1, 2, 3]\n"
   ]
  },
  {
   "attachments": {},
   "cell_type": "markdown",
   "metadata": {},
   "source": [
    "## Aufgabe 3 Komplexität von Algorithmen\n",
    "Schreiben Sie jeweils eine beliebige Funktion, welche eine Python Liste als Eingabe erhält und die vorgegeben Laufzeitkomplexität hat.\n",
    "\n",
    "**Beispiel:**\n",
    "\n",
    "Erstellen Sie eine Funktion mit konstanten Aufwand $O(1)$:"
   ]
  },
  {
   "cell_type": "code",
   "execution_count": 4,
   "metadata": {},
   "outputs": [],
   "source": [
    "myList = [x for x in range(10)]\n",
    "# define a function with O(1) complexity\n",
    "def functionExample(myList):\n",
    "    return myList[0]"
   ]
  },
  {
   "attachments": {},
   "cell_type": "markdown",
   "metadata": {},
   "source": [
    "### a) Linearer Aufwand\n",
    "Definieren Sie eine Funktion mit linearem Aufwand $O(n)$."
   ]
  },
  {
   "cell_type": "code",
   "execution_count": null,
   "metadata": {},
   "outputs": [],
   "source": [
    "myList = [x for x in range(10)]\n",
    "# define a function with O(n) complexity\n",
    "def function1(myList):\n",
    "    pass"
   ]
  },
  {
   "attachments": {},
   "cell_type": "markdown",
   "metadata": {},
   "source": [
    "<div style=\"text-align: right\"> (___ / 3 Punkte) </div>\n"
   ]
  },
  {
   "attachments": {},
   "cell_type": "markdown",
   "metadata": {},
   "source": [
    "### b) Quadratischer Aufwand\n",
    "Definieren Sie eine Funktion mit quadratischem Aufwand $O(n^2)$."
   ]
  },
  {
   "cell_type": "code",
   "execution_count": null,
   "metadata": {},
   "outputs": [],
   "source": [
    "myList = [x for x in range(10)]\n",
    "# define a function with O(n^2) complexity\n",
    "def function2(myList):\n",
    "    pass"
   ]
  },
  {
   "attachments": {},
   "cell_type": "markdown",
   "metadata": {},
   "source": [
    "<div style=\"text-align: right\"> (___ / 3 Punkte) </div>\n"
   ]
  },
  {
   "attachments": {},
   "cell_type": "markdown",
   "metadata": {},
   "source": [
    "### c) Exponentieller Aufwand\n",
    "Definieren Sie eine Funktion mit exponentiellem Aufwand, z.B. $O(2^n)$ oder $O(3^n)$."
   ]
  },
  {
   "cell_type": "code",
   "execution_count": null,
   "metadata": {},
   "outputs": [],
   "source": [
    "myList = [x for x in range(10)]\n",
    "# define a function with e.g. O(2^n) or O(3^n) complexity\n",
    "def function3(myList):\n",
    "    pass"
   ]
  },
  {
   "attachments": {},
   "cell_type": "markdown",
   "metadata": {},
   "source": [
    "<div style=\"text-align: right\"> (___ / 3 Punkte) </div>\n"
   ]
  },
  {
   "attachments": {},
   "cell_type": "markdown",
   "metadata": {},
   "source": [
    "### d) Logarithmischer Aufwand\n",
    "Definieren Sie eine Funktion mit logarithmischem Aufwand $O(\\log(n))$."
   ]
  },
  {
   "cell_type": "code",
   "execution_count": null,
   "metadata": {},
   "outputs": [],
   "source": [
    "myList = [x for x in range(10)]\n",
    "# define a function with O(log(n)) complexity\n",
    "def function4(myList):\n",
    "    pass"
   ]
  },
  {
   "attachments": {},
   "cell_type": "markdown",
   "metadata": {},
   "source": [
    "<div style=\"text-align: right\"> (___ / 3 Punkte) </div>\n"
   ]
  },
  {
   "cell_type": "markdown",
   "metadata": {},
   "source": [
    "## Abgabe\n",
    "Bitte denken Sie daran, ihre Notebook-Datei auf den Abgabe-Server hochzuladen.\n",
    "\n",
    "https://privacy.dhbw-stuttgart.de/wwi2022b.html"
   ]
  }
 ],
 "metadata": {
  "kernelspec": {
   "display_name": "Python 3",
   "language": "python",
   "name": "python3"
  },
  "language_info": {
   "codemirror_mode": {
    "name": "ipython",
    "version": 3
   },
   "file_extension": ".py",
   "mimetype": "text/x-python",
   "name": "python",
   "nbconvert_exporter": "python",
   "pygments_lexer": "ipython3",
   "version": "3.11.6"
  },
  "orig_nbformat": 4
 },
 "nbformat": 4,
 "nbformat_minor": 2
}
