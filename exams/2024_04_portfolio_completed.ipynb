{
 "cells": [
  {
   "cell_type": "markdown",
   "metadata": {},
   "source": [
    "# Portfolio Prüfung WWI2023B\n",
    "Bitte bearbeiten Sie alle Aufgaben direkt  hier im Notebook und geben Sie die .ipynb-Datei am Ende der Portfolio-Prüfung [hier](https://privacy.dhbw-stuttgart.de/wwi2022b.html) ab.\n",
    "Für Aufgaben die ohne Code erstellt werden, steht nach der Aufgabenstellung ein Markdown Antwortfeld zur Verfügung. \n",
    "Für Aufgaben bei denen ein Code verlangt wird, befindet sich nach der Aufgabenstellung ein interaktives Code-Feld (ggf. mit schon vorab ausgefüllten Code-Fragementen).\n",
    "\n",
    "Viel Erfolg "
   ]
  },
  {
   "cell_type": "markdown",
   "metadata": {},
   "source": [
    "## Aufgabe 1 Python Basics\n",
    "\n",
    "a) Ersetzen Sie unten in der Definition der Variable `myName` den String \"PeterMueller\" durch Ihren Namen. Geben Sie anschließend:\n",
    "\n",
    "- Ihren Namen ganz normal, \n",
    "- Ihren Namen rückwärts und \n",
    "- einmal nur die Vokale (a,e,i,o,u) ihres Namens\n",
    "\n",
    "aus. Verwenden Sie hierfür die Variable `myName`. \n",
    "\n",
    "Beispielausgabe:\n",
    "```\n",
    "myName = \"PeterMueller\"\n",
    "PeterMueller\n",
    "relleuMreteP\n",
    "['e', 'e', 'u', 'e', 'e']\n",
    "```\n",
    "Hinweis: Der Befehl `print(\"eeuee\")` gibt zwar, wenn der Name \"PeterMueller\" lautet, auch die korrekte Lösung zum letzten Aufgabenteil aus, wird aber, da er nicht die Variable `myName` verwendet, nicht als korrekt gewertet."
   ]
  },
  {
   "cell_type": "code",
   "execution_count": null,
   "metadata": {},
   "outputs": [],
   "source": [
    "myName = \"PeterMueller\"\n",
    "print(myName)\n",
    "print(myName[::-1])\n",
    "print([x for x in myName if x in [\"a\",\"e\",\"i\",\"o\",\"u\"]])"
   ]
  },
  {
   "cell_type": "markdown",
   "metadata": {},
   "source": [
    "<div style=\"text-align: right\"> (___ / 4 Punkte) </div>"
   ]
  },
  {
   "cell_type": "markdown",
   "metadata": {},
   "source": [
    "b) Ersetzen Sie die Fragezeichen im unten stehenden Code so, dass die Ausgabe der Code-Zeile `ok` lautet."
   ]
  },
  {
   "cell_type": "code",
   "execution_count": null,
   "metadata": {},
   "outputs": [],
   "source": [
    "my_string = 'Good Luck'\n",
    "print(my_string[2::6]) # ok"
   ]
  },
  {
   "cell_type": "markdown",
   "metadata": {},
   "source": [
    "<div style=\"text-align: right\"> (___ / 3 Punkte) </div>"
   ]
  },
  {
   "cell_type": "markdown",
   "metadata": {},
   "source": [
    "c) Gegeben ist das unten stehende Python-Dictionary. Ergänzen Sie die Funktion `calculate_best_grade()`, welche die beste Note (1 ist die beste, 6 die schlechteste Note) jedes Studenten zurückgibt. Die Funktion `calculate_best_grade(student_grades)` sollte ein Dictionary `best_grades` zurückgeben, in dem die Schlüssel die Namen der Schüler sind und die Werte ihre Durchschnittsnote."
   ]
  },
  {
   "cell_type": "code",
   "execution_count": null,
   "metadata": {},
   "outputs": [],
   "source": [
    "student_grades = {\n",
    "    'Alice': [1.1, 2.2, 3.2],\n",
    "    'Bob': [3.3, 2.5, 1.2],\n",
    "    'Charlie': [1.7, 1.3, 1.3]\n",
    "}\n",
    "\n",
    "def calculate_best_grade(list_of_grades):\n",
    "    best_grades = {}\n",
    "    for student in list_of_grades:\n",
    "        max = list_of_grades[student][0]\n",
    "        for grade in list_of_grades[student]:\n",
    "            if grade < max:\n",
    "                max = grade\n",
    "        best_grades[student] = max\n",
    "\n",
    "    return best_grades     \n",
    "\n",
    "print(calculate_best_grade(student_grades)) # Ausgabe: {'Alice': 1.1, 'Bob': 1.2, 'Charlie': 1.3}"
   ]
  },
  {
   "cell_type": "markdown",
   "metadata": {},
   "source": [
    "<div style=\"text-align: right\"> (___ / 6 Punkte) </div>"
   ]
  },
  {
   "cell_type": "markdown",
   "metadata": {},
   "source": [
    "d) Schreiben Sie eine Python-Funktion namens `sum_of_characters`, welche die Anzahl an Buchstaben (Charakteren) eines übergebenden Strings zurückliefert.\n",
    "\n",
    "Beispielausgaben:\n",
    "\n",
    "  `sum_of_characters(\"hello wwi2023b\")`-> Ausgabe 14\n",
    "  \n",
    "  `sum_of_digits(hello)` -> Ausgabe 892"
   ]
  },
  {
   "cell_type": "code",
   "execution_count": null,
   "metadata": {},
   "outputs": [],
   "source": [
    "def sum_of_characters(string):\n",
    "    \n",
    "    anz = 0\n",
    "    for c in string:\n",
    "        anz += 1\n",
    "    return anz\n",
    "\n",
    "print(sum_of_characters(\"hello wwi2023b\"))\n",
    "print(sum_of_characters(hello))"
   ]
  },
  {
   "cell_type": "markdown",
   "metadata": {},
   "source": [
    "<div style=\"text-align: right\"> (___ / 5 Punkte) </div>"
   ]
  },
  {
   "cell_type": "markdown",
   "metadata": {},
   "source": [
    "## Aufgabe 2 Komplexität von Algorithmen\n",
    "### a) Geben Sie jeweils für die angegebenen Funktionen den Aufwand in der Landau-Notation (Big-Oh) an.\n",
    "Ersesetzen Sie das ? im Text. Doppelklick auf die Zelle öffnet diese im Bearbeitungsmodus."
   ]
  },
  {
   "cell_type": "code",
   "execution_count": null,
   "metadata": {},
   "outputs": [],
   "source": [
    "def funktion1(lst):\n",
    "    total = 0\n",
    "    n =len(lst)\n",
    "    for elem in n*n:\n",
    "        total += elem\n",
    "    return total"
   ]
  },
  {
   "cell_type": "markdown",
   "metadata": {},
   "source": [
    "Der Aufwand für `funktion1` beträgt $O(?)$."
   ]
  },
  {
   "cell_type": "code",
   "execution_count": null,
   "metadata": {},
   "outputs": [],
   "source": [
    "def compare_pairs(lst):\n",
    "    for i in range(len(lst)):\n",
    "        for j in range(i + 1, len(lst)):\n",
    "            if lst[i] == lst[j]:\n",
    "                print(f\"{lst[i]} und {lst[j]} sind gleich.\")\n"
   ]
  },
  {
   "cell_type": "markdown",
   "metadata": {},
   "source": [
    "Der Aufwand für `compare_pairs` beträgt $O(?)$."
   ]
  },
  {
   "cell_type": "code",
   "execution_count": null,
   "metadata": {},
   "outputs": [],
   "source": [
    "def find(lst, x):\n",
    "    for elem in lst:\n",
    "        if x == elem:\n",
    "            return True\n",
    "    else:\n",
    "        return False"
   ]
  },
  {
   "cell_type": "markdown",
   "metadata": {},
   "source": [
    "Der Aufwand für `find` beträgt $O(?)$."
   ]
  },
  {
   "cell_type": "markdown",
   "metadata": {},
   "source": [
    "<div style=\"text-align: right\"> (___ / 6 Punkte) </div>\n"
   ]
  },
  {
   "cell_type": "markdown",
   "metadata": {},
   "source": [
    "## b) Aufwand von Standardalgorithmen\n",
    "\n",
    "Vervollständigen Sie folgende Tabelle (Doppelklick bringt Sie in den Bearbeitungsmodus):\n",
    "\n",
    "| **Algorithmus**       | **Aufwand (Big-O)** |\n",
    "|-----------------------|---------------------|\n",
    "|                       | O(n)                |\n",
    "| Binäre Suche          |                     |\n",
    "|                       | O(n^2)              |\n",
    "| Hash Sort             |                     |\n"
   ]
  },
  {
   "cell_type": "markdown",
   "metadata": {},
   "source": [
    "<div style=\"text-align: right\"> (___ / 4 Punkte) </div>\n"
   ]
  },
  {
   "cell_type": "markdown",
   "metadata": {},
   "source": [
    "## Aufgabe 3 Linked Queue\n",
    "Gegeben ist der folgende Code für eine verlinkte Queue:"
   ]
  },
  {
   "cell_type": "code",
   "execution_count": 5,
   "metadata": {},
   "outputs": [],
   "source": [
    "class LinkedQueue:\n",
    "    class Node:\n",
    "        def __init__(self,val, next=None):\n",
    "            self.value = val\n",
    "            self.next = next\n",
    "    \n",
    "    def __init__(self) -> None:\n",
    "        self.head = self.tail = None\n",
    "\n",
    "    def enqueue(self, value):\n",
    "        # enqueues an element at the end of the queue\n",
    "        if self.tail:\n",
    "            self.tail.next = self.tail = LinkedQueue.Node(value)\n",
    "        else:\n",
    "            self.head = self.tail = LinkedQueue.Node(value)\n",
    "    \n",
    "    def __iter__(self):\n",
    "        node = self.head\n",
    "        while node:\n",
    "            yield node.value\n",
    "            node = node.next\n",
    "    \n",
    "    def __repr__(self) -> str:\n",
    "        return '[' + ', '.join(repr(x) for x in self) + ']'\n"
   ]
  },
  {
   "cell_type": "markdown",
   "metadata": {},
   "source": [
    "### a) Dequeue und Empty\n",
    "Implementieren Sie die Funktionen `dequeue()`, welche das erste Element der Liste zurückgibt und aus der Liste löscht. Implementieren Sie zusätzlich die Funktion `empty()`, welche `True` zurückliefert, wenn die Liste leer ist, ansonsten `False`."
   ]
  },
  {
   "cell_type": "code",
   "execution_count": null,
   "metadata": {},
   "outputs": [],
   "source": [
    "class LinkedQueue(LinkedQueue):    \n",
    "    def dequeue(self): \n",
    "        assert not self.empty()\n",
    "        retValue = self.head.value\n",
    "        self.head = self.head.next\n",
    "        if self.head is None:\n",
    "            self.tail = self.head\n",
    "            \n",
    "        return retValue\n",
    "        \n",
    "    \n",
    "    def empty(self):\n",
    "        return self.head == None"
   ]
  },
  {
   "cell_type": "markdown",
   "metadata": {},
   "source": [
    "<div style=\"text-align: right\"> (___ / 6 Punkte) </div>\n"
   ]
  },
  {
   "cell_type": "code",
   "execution_count": null,
   "metadata": {},
   "outputs": [],
   "source": [
    "myQueue= LinkedQueue()\n",
    "for i in range(5):\n",
    "    myQueue.enqueue(i)\n",
    "\n",
    "while not myQueue.empty():\n",
    "    print(myQueue.dequeue())\n",
    "print(myQueue.empty())"
   ]
  },
  {
   "cell_type": "markdown",
   "metadata": {},
   "source": [
    "### b) Maximum aller Elemente\n",
    "Implementieren Sie eine Funktion `masx(self)`, welche das Maximum aller Elemente der LinkedQueue zurückgibt. Gehen Sie davon aus, dass die Liste nur Knoten mit Zahlen als Werten enthält. \n",
    "\n",
    "Beispiel: \n",
    "Das Maximum der LinkedQueue mit den Werten [1,5,3,4] beträgt 5.\n"
   ]
  },
  {
   "cell_type": "code",
   "execution_count": 8,
   "metadata": {},
   "outputs": [],
   "source": [
    "class LinkedQueue(LinkedQueue):\n",
    "    def max(self):\n",
    "        actNode = self.head\n",
    "        if actNode:\n",
    "            max = self.head.value\n",
    "        else:\n",
    "            max = None\n",
    "        while actNode:\n",
    "            if actNode.value > max:\n",
    "                max = actNode.value\n",
    "            actNode = actNode.next\n",
    "\n",
    "        return max\n"
   ]
  },
  {
   "cell_type": "markdown",
   "metadata": {},
   "source": [
    "<div style=\"text-align: right\"> (___ / 4 Punkte) </div>\n"
   ]
  },
  {
   "cell_type": "code",
   "execution_count": null,
   "metadata": {},
   "outputs": [],
   "source": [
    "myQueue = LinkedQueue()\n",
    "for i in range(5,1,-1):\n",
    "    myQueue.enqueue(i)\n",
    "\n",
    "print(myQueue.max()) #5"
   ]
  },
  {
   "cell_type": "markdown",
   "metadata": {},
   "source": [
    "### c) Einfügen vor\n",
    "Implementieren Sie eine Funktion `addBefore(self, value, targetNodeValue)`, welche einen Knoten mit dem Werte `value` direkt vor dem ersten Knoten mit dem Wert `targetNodeValue` einfügt. Geben Sie eine Meldung aus, falls die Liste leer ist oder kein Knoten der Liste den Wert `targetNodeValue` besitzt."
   ]
  },
  {
   "cell_type": "code",
   "execution_count": null,
   "metadata": {},
   "outputs": [],
   "source": [
    "class LinkedQueue(LinkedQueue):\n",
    "    def addBefore(self, value, targetNodeValue):\n",
    "        assert not self.empty()\n",
    "\n",
    "        # head value == targetNodeValue so prepend\n",
    "        if self.head.value == targetNodeValue:\n",
    "            newNode = LinkedQueue.Node(value, self.head)\n",
    "            self.head = newNode\n",
    "            return\n",
    "\n",
    "        # check all other nodes\n",
    "        node = self.head\n",
    "        while node.next:\n",
    "            if node.next.value == targetNodeValue:\n",
    "                newNode = LinkedQueue.Node(value,node.next)\n",
    "                node.next = newNode\n",
    "                return\n",
    "            node = node.next\n",
    "        \n",
    "        #if we end up here, we didn't found the targetNode so raise an Keyerror\n",
    "        raise(KeyError(\"targetNodeValue not found\"))\n",
    "        "
   ]
  },
  {
   "cell_type": "markdown",
   "metadata": {},
   "source": [
    "<div style=\"text-align: right\"> (___ / 6 Punkte) </div>\n"
   ]
  },
  {
   "cell_type": "code",
   "execution_count": null,
   "metadata": {},
   "outputs": [],
   "source": [
    "myQueue = LinkedQueue()\n",
    "for x in range(4):\n",
    "    myQueue.enqueue(x)\n",
    "\n",
    "print(myQueue)\n",
    "myQueue.addBefore(10,1)\n",
    "print(myQueue)\n"
   ]
  },
  {
   "cell_type": "markdown",
   "metadata": {},
   "source": [
    "## Aufgabe 4 Implementieren einer Array-List\n",
    "In der Vorlesung wurde eine Array-Backed-List vorgestellt. Unten steht der beinahe vollständige Code für diesen Datentyp. Führen Sie diesen einmal aus, bevor Sie sich an die Teilaufgaben machen.\n"
   ]
  },
  {
   "cell_type": "code",
   "execution_count": 17,
   "metadata": {},
   "outputs": [],
   "source": [
    "# run one time\n",
    "\n",
    "# Array Backed List\n",
    "import numpy as np\n",
    "\n",
    "class ArrayList:\n",
    "    def __init__(self):\n",
    "        self.data = np.empty(1, dtype=object)\n",
    "        self.size = 0\n",
    "\n",
    "\n",
    "    def append(self, value):\n",
    "        if self.size == len(self.data): # if the backing array is full\n",
    "            ndata = np.empty(len(self.data)*2, dtype=object) # create a new one with double the capacity\n",
    "            for i in range(len(self.data)): # copy elements over\n",
    "                ndata[i] = self.data[i]\n",
    "            self.data = ndata # replace our backing store with the new array\n",
    "            \n",
    "        self.data[self.size] = value\n",
    "        self.size += 1\n",
    "\n",
    "    def __getitem__(self, idx):\n",
    "        \"\"\"Implements `x = self[idx]`\"\"\"\n",
    "        assert isinstance(idx, int), 'Index must be an integer'\n",
    "        if idx < 0:\n",
    "            idx += self.size\n",
    "        if idx < 0 or idx >= self.size:\n",
    "            raise IndexError('list index out of range')\n",
    "        return self.data[idx]     \n",
    "\n",
    "    def __delitem__(self, idx):\n",
    "        \"\"\"Implements `del self[idx]`\"\"\"\n",
    "        assert isinstance(idx, int), 'Index must be an integer'\n",
    "        if idx < 0:\n",
    "            idx += self.size\n",
    "        if idx < 0 or idx >= self.size:\n",
    "            raise IndexError('list index out of range')\n",
    "        for i in range(idx, self.size-1):\n",
    "            self.data[i] = self.data[i+1]\n",
    "        self.size -= 1\n",
    "           \n",
    "    def __repr__(self):\n",
    "        \"\"\"Supports inspection\"\"\"\n",
    "        return '[' + ','.join(repr(self.data[i]) for i in range(self.size)) + ']'"
   ]
  },
  {
   "cell_type": "markdown",
   "metadata": {},
   "source": [
    "### a) Definition vervollständigen\n",
    "Ergänzen Sie in der Implementierung die Methoden `setitem` und `len`."
   ]
  },
  {
   "cell_type": "code",
   "execution_count": null,
   "metadata": {},
   "outputs": [],
   "source": [
    "# add the missing code in method setitem and method len:\n",
    "\n",
    "class ArrayList (ArrayList):\n",
    "    def __setitem__(self,idx,value):\n",
    "        \"\"\"Implements `x = self[idx]`\"\"\"\n",
    "        pass # das \"pass\" sollten Sie durch geeigneten Code ersetzen\n",
    "        \n",
    "\n",
    "    def __len__(self):\n",
    "        \"\"\"Should return the number of elements in the ArrayList\"\"\"\n",
    "        pass # das \"pass\" sollten Sie durch geeigneten Code ersetzen\n",
    "        \n",
    "        \n",
    "             "
   ]
  },
  {
   "cell_type": "code",
   "execution_count": null,
   "metadata": {},
   "outputs": [],
   "source": [
    "# you can check your code with the following statements:\n",
    "myList = ArrayList()\n",
    "for i in range(10):\n",
    "    myList.append(i)\n",
    "    \n",
    "myList[0] = 9\n",
    "myList[9] = 0\n",
    "\n",
    "\n",
    "assert myList[0] == 9\n",
    "assert myList[9] == 0\n",
    "assert len(myList) == 10\n",
    "\n",
    "# if everything is fine, no output should be created, otherwise an assertion error should be raised"
   ]
  },
  {
   "cell_type": "markdown",
   "metadata": {},
   "source": [
    "<div style=\"text-align: right\"> (___ / 5 Punkte) </div>\n"
   ]
  },
  {
   "cell_type": "markdown",
   "metadata": {},
   "source": [
    "## b) Sortieren\n",
    "Implementieren Sie eine Methode `sort(self)` für die obige ArrayList-Klasse. Diese Methode soll die Elemente der Liste absteigend sortieren."
   ]
  },
  {
   "cell_type": "code",
   "execution_count": null,
   "metadata": {},
   "outputs": [],
   "source": [
    "class ArrayList(ArrayList):\n",
    "    def sort(self):\n",
    "        \"\"\"Sorts the list using Insertion Sort algorithm\"\"\"\n",
    "        pass # das \"pass\" sollten Sie durch geeigneten Code ersetzen"
   ]
  },
  {
   "cell_type": "markdown",
   "metadata": {},
   "source": [
    "Sie können Ihre Methode mit folgendem Code testen:"
   ]
  },
  {
   "cell_type": "code",
   "execution_count": null,
   "metadata": {},
   "outputs": [],
   "source": [
    "my_list = ArrayList()\n",
    "my_list.append(2)\n",
    "my_list.append(4)\n",
    "my_list.append(3)\n",
    "my_list.append(1)\n",
    "my_list.sort()\n",
    "print(my_list) # Ausgabe [4 3 2 1]"
   ]
  },
  {
   "cell_type": "markdown",
   "metadata": {},
   "source": [
    "<div style=\"text-align: right\"> (___ / 6 Punkte) </div>\n"
   ]
  },
  {
   "cell_type": "markdown",
   "metadata": {},
   "source": [
    "## c) Die Liste filtern\n",
    "Ergänzen Sie die ArrayList-Klasse um eine Methode `filter(value)`, die eine neue ArrayList zurückgibt, die nur die Elemente enthält, deren Wert größer als das angegebene `value` ist."
   ]
  },
  {
   "cell_type": "code",
   "execution_count": 18,
   "metadata": {},
   "outputs": [],
   "source": [
    "class ArrayList(ArrayList):\n",
    "    def filter(self, value):\n",
    "        \"\"\"Returns a new ArrayList containing only the elements that satisfy the predicate\"\"\"\n",
    "        filtered_list = ArrayList()\n",
    "        for i in range(self.size):\n",
    "            if self.data[i] > value:\n",
    "                filtered_list.append(self.data[i])\n",
    "        return filtered_list"
   ]
  },
  {
   "cell_type": "markdown",
   "metadata": {},
   "source": [
    "Sie können Ihre Methode mit folgendem Code testen:"
   ]
  },
  {
   "cell_type": "code",
   "execution_count": 19,
   "metadata": {},
   "outputs": [
    {
     "name": "stdout",
     "output_type": "stream",
     "text": [
      "Ursprüngliche Liste: [1,2,3,4,5]\n",
      "Gefilterte Liste (gerade Zahlen): [4,5]\n"
     ]
    }
   ],
   "source": [
    "# Test der filter-Funktion\n",
    "numbers = ArrayList()\n",
    "numbers.append(1)\n",
    "numbers.append(2)\n",
    "numbers.append(3)\n",
    "numbers.append(4)\n",
    "numbers.append(5)\n",
    "\n",
    "\n",
    "filtered_numbers = numbers.filter(3)\n",
    "print(\"Ursprüngliche Liste:\", numbers) # Ausgabe [1 2 3 4 5]\n",
    "print(\"Gefilterte Liste (gerade Zahlen):\", filtered_numbers) # Ausgabe [4 5]"
   ]
  },
  {
   "cell_type": "markdown",
   "metadata": {},
   "source": [
    "<div style=\"text-align: right\"> (___ / 5 Punkte) </div>\n"
   ]
  }
 ],
 "metadata": {
  "kernelspec": {
   "display_name": "Python 3",
   "language": "python",
   "name": "python3"
  },
  "language_info": {
   "codemirror_mode": {
    "name": "ipython",
    "version": 3
   },
   "file_extension": ".py",
   "mimetype": "text/x-python",
   "name": "python",
   "nbconvert_exporter": "python",
   "pygments_lexer": "ipython3",
   "version": "3.11.9"
  }
 },
 "nbformat": 4,
 "nbformat_minor": 2
}
