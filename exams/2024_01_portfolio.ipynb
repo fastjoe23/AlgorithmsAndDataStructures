{
 "cells": [
  {
   "cell_type": "markdown",
   "metadata": {},
   "source": [
    "# Portfolio Prüfung WWI2023B\n",
    "Bitte bearbeiten Sie alle Aufgaben direkt  hier im Notebook und geben Sie die .ipynb-Datei am Ende der Portfolio-Prüfung [hier](https://privacy.dhbw-stuttgart.de/wwi2022b.html) ab.\n",
    "Für Aufgaben die ohne Code erstellt werden, steht nach der Aufgabenstellung ein Markdown Antwortfeld zur Verfügung. \n",
    "Für Aufgaben bei denen ein Code verlangt wird, befindet sich nach der Aufgabenstellung ein interaktives Code-Feld (ggf. mit schon vorab ausgefüllten Code-Fragementen).\n",
    "\n",
    "Viel Erfolg "
   ]
  },
  {
   "cell_type": "markdown",
   "metadata": {},
   "source": [
    "## Aufgabe 1 Python Basics\n",
    "\n",
    "Ersetzen Sie die Fragezeichen im unten stehenden Code so, dass der Befehl `print(squared)` die Ausgabe `[1, 4, 9, 16, 25]` erzeugt. Verwenden Sie zur Erzeugung der Quadratzahlen die Variable `numbers`. Eine direkte Zuweisung von [1,4,6,9,16,25] an `squared` ist nicht erlaubt."
   ]
  },
  {
   "cell_type": "code",
   "execution_count": null,
   "metadata": {},
   "outputs": [],
   "source": [
    "numbers = [1, 2, 3, 4, 5]\n",
    "squared = [??]\n",
    "print(squared)\n"
   ]
  },
  {
   "cell_type": "markdown",
   "metadata": {},
   "source": [
    "<div style=\"text-align: right\"> (___ / 2 Punkte) </div>"
   ]
  },
  {
   "cell_type": "markdown",
   "metadata": {},
   "source": [
    "Ersetzen Sie die Fragezeichen im unten stehenden Code so, dass die Ausgabe der Code-Zeile `Hlo` lautet."
   ]
  },
  {
   "cell_type": "code",
   "execution_count": null,
   "metadata": {},
   "outputs": [],
   "source": [
    "my_string = 'Hello WWI'\n",
    "print(my_string[?:?:?])"
   ]
  },
  {
   "cell_type": "markdown",
   "metadata": {},
   "source": [
    "<div style=\"text-align: right\"> (___ / 2 Punkte) </div>"
   ]
  },
  {
   "cell_type": "markdown",
   "metadata": {},
   "source": [
    "Gegeben ist das unten stehende Python-Dictionary. Ergänzen Sie die Funktion `calculate_average_grade()`, welche die Durchschnittsnote jedes Studenten zurückgibt. Die Funktion `calculate_average_grade(student_grades)` sollte ein Dictionary `av_grades` zurückgeben, in dem die Schlüssel die Namen der Schüler sind und die Werte ihre Durchschnittsnote."
   ]
  },
  {
   "cell_type": "code",
   "execution_count": null,
   "metadata": {},
   "outputs": [],
   "source": [
    "student_grades = {\n",
    "    'Alice': [85, 90, 92],\n",
    "    'Bob': [70, 80, 75],\n",
    "    'Charlie': [95, 85, 90]\n",
    "}\n",
    "\n",
    "def calculate_average_grade(list_of_grades):\n",
    "    av_grades = {}\n",
    "\n",
    "    pass # das \"pass\" sollten Sie durch geeigneten Code ersetzen\n",
    "\n",
    "    return av_grades     \n",
    "\n",
    "print(calculate_average_grade(student_grades)) # Ausgabe: {'Alice': 89.0, 'Bob': 75.0, 'Charlie': 90.0}"
   ]
  },
  {
   "cell_type": "markdown",
   "metadata": {},
   "source": [
    "<div style=\"text-align: right\"> (___ / 5 Punkte) </div>"
   ]
  },
  {
   "cell_type": "markdown",
   "metadata": {},
   "source": [
    "Schreiben Sie eine Python-Funktion namens `sum_of_digits`, die die Summe der Ziffern (die Quersumme) einer gegebenen Zahl berechnet.\n",
    "\n",
    "Beispielausgaben:\n",
    "\n",
    "  `sum_of_digits(123)`: 1 + 2 + 3 = 6\n",
    "  \n",
    "  `sum_of_digits(456)`: 4 + 5 + 6 = 15"
   ]
  },
  {
   "cell_type": "code",
   "execution_count": null,
   "metadata": {},
   "outputs": [],
   "source": [
    "def sum_of_digits(digits):\n",
    "    pass # das \"pass\" sollten Sie durch geeigneten Code ersetzen\n",
    "\n",
    "print(sum_of_digits(123))\n",
    "print(sum_of_digits(456))"
   ]
  },
  {
   "cell_type": "markdown",
   "metadata": {},
   "source": [
    "<div style=\"text-align: right\"> (___ / 4 Punkte) </div>\n"
   ]
  },
  {
   "cell_type": "markdown",
   "metadata": {},
   "source": [
    "# Aufgabe 2 Komplexität von Algorithmen\n",
    "Definieren Sie die Funktionen `funktion1, funktion2, funktion3` so dass sie die angegeebene Komplexität besitzen. Es soll gelten:\n",
    "| Funktion     | Aufwand |\n",
    "|--------------|---------|\n",
    "| funktion1    | $O(n)$    |\n",
    "| funktion2    | $O(n^2)$    |\n",
    "| funktion3    | $O(log(n))$    |"
   ]
  },
  {
   "cell_type": "code",
   "execution_count": null,
   "metadata": {},
   "outputs": [],
   "source": [
    "def funktion1(n):\n",
    "    pass # das \"pass\" sollten Sie durch geeigneten Code ersetzen\n",
    "\n",
    "def funktion2(n):\n",
    "    pass\n",
    "\n",
    "def funktion3(n):\n",
    "    pass\n",
    "    \n",
    "    "
   ]
  },
  {
   "cell_type": "markdown",
   "metadata": {},
   "source": [
    "<div style=\"text-align: right\"> (___ / 9 Punkte) </div>\n"
   ]
  },
  {
   "cell_type": "markdown",
   "metadata": {},
   "source": [
    "Sie können sich den Aufwand der von Ihnen definierten Funktionen (falls sie korrekt codiert sind) mit der folgenden Code-Zelle visualisieren lassen."
   ]
  },
  {
   "cell_type": "code",
   "execution_count": null,
   "metadata": {},
   "outputs": [],
   "source": [
    "import matplotlib.pyplot as plt\n",
    "import numpy as np\n",
    "import timeit\n",
    "\n",
    "ns = np.linspace(1, 1000, 50, dtype=int)\n",
    "\n",
    "ts1 = [timeit.timeit(stmt=f'funktion1({n})', \n",
    "                     #setup= f'',\n",
    "                     globals=globals(), \n",
    "                     number=3)\n",
    "       for n in ns]\n",
    "\n",
    "ts2 = [timeit.timeit(stmt=f'funktion2({n})', \n",
    "                     #setup= f'',\n",
    "                     globals=globals(), \n",
    "                     number=3)\n",
    "       for n in ns]\n",
    "\n",
    "ts3 = [timeit.timeit(stmt=f'funktion3({n})', \n",
    "                     #setup= f'',\n",
    "                     globals=globals(), \n",
    "                     number=3)\n",
    "       for n in ns]\n",
    "\n",
    "fig, (ax1, ax2, ax3) = plt.subplots(1,3)\n",
    "ax1.plot(ns, ts1, 'ob')\n",
    "ax2.plot(ns,ts2,'or')\n",
    "ax3.plot(ns,ts3,'og')"
   ]
  },
  {
   "cell_type": "markdown",
   "metadata": {},
   "source": [
    "# Aufgabe 3 Array-List\n",
    "Gegeben ist der folgende Code für eine array-backed-list:"
   ]
  },
  {
   "cell_type": "code",
   "execution_count": null,
   "metadata": {},
   "outputs": [],
   "source": [
    "# Array Backed List\n",
    "import numpy as np\n",
    "class ArrayList:\n",
    "    def __init__(self):\n",
    "        self.data = np.empty(1, dtype=object)\n",
    "        self.size = 0\n",
    "\n",
    "    def append(self, value):\n",
    "        if self.size == len(self.data): \n",
    "            ndata = np.empty(len(self.data)*2, dtype=object) \n",
    "            for i in range(len(self.data)): \n",
    "                ndata[i] = self.data[i]\n",
    "            self.data = ndata             \n",
    "        self.data[self.size] = value\n",
    "        self.size += 1   \n",
    "\n",
    "    def __setitem__(self,idx,value):\n",
    "        \"\"\"Implements `x = self[idx]`\"\"\"\n",
    "        assert isinstance(idx, int), 'Index must be an integer'\n",
    "        if idx < 0:\n",
    "            idx += self.size\n",
    "        if idx < 0 or idx >= self.size:\n",
    "            raise IndexError('list index out of range')\n",
    "        self.data[idx] = value      \n",
    "\n",
    "    def __len__(self):\n",
    "        \"\"\"Should return the number of elements in the ArrayList\"\"\"\n",
    "        return self.size\n",
    "\n",
    "    def __repr__(self):\n",
    "        return str(self.data[:self.size])"
   ]
  },
  {
   "cell_type": "markdown",
   "metadata": {},
   "source": [
    "## a) Zugriff\n",
    "Vervollständigen Sie die Definition und ergänzen Sie die Funktion `__getitem__(self, idx)` welche das Element an einem bestimmten Index zurückliefert. "
   ]
  },
  {
   "cell_type": "code",
   "execution_count": null,
   "metadata": {},
   "outputs": [],
   "source": [
    "class ArrayList(ArrayList):\n",
    "    def __getitem__(self, idx):\n",
    "        \"\"\"Implements `x = self[idx]`\"\"\"  \n",
    "        pass # Sie sollten das \"pass\" durch geeigneten Code ersetzen. "
   ]
  },
  {
   "cell_type": "markdown",
   "metadata": {},
   "source": [
    "Sie können ihre Funktion mit folgendem Code testen:"
   ]
  },
  {
   "cell_type": "code",
   "execution_count": null,
   "metadata": {},
   "outputs": [],
   "source": [
    "my_list = ArrayList()\n",
    "for i in range(50):\n",
    "    my_list.append(i)\n",
    "\n",
    "print(my_list[0])  # Erwartete Ausgabe: 0\n",
    "print(my_list[11])  # Erwartete Ausgabe: 11\n",
    "print(my_list[-1]) # Erwartete Ausgabe: 49\n"
   ]
  },
  {
   "cell_type": "markdown",
   "metadata": {},
   "source": [
    "<div style=\"text-align: right\"> (___ / 5 Punkte) </div>\n"
   ]
  },
  {
   "cell_type": "markdown",
   "metadata": {},
   "source": [
    "## b) Löschen\n",
    "Implementieren Sie eine Methode `remove(item)` für die obige ArrayList-Klasse. Diese Methode soll ein Element aus der ArrayList entfernen, falls es vorhanden ist.\n",
    "\n",
    "Die Methode soll wie folgt funktionieren:\n",
    "- Wenn das angegebene Element `item` in der ArrayList enthalten ist, sollen **alle** Vorkommen des Elements aus der Liste entfernt werden.\n",
    "- Wenn das Element nicht vorhanden ist, soll die Methode keine Änderungen an der ArrayList vornehmen.\n"
   ]
  },
  {
   "cell_type": "code",
   "execution_count": null,
   "metadata": {},
   "outputs": [],
   "source": [
    "class ArrayList(ArrayList):\n",
    "    def remove(self, item):\n",
    "        \"\"\"Removes all occurrences of the specified value from the ArrayList\"\"\"\n",
    "        pass # das \"pass\" sollten Sie durch geeigneten Code ersetzen"
   ]
  },
  {
   "cell_type": "markdown",
   "metadata": {},
   "source": [
    "Sie können Ihre Methode mit folgendem Code testen:"
   ]
  },
  {
   "cell_type": "code",
   "execution_count": null,
   "metadata": {},
   "outputs": [],
   "source": [
    "my_list = ArrayList()\n",
    "my_list.append(10)\n",
    "my_list.append(20)\n",
    "my_list.append(30)\n",
    "my_list.append(20)\n",
    "print(my_list)  # Ausgabe: [10, 20, 30, 20]\n",
    "\n",
    "my_list.remove(10)\n",
    "print(my_list)  # Ausgabe: [20, 30, 20]\n",
    "\n",
    "my_list.remove(20)\n",
    "print(my_list)  # Ausgabe: [30]\n",
    "\n",
    "my_list.remove(50) # Keine Änderung, da 50 nicht in der Liste enthalten ist\n",
    "print(my_list)  # Ausgabe: [30]"
   ]
  },
  {
   "cell_type": "markdown",
   "metadata": {},
   "source": [
    "<div style=\"text-align: right\"> (___ / 10 Punkte) </div>\n"
   ]
  },
  {
   "cell_type": "markdown",
   "metadata": {},
   "source": [
    "## c) Suchen in der Liste\n",
    "Implementieren Sie eine Methode `contains(value)` für die obige ArrayList. Diese Methode soll überprüfen, ob die ArrayList das angegebene Element `value` enthält.\n",
    "\n",
    "Die Methode soll wie folgt funktionieren:\n",
    "- Rückgabe `True`, wenn die ArrayList das angegebene Element `value` enthält.\n",
    "- Rückgabe `False`, wenn die ArrayList das angegebene Element `value` nicht enthält."
   ]
  },
  {
   "cell_type": "code",
   "execution_count": null,
   "metadata": {},
   "outputs": [],
   "source": [
    "class ArrayList(ArrayList):\n",
    "    def contains(self, value):\n",
    "        \"\"\"Checks if the ArrayList contains the specified value\"\"\"\n",
    "       pass # das \"pass\" sollten Sie durch geeigneten Code ersetzen"
   ]
  },
  {
   "cell_type": "markdown",
   "metadata": {},
   "source": [
    "Sie können Ihre Methode mit folgendem Code testen:"
   ]
  },
  {
   "cell_type": "code",
   "execution_count": null,
   "metadata": {},
   "outputs": [],
   "source": [
    "my_list = ArrayList()\n",
    "my_list.append(10)\n",
    "my_list.append(20)\n",
    "my_list.append(30)\n",
    "print(my_list.contains(20)) # Ausgabe: True\n",
    "print(my_list.contains(40)) # Ausgabe: False"
   ]
  },
  {
   "cell_type": "markdown",
   "metadata": {},
   "source": [
    "<div style=\"text-align: right\"> (___ / 6 Punkte) </div>\n"
   ]
  },
  {
   "cell_type": "markdown",
   "metadata": {},
   "source": [
    "# Aufgabe 4 Linked List\n",
    "Gegeben ist der unten stehende Code für eine Linked List."
   ]
  },
  {
   "cell_type": "code",
   "execution_count": null,
   "metadata": {},
   "outputs": [],
   "source": [
    "class LinkedList:\n",
    "    class Node:\n",
    "        def __init__(self, val, next):\n",
    "            self.val = val\n",
    "            self.next = next\n",
    "\n",
    "    def __init__(self):\n",
    "        self.top = None\n",
    "        self.size = 0  \n",
    "         \n",
    "    def prepend(self, value):\n",
    "        newNode = LinkedList.Node(value,self.top)\n",
    "        self.top = newNode\n",
    "        self.size += 1\n",
    "\n",
    "    def __iter__(self):\n",
    "        node = self.top\n",
    "        while node:\n",
    "            yield(node.val)\n",
    "            node = node.next\n",
    "          \n",
    "    def __repr__(self):\n",
    "        return '[' + ', '.join(str(x) for x in self) + ']'\n",
    "        \n",
    "        "
   ]
  },
  {
   "cell_type": "markdown",
   "metadata": {},
   "source": [
    "# a) Definition vervollständigen\n",
    "Der Liste fehlt noch die Methoden `__len__()` und `append()`. Implementieren Sie die `__len__`-Methode, welche die Anzahl an Elementen in der Liste zurück gibt. Erweitern Sie die `append(value)`-Methode so, dass sie ein Element mit dem Wert `value` ans Ende der Liste hängt."
   ]
  },
  {
   "cell_type": "code",
   "execution_count": null,
   "metadata": {},
   "outputs": [],
   "source": [
    "class LinkedList(LinkedList):\n",
    "    def __len__(self):\n",
    "        pass # das \"pass\" sollten Sie durch geeigneten Code ersetzen\n",
    "\n",
    "    def append(self, value):\n",
    "        pass # das \"pass\" sollten Sie durch geeigneten Code ersetzen\n",
    "\n"
   ]
  },
  {
   "cell_type": "markdown",
   "metadata": {},
   "source": [
    "Sie können Ihre Methoden mit folgenden Code testen:"
   ]
  },
  {
   "cell_type": "code",
   "execution_count": null,
   "metadata": {},
   "outputs": [],
   "source": [
    "my_linked_list = LinkedList()\n",
    "my_linked_list.append(10)\n",
    "print(my_linked_list) # Ausgabe [10]\n",
    "my_linked_list.append(20)\n",
    "print(my_linked_list) # Ausgabe [10, 20]\n",
    "my_linked_list.append(30)\n",
    "print(my_linked_list) # Ausgabe [10, 20, 30]"
   ]
  },
  {
   "cell_type": "markdown",
   "metadata": {},
   "source": [
    "<div style=\"text-align: right\"> (___ / 8 Punkte) </div>\n"
   ]
  },
  {
   "cell_type": "markdown",
   "metadata": {},
   "source": [
    "# b) Stack\n",
    "Die obige Klasse LinkedList enthält bereits einige grundlegende Methoden. Ihre Aufgabe ist es, diese Klasse in einen Stack umzuwandeln, indem Sie die Methoden push, pop und peek implementieren.\n",
    "- Implementieren Sie die Methode push(value), die ein neues Element mit dem angegebenen Wert oben auf den Stack legt.\n",
    "- Implementieren Sie die Methode pop(), die den Wert des obersten Elements vom Stack entfernt und zurück gibt.\n",
    "- Implementieren Sie die Methode peek(), die den Wert des obersten Elements auf dem Stack zurück gibt, ohne es zu entfernen."
   ]
  },
  {
   "cell_type": "code",
   "execution_count": null,
   "metadata": {},
   "outputs": [],
   "source": [
    "class Stack(LinkedList):\n",
    "\n",
    "    def push(self, value):\n",
    "        pass # das \"pass\" sollten Sie durch geeigneten Code ersetzen\n",
    "\n",
    "    def pop(self):\n",
    "        pass # das \"pass\" sollten Sie durch geeigneten Code ersetzen\n",
    "\n",
    "    def peek(self):\n",
    "        pass # das \"pass\" sollten Sie durch geeigneten Code ersetzen\n",
    "        "
   ]
  },
  {
   "cell_type": "markdown",
   "metadata": {},
   "source": [
    "Sie können Ihre Methoden mit folgenden Code testen:"
   ]
  },
  {
   "cell_type": "code",
   "execution_count": null,
   "metadata": {},
   "outputs": [],
   "source": [
    "my_stack = Stack()\n",
    "my_stack.push(10)\n",
    "my_stack.push(20)\n",
    "my_stack.push(30)\n",
    "\n",
    "print(my_stack) # Ausgabe [30, 20, 10]\n",
    "print(my_stack.peek())  # Ausgabe: 30\n",
    "print(my_stack.pop())   # Ausgabe: 30\n",
    "print(my_stack.pop())   # Ausgabe: 20\n",
    "print(my_stack.peek())  # Ausgabe: 10"
   ]
  },
  {
   "cell_type": "markdown",
   "metadata": {},
   "source": [
    "<div style=\"text-align: right\"> (___ / 9 Punkte) </div>\n"
   ]
  },
  {
   "cell_type": "markdown",
   "metadata": {},
   "source": [
    "# c) Liste sortieren\n",
    "Implementieren Sie eine Funktion `sort()`, welche die Elemente der LinkedList nach ihrer Größe sortiert. Das kleinste Element sollte an erster Stelle stehen, und das größte Element sollte an letzter Stelle stehen."
   ]
  },
  {
   "cell_type": "code",
   "execution_count": null,
   "metadata": {},
   "outputs": [],
   "source": [
    "class LinkedList(LinkedList):\n",
    "\n",
    "    def sort(self):\n",
    "        pass # das \"pass\" sollten Sie durch geeigneten Code ersetzen\n",
    "\n",
    "    "
   ]
  },
  {
   "cell_type": "markdown",
   "metadata": {},
   "source": [
    "Sie können Ihre Methoden mit folgenden Code testen:"
   ]
  },
  {
   "cell_type": "code",
   "execution_count": null,
   "metadata": {},
   "outputs": [],
   "source": [
    "my_unsorted_list = LinkedList()\n",
    "my_unsorted_list.prepend(10)\n",
    "my_unsorted_list.prepend(5)\n",
    "my_unsorted_list.prepend(20)\n",
    "my_unsorted_list.prepend(15)\n",
    "\n",
    "print(my_unsorted_list)        # Vor der Sortierung: [15,20, 5, 10]\n",
    "my_sorted_list = my_unsorted_list.sort()\n",
    "print(my_sorted_list)        # Nach der Sortierung: [5, 10, 15, 20]\n"
   ]
  },
  {
   "cell_type": "markdown",
   "metadata": {},
   "source": [
    "<div style=\"text-align: right\"> (___ / 15 Punkte) </div>\n"
   ]
  },
  {
   "cell_type": "markdown",
   "metadata": {},
   "source": [
    "# d) Liste umkehren\n",
    "Implementieren Sie eine Methode `reverse()`, welche die Reihenfolge der Elemente einer LinkedList umkehrt. Das erste Element sollte zum letzten Element werden, das zweite Element zum vorletzten usw."
   ]
  },
  {
   "cell_type": "code",
   "execution_count": null,
   "metadata": {},
   "outputs": [],
   "source": [
    "class LinkedList(LinkedList):\n",
    "    def reverse(self):\n",
    "        pass # das \"pass\" sollten Sie durch geeigneten Code ersetzen\n",
    "            "
   ]
  },
  {
   "cell_type": "markdown",
   "metadata": {},
   "source": [
    "Sie können Ihre Methoden mit folgenden Code testen:"
   ]
  },
  {
   "cell_type": "code",
   "execution_count": null,
   "metadata": {},
   "outputs": [],
   "source": [
    "my_list = LinkedList()\n",
    "my_list.prepend(10)\n",
    "my_list.prepend(5)\n",
    "my_list.prepend(20)\n",
    "my_list.prepend(15)\n",
    "\n",
    "print(my_list) # Vor der Umkehrung: [15, 20, 5, 10]\n",
    "my_list.reverse()\n",
    "print(my_list)        # Nach der Umkehrung: [10, 5, 20, 15]"
   ]
  },
  {
   "cell_type": "markdown",
   "metadata": {},
   "source": [
    "<div style=\"text-align: right\"> (___ / 15 Punkte) </div>\n"
   ]
  }
 ],
 "metadata": {
  "kernelspec": {
   "display_name": "Python 3",
   "language": "python",
   "name": "python3"
  },
  "language_info": {
   "codemirror_mode": {
    "name": "ipython",
    "version": 3
   },
   "file_extension": ".py",
   "mimetype": "text/x-python",
   "name": "python",
   "nbconvert_exporter": "python",
   "pygments_lexer": "ipython3",
   "version": "3.11.9"
  }
 },
 "nbformat": 4,
 "nbformat_minor": 2
}
