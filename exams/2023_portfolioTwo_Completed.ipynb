{
 "cells": [
  {
   "attachments": {},
   "cell_type": "markdown",
   "metadata": {},
   "source": [
    "# Portfolio Prüfung II WWI2022B\n",
    "Bitte bearbeiten Sie alle Aufgaben direkt  hier im Notebook und geben Sie die .ipynb-Datei am Ende der Portfolio-Prüfung [hier](https://privacy.dhbw-stuttgart.de/wwi2022b.html) ab.\n",
    "Für Aufgaben die ohne Code erstellt werden, steht nach der Aufgabenstellung ein Markdown Antwortfeld zur Verfügung. \n",
    "Für Aufgaben bei denen ein Code verlangt wird, befindet sich nach der Aufgabenstellung ein interaktives Code-Feld (ggf. mit schon vorab ausgefüllten Code-Fragementen).\n",
    "\n",
    "Viel Erfolg "
   ]
  },
  {
   "attachments": {},
   "cell_type": "markdown",
   "metadata": {},
   "source": [
    "## Aufgabe 1 Python Basics\n",
    "Ersetzen Sie im unten stehenden Code-Block die Beispiel Matrikelnummer durch Ihre eigene Nummer. \n",
    "Geben Sie dann mittels `print(...)`:\n",
    "<ol type=\"a\">\n",
    "    <li>Ihre Matrikelnummer</li>\n",
    "    <li>Den Hashwert Ihrer Matrikelnummer</li>\n",
    "    <li>Wie oft jede Ziffer in Ihrer Matrikelnummer vorkommt</li>\n",
    "</ol>\n",
    "aus. \n",
    "Verwenden Sie für Aufgabenteil c) ein Python-Dictionary.\n",
    "\n",
    "Beispielausgabe\n",
    "```\n",
    "Matrikelnummer:  1123456799\n",
    "Hashwert:  257147394113209689\n",
    "Anzahl der Ziffern [0-9]:  {'1': 2, '2': 1, '3': 1, '4': 1, '5': 1, '6': 1, '7': 1, '9': 2}\n",
    "```\n"
   ]
  },
  {
   "cell_type": "code",
   "execution_count": 1,
   "metadata": {},
   "outputs": [
    {
     "name": "stdout",
     "output_type": "stream",
     "text": [
      "Matrikelnummer:  1123456799\n",
      "Hashwert:  5068779856908793809\n",
      "Anzahl der Ziffern [0-9]:  {'1': 2, '2': 1, '3': 1, '4': 1, '5': 1, '6': 1, '7': 1, '9': 2}\n"
     ]
    }
   ],
   "source": [
    "myNumber = '1123456799'\n",
    "print(\"Matrikelnummer: \", myNumber)\n",
    "print(\"Hashwert: \", hash(myNumber))\n",
    "\n",
    "digitCounter = {}\n",
    "for c in myNumber:\n",
    "    if c in digitCounter:\n",
    "        digitCounter[c] += 1\n",
    "    else:\n",
    "        digitCounter[c] = 1\n",
    "\n",
    "print(\"Anzahl der Ziffern [0-9]: \", digitCounter)"
   ]
  },
  {
   "cell_type": "code",
   "execution_count": 17,
   "metadata": {},
   "outputs": [],
   "source": [
    "# please run this cell once. You will need the imports for the cells below.\n",
    "import matplotlib.pyplot as plt\n",
    "import numpy as np\n",
    "import timeit"
   ]
  },
  {
   "attachments": {},
   "cell_type": "markdown",
   "metadata": {},
   "source": [
    "### b) Plotten von Aufwand\n",
    "Aus der Portfolio-Prüfung I kennen Sie die olgenden Funktionen `funktion1, funktion2, funktion3`:"
   ]
  },
  {
   "cell_type": "code",
   "execution_count": 3,
   "metadata": {},
   "outputs": [],
   "source": [
    "# run once\n",
    "def funktion1(n): # O(n)\n",
    "    retValue = 0\n",
    "    for i in range(n,0,-1):\n",
    "        retValue += i\n",
    "    return retValue\n",
    "\n",
    "def funktion2(n): # O(n^2)\n",
    "    lst = []\n",
    "    for i in range(n*n):  \n",
    "        lst.append(i)\n",
    "        lst[i%n] += i\n",
    "    return lst \n",
    "\n",
    "def funktion3(n): # O(1)\n",
    "    lst = []\n",
    "    for i in range(100):\n",
    "       lst.append(i)\n",
    "       for j in range(1,100,n):\n",
    "          lst[i] = j\n",
    "    return lst"
   ]
  },
  {
   "attachments": {},
   "cell_type": "markdown",
   "metadata": {},
   "source": [
    "Erzeugen Sie ein Experiment um die Komplexität der drei Funktionen empirisch zu messen und erzeugen Sie eine Grafik die den Aufwand veranschaulicht. (Führen Sie die Code-Zelle der Funktionen einmal aus, sonst kennt die Code-Zelle für die Erzeugung der Grafik die Funktionen nicht.)"
   ]
  },
  {
   "cell_type": "code",
   "execution_count": 4,
   "metadata": {},
   "outputs": [
    {
     "data": {
      "text/plain": [
       "[<matplotlib.lines.Line2D at 0x23704987490>]"
      ]
     },
     "execution_count": 4,
     "metadata": {},
     "output_type": "execute_result"
    },
    {
     "data": {
      "image/png": "[encoded data removed]",
      "text/plain": [
       "<Figure size 640x480 with 3 Axes>"
      ]
     },
     "metadata": {},
     "output_type": "display_data"
    }
   ],
   "source": [
    "ns = np.linspace(1, 500, 20, dtype=int)\n",
    "\n",
    "ts1 = [timeit.timeit(stmt=f'funktion1({n})', \n",
    "                     #setup= f'',\n",
    "                     globals=globals(), \n",
    "                     number=3)\n",
    "       for n in ns]\n",
    "\n",
    "ts2 = [timeit.timeit(stmt=f'funktion2({n})', \n",
    "                     #setup= f'',\n",
    "                     globals=globals(), \n",
    "                     number=3)\n",
    "       for n in ns]\n",
    "\n",
    "ts3 = [timeit.timeit(stmt=f'funktion3({n})', \n",
    "                     #setup= f'',\n",
    "                     globals=globals(), \n",
    "                     number=3)\n",
    "       for n in ns]\n",
    "\n",
    "fig, (ax1, ax2, ax3) = plt.subplots(1,3)\n",
    "ax1.plot(ns, ts1, 'ob')\n",
    "ax2.plot(ns,ts2,'or')\n",
    "ax3.plot(ns,ts3,'og')"
   ]
  },
  {
   "attachments": {},
   "cell_type": "markdown",
   "metadata": {},
   "source": [
    "## Aufgabe 2 Linked Stack\n",
    "\n",
    "Gegeben ist eine Implementierung für einen verlinkten Stack. Eine Mischung aus einem Stack und einer Linked-List."
   ]
  },
  {
   "cell_type": "code",
   "execution_count": 11,
   "metadata": {},
   "outputs": [],
   "source": [
    "class Stack:\n",
    "    class Node:\n",
    "        def __init__(self, val, next):\n",
    "            self.val = val\n",
    "            self.next = next\n",
    "\n",
    "    def __init__(self):\n",
    "        self.top = None\n",
    "        self.size = 0\n",
    "\n",
    "    def push(self, val):\n",
    "        self.top = Stack.Node(val, self.top)\n",
    "        self.size += 1\n",
    "\n",
    "    def __len__(self):\n",
    "        return self.size\n",
    "          \n",
    "    def __repr__(self):\n",
    "        return '[' + ', '.join(str(x) for x in self) + ']'\n",
    "\n"
   ]
  },
  {
   "attachments": {},
   "cell_type": "markdown",
   "metadata": {},
   "source": [
    "### a) Vervollständigen der Definition\n",
    "In der gegebenen Implementierung fehlt noch die Methode `pop()`, welche das oberste Element vom Stack nimmt, den Stack um dieses Element verkürzt und das Element zurückliefert. Außerdem fehlt noch die Methode `__iter__()`, mit welcher über die Liste iteriert werden kann.  Ergänzen Sie diese Methoden:"
   ]
  },
  {
   "cell_type": "code",
   "execution_count": 12,
   "metadata": {},
   "outputs": [],
   "source": [
    "class Stack(Stack):\n",
    "    \n",
    "    def pop(self):\n",
    "        val = self.top.val\n",
    "        self.top = self.top.next\n",
    "        self.size -= 1\n",
    "        return val\n",
    "    \n",
    "    def __iter__(self):\n",
    "        s = self.top\n",
    "        while s:\n",
    "            yield s.val\n",
    "            s = s.next"
   ]
  },
  {
   "cell_type": "code",
   "execution_count": 13,
   "metadata": {},
   "outputs": [
    {
     "name": "stdout",
     "output_type": "stream",
     "text": [
      "[4, 3, 2, 1, 0]\n",
      "4\n",
      "3\n",
      "[2, 1, 0]\n",
      "3\n"
     ]
    }
   ],
   "source": [
    "# you can check your implementation with the following code\n",
    "myStack = Stack()\n",
    "for i in range(5):\n",
    "    myStack.push(i)\n",
    "print(myStack) # should be [4,3,2,1,0]\n",
    "print(myStack.pop()) # should be 4\n",
    "print(myStack.pop()) # should be 3\n",
    "print(myStack) # should be [2,1,0]\n",
    "print(len(myStack)) # should be 3"
   ]
  },
  {
   "attachments": {},
   "cell_type": "markdown",
   "metadata": {},
   "source": [
    "### b) Lineare und Binäre Suche\n",
    "Implementieren Sie in der folgenden Codezelle die lineare Suche, sowie die binäre Suche nach einem Element `x` innerhalb des Stacks. \n",
    "Hinweis: Für die binäre Suche kann es hilfreich sein, zuerst die Methode `__getitem()__` zu implementieren."
   ]
  },
  {
   "cell_type": "code",
   "execution_count": 14,
   "metadata": {},
   "outputs": [],
   "source": [
    "class Stack(Stack):\n",
    "    def linearSearch(self,x):\n",
    "        # implements linear search on the stack\n",
    "        # should return True if there is an node-element of the stack with value x \n",
    "        # otherwise False\n",
    "        node = self.top\n",
    "        while node:\n",
    "            if node.val == x:\n",
    "                return True\n",
    "            else:\n",
    "                node = node.next\n",
    "        return False\n",
    "    \n",
    "    def __getitem__(self,idx):\n",
    "        # implements indexing so self[idx] returns \n",
    "        # the value at index idx of the stack\n",
    "        if idx < 0:\n",
    "            idx += self.size\n",
    "        assert idx >= 0 and idx < self.size \n",
    "        node = self.top\n",
    "        for _ in range(idx):\n",
    "            node = node.next\n",
    "        return node.val\n",
    "    \n",
    "    def binarySearch(self,x):\n",
    "        # implements binary search on the stack\n",
    "        # should return True if there is an node-element of the stack with value x \n",
    "        # otherwise False\n",
    "        lo = 0\n",
    "        hi = self.size - 1\n",
    "        while lo <= hi:\n",
    "            mid = (lo + hi) // 2\n",
    "            if x < self[mid]:\n",
    "                hi = mid - 1\n",
    "            elif x > self[mid]:\n",
    "                lo = mid + 1\n",
    "            else:\n",
    "                return True\n",
    "        else:\n",
    "            return False"
   ]
  },
  {
   "cell_type": "code",
   "execution_count": 15,
   "metadata": {},
   "outputs": [
    {
     "name": "stdout",
     "output_type": "stream",
     "text": [
      "(False, False)\n",
      "(True, True)\n"
     ]
    }
   ],
   "source": [
    "# you can check your implementation with the following code\n",
    "myStack = Stack()\n",
    "for i in range(5,0,-1):\n",
    "    myStack.push(i)\n",
    "\n",
    "print((myStack.binarySearch(6),myStack.linearSearch(6))) # should be (False, False)\n",
    "print((myStack.binarySearch(1),myStack.linearSearch(1))) # should be (True, True)"
   ]
  },
  {
   "attachments": {},
   "cell_type": "markdown",
   "metadata": {},
   "source": [
    "### c) Aufwand von linearer und binärer Suche\n",
    "Aus der Vorlesung wissen Sie, dass der Aufwand bei linearer Suche $O(n)$ und bei binärer Suche $O(log \\ n)$ ist. Mit der folgenden Code-Zelle können Sie einen Visualisierung für den Vergleich von linearer mit binärer Suche für die in Aufgabenteil b) erzeugte Implementierungen erzeugen.\n",
    "\n",
    "Stimmt auch in diesem Fall, dass die binäre Suche den Aufwand $O(n)$ hat? Beantworten und begründen Sie Ihre Antwort im Markdown-Feld nach der Grafik.\n",
    "\n",
    "Sollten Sie Aufgabenteil b) nicht gelöst haben, verwenden Sie die auskommentierten Zeilen für das Experiment und begründen Sie warum der Aufwand für `__getitem__()` bei Python-Listen $O(1)$ ist."
   ]
  },
  {
   "cell_type": "code",
   "execution_count": 18,
   "metadata": {},
   "outputs": [
    {
     "data": {
      "text/plain": [
       "[<matplotlib.lines.Line2D at 0x1ea854a6890>]"
      ]
     },
     "execution_count": 18,
     "metadata": {},
     "output_type": "execute_result"
    },
    {
     "data": {
      "image/png": "[encoded data removed]",
      "text/plain": [
       "<Figure size 640x480 with 1 Axes>"
      ]
     },
     "metadata": {},
     "output_type": "display_data"
    }
   ],
   "source": [
    "ns = np.linspace(100,10000,50,dtype=int)\n",
    "\n",
    "def buildStack(n):\n",
    "    retStack = Stack()\n",
    "    for i in range(n,0,-1):\n",
    "        retStack.push(n)\n",
    "    return retStack\n",
    "\n",
    "\n",
    "ts1 = [timeit.timeit(stmt=f'myStack.linearSearch(0)', setup=f'myStack = buildStack({n})',\n",
    "#ts1 = [timeit.timeit(stmt=f'_ = myList[{n}-1]', setup=f'myList = list(range({n}))',                     \n",
    "                     globals=globals(),\n",
    "                     number= 100)\n",
    "                     for n in ns\n",
    "                     ]\n",
    "\n",
    "ts2 = [timeit.timeit(stmt=f'myStack.binarySearch(0)', setup=f'myStack = buildStack({n})',\n",
    "#ts2 = [timeit.timeit(stmt=f'_ = myList[0]', setup=f'myList = list(range({n}))', \n",
    "                     globals=globals(),\n",
    "                     number= 100)\n",
    "                     for n in ns\n",
    "                     ]\n",
    "\n",
    "plt.plot(ns, ts1, 'ro')\n",
    "plt.plot(ns,ts2,'bo')"
   ]
  },
  {
   "attachments": {},
   "cell_type": "markdown",
   "metadata": {},
   "source": [
    "Beantworten Sie die Frage und begründen Sie Ihre Antwort in diesem Markdown-Feld. (Doppelklick auf den Text bringt Sie in den Bearbeitungsmodus.)"
   ]
  },
  {
   "attachments": {},
   "cell_type": "markdown",
   "metadata": {},
   "source": [
    "### d) Die Methode `roll`\n",
    "Implementieren Sie eine Methode `roll` als Teil des Linked-Stacks. Die Methode besitzt einen Parameter $n \\geq 2$. Sie verschiebt das oberste Element des Stacks an die $n$-te Stelle des Stacks.\n",
    "\n",
    "Beispiele:\n",
    "\n",
    "- wendet man `roll(3)` auf einen Stack mit den Werten A, B, C, D, E (wobei A das oberste Element ist) an, so ergibt sich als Ergebnis B, C, A, D, E\n",
    "\n",
    "- wendet man `roll(5)` auf einen Stack mit den Werten  A, B, C, D, E an, so ergibt sich ein Stack mit den Werten (von oben nach unten) B, C, D, E, A\n",
    "\n",
    "Einschränkungen/Annahmen:\n",
    "- Ihre Implementierung darf keine Werte von Knoten (`node.val`) ändern. Stattdessen sollen lediglich die Verknüpfungen der Werte (`node.next`) verändert werden.\n",
    "- Gehen Sie davon aus, dass $n$ mindestens den Wert 2 hat, und dass der Stack mindestens $n$-Werte hat."
   ]
  },
  {
   "cell_type": "code",
   "execution_count": 37,
   "metadata": {},
   "outputs": [],
   "source": [
    "class Stack(Stack):\n",
    "    def roll(self, n):\n",
    "        tempNode = self.top\n",
    "        secondNode = self.top.next\n",
    "        for i in range(n-1):\n",
    "            tempNode = tempNode.next\n",
    "        \n",
    "        self.top.next = tempNode.next\n",
    "        tempNode.next = self.top\n",
    "        self.top = secondNode\n"
   ]
  },
  {
   "cell_type": "code",
   "execution_count": 38,
   "metadata": {},
   "outputs": [
    {
     "name": "stdout",
     "output_type": "stream",
     "text": [
      "[4, 3, 2, 1, 0]\n",
      "[3, 4, 2, 1, 0]\n",
      "[4, 2, 3, 1, 0]\n"
     ]
    }
   ],
   "source": [
    "# you can check your implementation with the following code:\n",
    "myStack = Stack()\n",
    "for i in range(5):\n",
    "    myStack.push(i)\n",
    "print(myStack) # should print [4, 3, 2, 1, 0]\n",
    "myStack.roll(2)\n",
    "print(myStack) # should print [3, 4, 2, 1, 0]\n",
    "myStack.roll(3)\n",
    "print(myStack) # should print [4, 2, 3, 1, 0]"
   ]
  },
  {
   "attachments": {},
   "cell_type": "markdown",
   "metadata": {},
   "source": [
    "### Zusatzaufgabe: Rekursion durch Stack abbilden \n",
    "(Diese Aufgabe gibt Bonuspunkte. Sie ist für das Bestehen des Portfolios nicht nötig.)\n",
    "\n",
    "Aus der Vorlesung kennen Sie die Fibonacci-Folge, die rekursiv über folgenden Code erzeugt werden kann:"
   ]
  },
  {
   "cell_type": "code",
   "execution_count": 39,
   "metadata": {},
   "outputs": [],
   "source": [
    "def fibonacciRecursive(n):\n",
    "    if n == 0:\n",
    "        return 0\n",
    "    elif n == 1:\n",
    "        return 1\n",
    "    else:\n",
    "        return fibonacciRecursive(n-1) + fibonacciRecursive(n-2)"
   ]
  },
  {
   "attachments": {},
   "cell_type": "markdown",
   "metadata": {},
   "source": [
    "Jede rekursive Funktion kann auch iterativ implementiert werden, in dem man mehrere Schleifen und (oft) einen Stack verwendet.\n",
    "Verwenden Sie die oben gegebene Implementierung des Linked-Stacks um die Fibonacci-Folge ohne Rekursion, sondern mithilfe eines Stacks zu implementieren."
   ]
  },
  {
   "cell_type": "code",
   "execution_count": 40,
   "metadata": {},
   "outputs": [],
   "source": [
    "def fibbonacciIterative(n):\n",
    "    stack = [n]\n",
    "    result = 0\n",
    "    while stack:\n",
    "        #print(stack)\n",
    "        n = stack.pop()\n",
    "        if n == 0:\n",
    "            result += 0\n",
    "        elif n == 1:\n",
    "            result += 1\n",
    "        else:\n",
    "            stack.append(n-1)\n",
    "            stack.append(n-2)\n",
    "    return result"
   ]
  },
  {
   "cell_type": "code",
   "execution_count": 41,
   "metadata": {},
   "outputs": [],
   "source": [
    "# you can check the first 11 values of your implementation with the following lines of code:\n",
    "for i in range(11):\n",
    "    assert fibbonacciIterative(i) == fibonacciRecursive(i)"
   ]
  },
  {
   "attachments": {},
   "cell_type": "markdown",
   "metadata": {},
   "source": [
    "## Abgabe\n",
    "Bitte denken Sie daran, ihre Notebook-Datei auf den Abgabe-Server hochzuladen.\n",
    "\n",
    "https://privacy.dhbw-stuttgart.de/wwi2022b.html"
   ]
  }
 ],
 "metadata": {
  "kernelspec": {
   "display_name": "Python 3",
   "language": "python",
   "name": "python3"
  },
  "language_info": {
   "codemirror_mode": {
    "name": "ipython",
    "version": 3
   },
   "file_extension": ".py",
   "mimetype": "text/x-python",
   "name": "python",
   "nbconvert_exporter": "python",
   "pygments_lexer": "ipython3",
   "version": "3.11.3"
  },
  "orig_nbformat": 4
 },
 "nbformat": 4,
 "nbformat_minor": 2
}
