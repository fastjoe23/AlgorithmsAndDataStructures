{
 "cells": [
  {
   "cell_type": "markdown",
   "metadata": {},
   "source": [
    "# Portfolio Prüfung WWI2023B\n",
    "Bitte bearbeiten Sie alle Aufgaben direkt  hier im Notebook und geben Sie die .ipynb-Datei am Ende der Portfolio-Prüfung [hier](https://privacy.dhbw-stuttgart.de/wwi2022b.html) ab.\n",
    "Für Aufgaben die ohne Code erstellt werden, steht nach der Aufgabenstellung ein Markdown Antwortfeld zur Verfügung. \n",
    "Für Aufgaben bei denen ein Code verlangt wird, befindet sich nach der Aufgabenstellung ein interaktives Code-Feld (ggf. mit schon vorab ausgefüllten Code-Fragementen).\n",
    "\n",
    "Viel Erfolg "
   ]
  },
  {
   "cell_type": "markdown",
   "metadata": {},
   "source": [
    "## Aufgabe 1 Python Basics\n",
    "\n",
    "Weisen Sie in der untenstehenden Code-Zelle der Variable `chars` eine Python-Liste aller Buchstaben (Charaktere) des Strings `hello` zu. "
   ]
  },
  {
   "cell_type": "code",
   "execution_count": null,
   "metadata": {},
   "outputs": [],
   "source": [
    "hello = \"\"\"Hallo WWI2023B. Dies ist ein wirklicher langer String, so dass es keinen Sinn macht,\n",
    "        alle Buchstaben einzeln an die Liste chars zu übergeben. Da müsste man echt lange tippen\n",
    "        und die Zeit für das Portfolio wäre schon so gut wie vorbei. Es wäre sinnvoll sich hier eine andere\n",
    "        Lösung zu überlegen. Auch wegen den ganzen doppelten Buchstaben. Die müssen ja auch alle doppelt aufgeführt werden.\n",
    "        Lorem ipsum dolor sit amet, consectetur adipiscing elit, sed do eiusmod tempor incididunt ut labore et dolore \n",
    "        magna aliqua. Ut enim ad minim veniam, quis nostrud exercitation ullamco laboris nisi ut aliquip ex ea commodo\n",
    "        consequat. Duis aute irure dolor in reprehenderit in voluptate velit esse cillum dolore eu fugiat nulla pariatur.\n",
    "        Excepteur sint occaecat cupidatat non proident, sunt in culpa qui officia deserunt mollit anim id est laborum.\"\"\"\n",
    "chars = []\n",
    "print(chars)\n"
   ]
  },
  {
   "cell_type": "markdown",
   "metadata": {},
   "source": [
    "<div style=\"text-align: right\"> (___ / 3 Punkte) </div>"
   ]
  },
  {
   "cell_type": "markdown",
   "metadata": {},
   "source": [
    "Ersetzen Sie die Fragezeichen im unten stehenden Code so, dass die Schleife alle geraden Zahlen von 0 bis 10 einschließlich ausgibt."
   ]
  },
  {
   "cell_type": "code",
   "execution_count": null,
   "metadata": {},
   "outputs": [],
   "source": [
    "my_range = range(??)\n",
    "for i in my_range:\n",
    "    print(i)"
   ]
  },
  {
   "cell_type": "markdown",
   "metadata": {},
   "source": [
    "<div style=\"text-align: right\"> (___ / 3 Punkte) </div>"
   ]
  },
  {
   "cell_type": "markdown",
   "metadata": {},
   "source": [
    "Gegeben ist das unten stehende Python-Dictionary `person_activities`. Ergänzen Sie die Funktion `count_activities()`, welche die Anzahl der Aktivitäten jeder Person zurückgibt. Die Funktion `count_activities(person_activities)` sollte ein Dictionary `activity_counts` zurückgeben, in dem die Schlüssel die Namen der Personen sind und die Werte die Anzahl ihrer Aktivitäten."
   ]
  },
  {
   "cell_type": "code",
   "execution_count": null,
   "metadata": {},
   "outputs": [],
   "source": [
    "person_activities = {\n",
    "    'Alice': ['yoga', 'running', 'swimming'],\n",
    "    'Bob': ['cycling', 'running'],\n",
    "    'Charlie': ['yoga', 'swimming', 'running', 'cycling']\n",
    "}\n",
    "\n",
    "def count_activities(activities):\n",
    "    activity_counts = {}\n",
    "\n",
    "    pass # das \"pass\" sollten Sie durch geeigneten Code ersetzen\n",
    "\n",
    "    return activity_counts\n",
    "\n",
    "# Test der Funktion\n",
    "print(count_activities(person_activities)) # Ausgabe: {'Alice': 3, 'Bob': 2, 'Charlie': 4}\n"
   ]
  },
  {
   "cell_type": "markdown",
   "metadata": {},
   "source": [
    "<div style=\"text-align: right\"> (___ / 5 Punkte) </div>"
   ]
  },
  {
   "cell_type": "markdown",
   "metadata": {},
   "source": [
    "Schreiben Sie eine Python-Funktion namens `sum_of_characters`, welche die Anzahl an Buchstaben (Charakteren) eines übergebenden Strings zurückliefert.\n",
    "\n",
    "Beispielausgaben:\n",
    "\n",
    "  `sum_of_characters(\"hello wwi2023b\")`-> Ausgabe 14\n",
    "  \n",
    "  `sum_of_digits(hello)` -> Ausgabe 892"
   ]
  },
  {
   "cell_type": "code",
   "execution_count": null,
   "metadata": {},
   "outputs": [],
   "source": [
    "def sum_of_characters(string):\n",
    "    \n",
    "    pass # das \"pass\" sollten Sie durch geeigneten Code ersetzen\n",
    "\n",
    "print(sum_of_characters(\"hello wwi2023b\"))\n",
    "print(sum_of_characters(hello))"
   ]
  },
  {
   "cell_type": "markdown",
   "metadata": {},
   "source": [
    "<div style=\"text-align: right\"> (___ / 3 Punkte) </div>\n"
   ]
  },
  {
   "cell_type": "markdown",
   "metadata": {},
   "source": [
    "## Aufgabe 2 Komplexität von Algorithmen\n",
    "### a) Geben Sie jeweils für die angegebenen Funktionen den Aufwand in der Landau-Notation (Big-Oh) an.\n",
    "Ersesetzen Sie das ? im Text. Doppelklick auf die Zelle öffnet diese im Bearbeitungsmodus."
   ]
  },
  {
   "cell_type": "code",
   "execution_count": null,
   "metadata": {},
   "outputs": [],
   "source": [
    "def funktion1(n):\n",
    "    retValue = 0\n",
    "    for i in range(n*n,0,-1):\n",
    "        retValue += i\n",
    "    return retValue"
   ]
  },
  {
   "cell_type": "markdown",
   "metadata": {},
   "source": [
    "Der Aufwand für `funktion1` beträgt $O(?)$."
   ]
  },
  {
   "cell_type": "code",
   "execution_count": null,
   "metadata": {},
   "outputs": [],
   "source": [
    "def funktion2(n):\n",
    "    lst = []\n",
    "    m = n//2 # // is integer division\n",
    "    for i in range(m):  \n",
    "        lst.append(i)\n",
    "        lst[i%n] += i\n",
    "    return lst "
   ]
  },
  {
   "cell_type": "markdown",
   "metadata": {},
   "source": [
    "Der Aufwand für `funktion2` beträgt $O(?)$."
   ]
  },
  {
   "cell_type": "code",
   "execution_count": null,
   "metadata": {},
   "outputs": [],
   "source": [
    "def funktion3(n):\n",
    "    lst = []\n",
    "    for i in range(1,n):\n",
    "       lst.append(i)\n",
    "       for j in range(1,n,10):\n",
    "          lst[-1] = lst[-1]*j\n",
    "    return lst"
   ]
  },
  {
   "cell_type": "markdown",
   "metadata": {},
   "source": [
    "Der Aufwand für `funktion3` beträgt $O(?)$."
   ]
  },
  {
   "cell_type": "markdown",
   "metadata": {},
   "source": [
    "<div style=\"text-align: right\"> (___ / 9 Punkte) </div>\n"
   ]
  },
  {
   "cell_type": "markdown",
   "metadata": {},
   "source": [
    "### b) Ergänzen Sie den Code in der folgenden Codezelle geeignet, so dass dieser ein Schaubild der Laufzeiten für die Funktionen 1 - 3 erzeugt."
   ]
  },
  {
   "cell_type": "code",
   "execution_count": null,
   "metadata": {},
   "outputs": [],
   "source": [
    "import matplotlib.pyplot as plt\n",
    "import numpy as np\n",
    "import timeit\n",
    "\n",
    "ns = np.linspace(1, 500, 20, dtype=int)\n",
    "\n",
    "ts1 = [timeit.timeit(stmt=f'..?..', \n",
    "                     #setup= f'',\n",
    "                     globals=globals(), \n",
    "                     number=3)\n",
    "       for n in ns]\n",
    "\n",
    "ts2 = [timeit.timeit(stmt=f'..?..)', \n",
    "                     #setup= f'',\n",
    "                     globals=globals(), \n",
    "                     number=3)\n",
    "       for n in ns]\n",
    "\n",
    "ts3 = [timeit.timeit(stmt=f'..?..', \n",
    "                     #setup= f'',\n",
    "                     globals=globals(), \n",
    "                     number=3)\n",
    "       for n in ns]\n",
    "\n",
    "fig, (ax1, ax2, ax3) = plt.subplots(1,3)\n",
    "ax1.plot(ns, ..?.., 'ob')\n",
    "ax2.plot(ns,..?..,'or')\n",
    "ax3.plot(ns,..?..,'og')"
   ]
  },
  {
   "cell_type": "markdown",
   "metadata": {},
   "source": [
    "<div style=\"text-align: right\"> (___ / 5 Punkte) </div>\n"
   ]
  },
  {
   "cell_type": "markdown",
   "metadata": {},
   "source": [
    "# Aufgabe 3 Array-List\n",
    "Gegeben ist der folgende Code für eine array-backed-list:"
   ]
  },
  {
   "cell_type": "code",
   "execution_count": 2,
   "metadata": {},
   "outputs": [],
   "source": [
    "# Array Backed List\n",
    "import numpy as np\n",
    "class ArrayList:\n",
    "    def __init__(self):\n",
    "        self.data = np.empty(1, dtype=object)\n",
    "        self.size = 0\n",
    "\n",
    "    def append(self, value):\n",
    "        if self.size == len(self.data): \n",
    "            ndata = np.empty(len(self.data)*2, dtype=object) \n",
    "            for i in range(len(self.data)): \n",
    "                ndata[i] = self.data[i]\n",
    "            self.data = ndata             \n",
    "        self.data[self.size] = value\n",
    "        self.size += 1  \n",
    "\n",
    "    def __getitem__(self, idx):\n",
    "        \"\"\"Implements `x = self[idx]`\"\"\"\n",
    "        assert isinstance(idx, int), 'Index must be an integer'\n",
    "        if idx < 0:\n",
    "            idx += self.size\n",
    "        if idx < 0 or idx >= self.size:\n",
    "            raise IndexError('list index out of range')\n",
    "        return self.data[idx] \n",
    "\n",
    "    def __len__(self):\n",
    "        \"\"\"Should return the number of elements in the ArrayList\"\"\"\n",
    "        return self.size\n",
    "\n",
    "    def __repr__(self):\n",
    "        return str(self.data[:self.size])"
   ]
  },
  {
   "cell_type": "markdown",
   "metadata": {},
   "source": [
    "## a) Zugriff\n",
    "Vervollständigen Sie die Definition und ergänzen Sie die Funktion `__setitem__(self, idx, value)` welche das Element an einem bestimmten Index `idx` auf den Wert `value` setzt."
   ]
  },
  {
   "cell_type": "code",
   "execution_count": null,
   "metadata": {},
   "outputs": [],
   "source": [
    "class ArrayList(ArrayList):   \n",
    "    def __setitem__(self,idx,value):\n",
    "        \"\"\"Implements `x = self[idx]`\"\"\"\n",
    "        pass # das \"pass\" sollten Sie durch geeigneten Code ersetzen            "
   ]
  },
  {
   "cell_type": "markdown",
   "metadata": {},
   "source": [
    "Sie können ihre Funktion mit folgendem Code testen:"
   ]
  },
  {
   "cell_type": "code",
   "execution_count": null,
   "metadata": {},
   "outputs": [],
   "source": [
    "my_list = ArrayList()\n",
    "for i in range(10):\n",
    "    my_list.append(i)\n",
    "\n",
    "my_list[0] = \"WWI2023B\"\n",
    "my_list[5] = 999\n",
    "my_list[9] = \"Ende\"\n",
    "print(my_list) # Ausgabe. ['WWI2023B' 1 2 3 4 999 6 7 8 'Ende']\n"
   ]
  },
  {
   "cell_type": "markdown",
   "metadata": {},
   "source": [
    "<div style=\"text-align: right\"> (___ / 6 Punkte) </div>\n"
   ]
  },
  {
   "cell_type": "markdown",
   "metadata": {},
   "source": [
    "## b) Sortieren\n",
    "Implementieren Sie eine Methode `sort(self)` für die obige ArrayList-Klasse. Diese Methode soll die Elemente der Liste aufsteigend sortieren."
   ]
  },
  {
   "cell_type": "code",
   "execution_count": null,
   "metadata": {},
   "outputs": [],
   "source": [
    "class ArrayList(ArrayList):\n",
    "    def sort(self):\n",
    "        \"\"\"Sorts the list using Insertion Sort algorithm\"\"\"\n",
    "        pass # das \"pass\" sollten Sie durch geeigneten Code ersetzen"
   ]
  },
  {
   "cell_type": "markdown",
   "metadata": {},
   "source": [
    "Sie können Ihre Methode mit folgendem Code testen:"
   ]
  },
  {
   "cell_type": "code",
   "execution_count": null,
   "metadata": {},
   "outputs": [],
   "source": [
    "my_list = ArrayList()\n",
    "my_list.append(2)\n",
    "my_list.append(4)\n",
    "my_list.append(3)\n",
    "my_list.append(1)\n",
    "my_list.sort()\n",
    "print(my_list) # Ausgabe [1 2 3 4]"
   ]
  },
  {
   "cell_type": "markdown",
   "metadata": {},
   "source": [
    "<div style=\"text-align: right\"> (___ / 6 Punkte) </div>\n"
   ]
  },
  {
   "cell_type": "markdown",
   "metadata": {},
   "source": [
    "## c) Die Liste filtern\n",
    "Ergänzen Sie die ArrayList-Klasse um eine Methode `filter(predicate)`, die eine neue ArrayList zurückgibt, die nur die Elemente enthält, die das gegebene Prädikat erfüllen. Ein Prädikat ist eine Funktion, die einen Wert als Eingabe nimmt und True oder False zurückgibt."
   ]
  },
  {
   "cell_type": "code",
   "execution_count": null,
   "metadata": {},
   "outputs": [],
   "source": [
    "class ArrayList(ArrayList):\n",
    "    def filter(self, predicate):\n",
    "        \"\"\"Returns a new ArrayList containing only the elements that satisfy the predicate\"\"\"\n",
    "        pass # das \"pass\" sollten Sie durch geeigneten Code ersetzen"
   ]
  },
  {
   "cell_type": "markdown",
   "metadata": {},
   "source": [
    "Sie können Ihre Methode mit folgendem Code testen:"
   ]
  },
  {
   "cell_type": "code",
   "execution_count": null,
   "metadata": {},
   "outputs": [],
   "source": [
    "# Test der filter-Funktion\n",
    "numbers = ArrayList()\n",
    "numbers.append(1)\n",
    "numbers.append(2)\n",
    "numbers.append(3)\n",
    "numbers.append(4)\n",
    "numbers.append(5)\n",
    "\n",
    "def is_even(n):\n",
    "    return n % 2 == 0\n",
    "\n",
    "even_numbers = numbers.filter(is_even)\n",
    "print(\"Ursprüngliche Liste:\", numbers) # Ausgabe [1 2 3 4 5]\n",
    "print(\"Gefilterte Liste (gerade Zahlen):\", even_numbers) # Ausgabe [2 4]"
   ]
  },
  {
   "cell_type": "markdown",
   "metadata": {},
   "source": [
    "<div style=\"text-align: right\"> (___ / 8 Punkte) </div>\n"
   ]
  },
  {
   "cell_type": "markdown",
   "metadata": {},
   "source": [
    "# d) Teilfolgen finden\n",
    "Implementieren Sie die Methode `find_subsequence(self, subsequence)`, die alle Positionen (Indizes) zurückgibt, an denen die Teilfolge `subsequence` in der ArrayList gefunden wird.\n",
    "\n",
    "Beispiel:\n",
    "Wendet man die Methode auf die Liste `[1,2,3,4,5,6,1,2,3,7,8,9,1,2,3]` mit der Teilfolge `[1,2,3]`an, so soll sie als Ausgabe die Liste `[0,6,12]` zurückliefern.\n"
   ]
  },
  {
   "cell_type": "code",
   "execution_count": null,
   "metadata": {},
   "outputs": [],
   "source": [
    "class ArrayList(ArrayList):\n",
    "    def find_subsequence(self, subsequence):\n",
    "        indices = []\n",
    "        \n",
    "        pass # das \"pass\" sollten Sie durch geeigneten Code ersetzen\n",
    "        \n",
    "        return indices"
   ]
  },
  {
   "cell_type": "markdown",
   "metadata": {},
   "source": [
    "Sie können Ihre Methode mit folgenden Code testen:"
   ]
  },
  {
   "cell_type": "code",
   "execution_count": null,
   "metadata": {},
   "outputs": [],
   "source": [
    "arr = ArrayList()\n",
    "arr.append(1)\n",
    "arr.append(2)\n",
    "arr.append(3)\n",
    "arr.append(4)\n",
    "arr.append(2)\n",
    "arr.append(3)\n",
    "arr.append(5)\n",
    "print(\"Ursprüngliche Liste:\", arr)  # Ausgabe: [1, 2, 3, 4, 2, 3, 5]\n",
    "\n",
    "subsequence = [2, 3]\n",
    "indices = arr.find_subsequence(subsequence)\n",
    "print(f\"Teilfolge {subsequence} gefunden an den Positionen:\", indices)  # Ausgabe: [1, 4]"
   ]
  },
  {
   "cell_type": "markdown",
   "metadata": {},
   "source": [
    "<div style=\"text-align: right\"> (___ / 14 Punkte) </div>\n"
   ]
  },
  {
   "cell_type": "markdown",
   "metadata": {},
   "source": [
    "# Aufgabe 4 Linked List\n",
    "Gegeben ist der unten stehende Code für eine Linked List."
   ]
  },
  {
   "cell_type": "code",
   "execution_count": null,
   "metadata": {},
   "outputs": [],
   "source": [
    "class LinkedList:\n",
    "    class Node:\n",
    "        def __init__(self, val, next):\n",
    "            self.val = val\n",
    "            self.next = next\n",
    "\n",
    "    def __init__(self):\n",
    "        self.top = None\n",
    "        self.size = 0  \n",
    "\n",
    "    def append(self, value):\n",
    "        if self.top:\n",
    "            current = self.top       \n",
    "            while (current.next):\n",
    "                current = current.next\n",
    "            new_node = LinkedList.Node(value, None)\n",
    "            current.next = new_node\n",
    "        else:\n",
    "            self.top = LinkedList.Node(value, None)\n",
    "         \n",
    "    def __iter__(self):\n",
    "        node = self.top\n",
    "        while node:\n",
    "            yield(node.val)\n",
    "            node = node.next\n",
    "\n",
    "    def __len__(self):\n",
    "        return self.size\n",
    "          \n",
    "    def __repr__(self):\n",
    "        return '[' + ', '.join(str(x) for x in self) + ']'\n",
    "        \n",
    "        "
   ]
  },
  {
   "cell_type": "markdown",
   "metadata": {},
   "source": [
    "# a) Definition vervollständigen\n",
    "Implementieren Sie die `prepend(self, value)`-Methode, welche ein Element mit dem Wert `value` an die erste Stelle der Liste setzt. Implementieren Sie zusätzliche eine Funktion `peek(self)`, welche den Wert des ersten Elementes zurückliefert."
   ]
  },
  {
   "cell_type": "code",
   "execution_count": null,
   "metadata": {},
   "outputs": [],
   "source": [
    "class LinkedList(LinkedList):  \n",
    "\n",
    "    def prepend(self, value):\n",
    "        pass # das \"pass\" sollten Sie durch geeigneten Code ersetzen\n",
    "\n",
    "    def peek(self):\n",
    "        pass # das \"pass\" sollten Sie durch geeigneten Code ersetzen\n",
    "\n"
   ]
  },
  {
   "cell_type": "markdown",
   "metadata": {},
   "source": [
    "Sie können Ihre Methoden mit folgenden Code testen:"
   ]
  },
  {
   "cell_type": "code",
   "execution_count": null,
   "metadata": {},
   "outputs": [],
   "source": [
    "my_linked_list = LinkedList()\n",
    "my_linked_list.prepend(10)\n",
    "print(my_linked_list) # Ausgabe [10]\n",
    "my_linked_list.prepend(20)\n",
    "print(my_linked_list) # Ausgabe [20, 10]\n",
    "my_linked_list.prepend(30)\n",
    "print(my_linked_list) # Ausgabe [30, 20, 10]\n",
    "print(my_linked_list.peek()) # Ausgabe 30"
   ]
  },
  {
   "cell_type": "markdown",
   "metadata": {},
   "source": [
    "<div style=\"text-align: right\"> (___ / 5 Punkte) </div>\n"
   ]
  },
  {
   "cell_type": "markdown",
   "metadata": {},
   "source": [
    "# b) Zugriff mit Index\n",
    "Die obige Klasse `LinkedList` bietet aktuell keine Möglichkeit direkt über einen Index auf die Liste zuzugreifen oder Elemente zu ändern. Erweitern Sie die Klasse `LinkedList`, sodass Sie mittels eines Index auf die Elemente der Liste zugreifen und diese ändern können. Implementieren Sie dazu die Methoden `__getitem__(self, index)` und `__setitem__(self, index, value)`, um das zugrundeliegende Verhalten von `list[index]` und `list[index] = value` zu ermöglichen.\n",
    "\n",
    "Hinweise:\n",
    "- Das erste Element der Liste (`self.top`) soll den Index 0 erhalten.\n",
    "- Alle weiteren Elemente sollen entsprechend aufsteigend durchnummeriert werden."
   ]
  },
  {
   "cell_type": "code",
   "execution_count": null,
   "metadata": {},
   "outputs": [],
   "source": [
    "class LinkedList(LinkedList):\n",
    "\n",
    "    def __getitem__(self, index):\n",
    "        \"\"\"Gibt das Element am gegebenen Index zurück\"\"\"\n",
    "        \n",
    "        pass # das \"pass\" sollten Sie durch geeigneten Code ersetzen\n",
    "\n",
    "    def __setitem__(self, index, value):\n",
    "        \"\"\"Setzt das Element am gegebenen Index auf den neuen Wert\"\"\"\n",
    "        \n",
    "        pass # das \"pass\" sollten Sie durch geeigneten Code ersetzen\n",
    "        "
   ]
  },
  {
   "cell_type": "markdown",
   "metadata": {},
   "source": [
    "Sie können Ihre Methoden mit folgenden Code testen:"
   ]
  },
  {
   "cell_type": "code",
   "execution_count": null,
   "metadata": {},
   "outputs": [],
   "source": [
    "# Test der erweiterten Klasse\n",
    "ll = LinkedList()\n",
    "ll.append(1)\n",
    "ll.append(2)\n",
    "ll.append(3)\n",
    "print(\"Ursprüngliche Liste:\", ll)  # Ausgabe: [1, 2, 3]\n",
    "\n",
    "# Zugriff mit __getitem__\n",
    "print(\"Element bei Index 1:\", ll[1])  # Ausgabe: 2\n",
    "\n",
    "# Zugriff mit __setitem__\n",
    "ll[1] = 42\n",
    "print(\"Liste nach Änderung:\", ll)  # Ausgabe: [1, 42, 3]"
   ]
  },
  {
   "cell_type": "markdown",
   "metadata": {},
   "source": [
    "<div style=\"text-align: right\"> (___ / 9 Punkte) </div>\n"
   ]
  },
  {
   "cell_type": "markdown",
   "metadata": {},
   "source": [
    "# c) Duplikate entfernen\n",
    "Implementieren Sie eine Funktion `remove_duplicates(self)`, welche alle doppelten Elemente aus der Liste entfernt und nur das erste Vorkommen jedes Elements beibehält.\n",
    "\n",
    "Hinweis:\n",
    "- ggf. hilft es eine zusätzliche Datenstruktur aller bereits gesehenen Elemente zu verwenden."
   ]
  },
  {
   "cell_type": "code",
   "execution_count": null,
   "metadata": {},
   "outputs": [],
   "source": [
    "class LinkedList(LinkedList):\n",
    "\n",
    "    def remove_duplicates(self):\n",
    "        \"\"\"Removes duplicate elements from the linked list\"\"\"\n",
    "        \n",
    "        pass # das \"pass\" sollten Sie durch geeigneten Code ersetzen"
   ]
  },
  {
   "cell_type": "markdown",
   "metadata": {},
   "source": [
    "Sie können Ihre Methoden mit folgenden Code testen:"
   ]
  },
  {
   "cell_type": "code",
   "execution_count": null,
   "metadata": {},
   "outputs": [],
   "source": [
    "# Test der remove_duplicates-Funktion\n",
    "ll = LinkedList()\n",
    "ll.append(1)\n",
    "ll.append(2)\n",
    "ll.append(3)\n",
    "ll.append(2)\n",
    "ll.append(4)\n",
    "ll.append(1)\n",
    "print(\"Liste mit Duplikaten:\", ll)  # Ausgabe: [1, 2, 3, 2, 4, 1]\n",
    "\n",
    "ll.remove_duplicates()\n",
    "print(\"Liste ohne Duplikate:\", ll)  # Ausgabe: [1, 2, 3, 4]\n"
   ]
  },
  {
   "cell_type": "markdown",
   "metadata": {},
   "source": [
    "<div style=\"text-align: right\"> (___ / 14 Punkte) </div>\n"
   ]
  }
 ],
 "metadata": {
  "kernelspec": {
   "display_name": "Python 3",
   "language": "python",
   "name": "python3"
  },
  "language_info": {
   "codemirror_mode": {
    "name": "ipython",
    "version": 3
   },
   "file_extension": ".py",
   "mimetype": "text/x-python",
   "name": "python",
   "nbconvert_exporter": "python",
   "pygments_lexer": "ipython3",
   "version": "3.11.9"
  }
 },
 "nbformat": 4,
 "nbformat_minor": 2
}
