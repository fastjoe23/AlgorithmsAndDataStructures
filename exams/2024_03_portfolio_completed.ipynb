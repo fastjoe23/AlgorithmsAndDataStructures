{
 "cells": [
  {
   "cell_type": "markdown",
   "metadata": {},
   "source": [
    "# Portfolio Prüfung WWI2023B\n",
    "Bitte bearbeiten Sie alle Aufgaben direkt  hier im Notebook und geben Sie die .ipynb-Datei am Ende der Portfolio-Prüfung [hier](https://privacy.dhbw-stuttgart.de/wwi2022b.html) ab.\n",
    "Für Aufgaben die ohne Code erstellt werden, steht nach der Aufgabenstellung ein Markdown Antwortfeld zur Verfügung. \n",
    "Für Aufgaben bei denen ein Code verlangt wird, befindet sich nach der Aufgabenstellung ein interaktives Code-Feld (ggf. mit schon vorab ausgefüllten Code-Fragementen).\n",
    "\n",
    "Viel Erfolg "
   ]
  },
  {
   "cell_type": "markdown",
   "metadata": {},
   "source": [
    "## Aufgabe 1 Python Basics\n",
    "\n",
    "Ersetzen Sie die Fragezeichen im unten stehenden Code so, dass der Befehl `print(squared)` die Ausgabe `[1, 4, 9, 16, 25]` erzeugt. Verwenden Sie zur Erzeugung der Quadratzahlen die Variable `numbers`. Eine direkte Zuweisung von [1,4,6,9,16] an `squared` ist nicht erlaubt."
   ]
  },
  {
   "cell_type": "code",
   "execution_count": 55,
   "metadata": {},
   "outputs": [
    {
     "name": "stdout",
     "output_type": "stream",
     "text": [
      "[1, 4, 9, 16, 25]\n"
     ]
    }
   ],
   "source": [
    "numbers = [1, 2, 3, 4, 5]\n",
    "squared = [n**2 for n in numbers]\n",
    "print(squared)\n"
   ]
  },
  {
   "cell_type": "markdown",
   "metadata": {},
   "source": [
    "<div style=\"text-align: right\"> (___ / 4 Punkte) </div>"
   ]
  },
  {
   "cell_type": "markdown",
   "metadata": {},
   "source": [
    "Ersetzen Sie die Fragezeichen im unten stehenden Code so, dass die Ausgabe der Code-Zeile `loW` lautet."
   ]
  },
  {
   "cell_type": "code",
   "execution_count": 56,
   "metadata": {},
   "outputs": [
    {
     "name": "stdout",
     "output_type": "stream",
     "text": [
      "loW\n"
     ]
    }
   ],
   "source": [
    "my_string = 'Hello WWI'\n",
    "print(my_string[3:7].replace(' ',''))"
   ]
  },
  {
   "cell_type": "markdown",
   "metadata": {},
   "source": [
    "<div style=\"text-align: right\"> (___ / 4 Punkte) </div>"
   ]
  },
  {
   "cell_type": "markdown",
   "metadata": {},
   "source": [
    "Gegeben ist das unten stehende Python-Dictionary. Ergänzen Sie die Funktion `calculate_best_grade()`, welche die beste Note (1 ist die beste, 6 die schlechteste Note) jedes Studenten zurückgibt. Die Funktion `calculate_best_grade(student_grades)` sollte ein Dictionary `best_grades` zurückgeben, in dem die Schlüssel die Namen der Schüler sind und die Werte ihre Durchschnittsnote."
   ]
  },
  {
   "cell_type": "code",
   "execution_count": 57,
   "metadata": {},
   "outputs": [
    {
     "name": "stdout",
     "output_type": "stream",
     "text": [
      "{'Alice': 1.1, 'Bob': 1.2, 'Charlie': 1.3}\n"
     ]
    }
   ],
   "source": [
    "student_grades = {\n",
    "    'Alice': [1.1, 2.2, 3.2],\n",
    "    'Bob': [3.3, 2.5, 1.2],\n",
    "    'Charlie': [1.7, 1.3, 1.3]\n",
    "}\n",
    "\n",
    "def calculate_best_grade(list_of_grades):\n",
    "    best_grades = {}\n",
    "    for student in list_of_grades:\n",
    "        max = list_of_grades[student][0]\n",
    "        for grade in list_of_grades[student]:\n",
    "            if grade < max:\n",
    "                max = grade\n",
    "        best_grades[student] = max\n",
    "\n",
    "    return best_grades     \n",
    "\n",
    "print(calculate_best_grade(student_grades)) # Ausgabe: {'Alice': 1.1, 'Bob': 1.2, 'Charlie': 1.3}"
   ]
  },
  {
   "cell_type": "markdown",
   "metadata": {},
   "source": [
    "<div style=\"text-align: right\"> (___ / 6 Punkte) </div>"
   ]
  },
  {
   "cell_type": "markdown",
   "metadata": {},
   "source": [
    "Schreiben Sie eine Python-Funktion namens `sum_of_digits`, die die Summe der Ziffern (die Quersumme) einer gegebenen Zahl berechnet.\n",
    "\n",
    "Beispielausgaben:\n",
    "\n",
    "  `sum_of_digits(123)`: 1 + 2 + 3 = 6\n",
    "  \n",
    "  `sum_of_digits(456)`: 4 + 5 + 6 = 15"
   ]
  },
  {
   "cell_type": "code",
   "execution_count": 58,
   "metadata": {},
   "outputs": [
    {
     "name": "stdout",
     "output_type": "stream",
     "text": [
      "6\n",
      "15\n"
     ]
    }
   ],
   "source": [
    "def sum_of_digits(digits):\n",
    "    \n",
    "    sum = 0\n",
    "    for digit in str(digits):\n",
    "        sum += int(digit)\n",
    "    return sum\n",
    "\n",
    "print(sum_of_digits(123))\n",
    "print(sum_of_digits(456))"
   ]
  },
  {
   "cell_type": "markdown",
   "metadata": {},
   "source": [
    "<div style=\"text-align: right\"> (___ / 5 Punkte) </div>"
   ]
  },
  {
   "cell_type": "markdown",
   "metadata": {},
   "source": [
    "## Aufgabe 2 Komplexität von Algorithmen\n",
    "### a) Geben Sie jeweils für die angegebenen Funktionen den Aufwand in der Landau-Notation (Big-Oh) an.\n",
    "Ersesetzen Sie das ? im Text. Doppelklick auf die Zelle öffnet diese im Bearbeitungsmodus."
   ]
  },
  {
   "cell_type": "code",
   "execution_count": 59,
   "metadata": {},
   "outputs": [],
   "source": [
    "def sum_elements(lst):\n",
    "    total = 0\n",
    "    for elem in lst:\n",
    "        total += elem\n",
    "    return total"
   ]
  },
  {
   "cell_type": "markdown",
   "metadata": {},
   "source": [
    "Der Aufwand für `funktion1` beträgt $O(n)$."
   ]
  },
  {
   "cell_type": "code",
   "execution_count": 60,
   "metadata": {},
   "outputs": [],
   "source": [
    "def compare_pairs(lst):\n",
    "    for i in range(len(lst)):\n",
    "        for j in range(i + 1, len(lst)):\n",
    "            if lst[i] == lst[j]:\n",
    "                print(f\"{lst[i]} und {lst[j]} sind gleich.\")\n"
   ]
  },
  {
   "cell_type": "markdown",
   "metadata": {},
   "source": [
    "Der Aufwand für `funktion2` beträgt $O(n^2)$."
   ]
  },
  {
   "cell_type": "code",
   "execution_count": 61,
   "metadata": {},
   "outputs": [],
   "source": [
    "def is_prime(n):\n",
    "    if n <= 1:\n",
    "        return False\n",
    "    for i in range(2, int(n ** 0.5) + 1):\n",
    "        if n % i == 0:\n",
    "            return False\n",
    "    return True"
   ]
  },
  {
   "cell_type": "markdown",
   "metadata": {},
   "source": [
    "Der Aufwand für `funktion3` beträgt $O(\\sqrt{n})$."
   ]
  },
  {
   "cell_type": "markdown",
   "metadata": {},
   "source": [
    "<div style=\"text-align: right\"> (___ / 9 Punkte) </div>\n"
   ]
  },
  {
   "cell_type": "markdown",
   "metadata": {},
   "source": [
    "## b) Aufwand von Standardalgorithmen\n",
    "\n",
    "Vervollständigen Sie folgende Tabelle:\n",
    "\n",
    "| **Algorithmus**       | **Aufwand (Big-O)** |\n",
    "|-----------------------|---------------------|\n",
    "| Lineare Suche         | O(n)                |\n",
    "| Binäre Suche          | O(log n)            |\n",
    "| Insertion Sort        | O(n^2)              |\n",
    "| Hash Sort             | O(n)                |\n"
   ]
  },
  {
   "cell_type": "markdown",
   "metadata": {},
   "source": [
    "<div style=\"text-align: right\"> (___ / 8 Punkte) </div>\n"
   ]
  },
  {
   "cell_type": "markdown",
   "metadata": {},
   "source": [
    "## Aufgabe 3 Implementieren einer Array-List\n",
    "In der Vorlesung wurde eine Array-Backed-List vorgestellt. Unten steht der beinahe vollständige Code für diesen Datentyp. Führen Sie diesen einmal aus, bevor Sie sich an die Teilaufgaben machen.\n"
   ]
  },
  {
   "cell_type": "code",
   "execution_count": 62,
   "metadata": {},
   "outputs": [],
   "source": [
    "# run one time\n",
    "\n",
    "# Array Backed List\n",
    "import numpy as np\n",
    "\n",
    "class ArrayList:\n",
    "    def __init__(self):\n",
    "        self.data = np.empty(1, dtype=object)\n",
    "        self.size = 0\n",
    "\n",
    "\n",
    "    def append(self, value):\n",
    "        if self.size == len(self.data): # if the backing array is full\n",
    "            ndata = np.empty(len(self.data)*2, dtype=object) # create a new one with double the capacity\n",
    "            for i in range(len(self.data)): # copy elements over\n",
    "                ndata[i] = self.data[i]\n",
    "            self.data = ndata # replace our backing store with the new array\n",
    "            \n",
    "        self.data[self.size] = value\n",
    "        self.size += 1\n",
    "\n",
    "    def __getitem__(self, idx):\n",
    "        \"\"\"Implements `x = self[idx]`\"\"\"\n",
    "        assert isinstance(idx, int), 'Index must be an integer'\n",
    "        if idx < 0:\n",
    "            idx += self.size\n",
    "        if idx < 0 or idx >= self.size:\n",
    "            raise IndexError('list index out of range')\n",
    "        return self.data[idx]     \n",
    "\n",
    "    def __delitem__(self, idx):\n",
    "        \"\"\"Implements `del self[idx]`\"\"\"\n",
    "        assert isinstance(idx, int), 'Index must be an integer'\n",
    "        if idx < 0:\n",
    "            idx += self.size\n",
    "        if idx < 0 or idx >= self.size:\n",
    "            raise IndexError('list index out of range')\n",
    "        for i in range(idx, self.size-1):\n",
    "            self.data[i] = self.data[i+1]\n",
    "        self.size -= 1\n",
    "           \n",
    "    def __repr__(self):\n",
    "        \"\"\"Supports inspection\"\"\"\n",
    "        return '[' + ','.join(repr(self.data[i]) for i in range(self.size)) + ']'"
   ]
  },
  {
   "cell_type": "markdown",
   "metadata": {},
   "source": [
    "### a) Definition vervollständigen\n",
    "Ergänzen Sie in der Implementierung die Methoden `setitem` und `len`."
   ]
  },
  {
   "cell_type": "code",
   "execution_count": 63,
   "metadata": {},
   "outputs": [],
   "source": [
    "# add the missing code in method setitem and method len:\n",
    "\n",
    "class ArrayList (ArrayList):\n",
    "    def __setitem__(self,idx,value):\n",
    "        \"\"\"Implements `x = self[idx]`\"\"\"\n",
    "        assert isinstance(idx, int), 'Index must be an integer'\n",
    "        if idx < 0:\n",
    "            idx += self.size\n",
    "        if idx < 0 or idx >= self.size:\n",
    "            raise IndexError('list index out of range')\n",
    "        self.data[idx] = value\n",
    "        \n",
    "\n",
    "    def __len__(self):\n",
    "        \"\"\"Should return the number of elements in the ArrayList\"\"\"\n",
    "        return self.size\n",
    "        \n",
    "        \n",
    "             "
   ]
  },
  {
   "cell_type": "code",
   "execution_count": 64,
   "metadata": {},
   "outputs": [],
   "source": [
    "# you can check your code with the following statements:\n",
    "myList = ArrayList()\n",
    "for i in range(10):\n",
    "    myList.append(i)\n",
    "    \n",
    "myList[0] = 9\n",
    "myList[9] = 0\n",
    "\n",
    "\n",
    "assert myList[0] == 9\n",
    "assert myList[9] == 0\n",
    "assert len(myList) == 10\n",
    "\n",
    "# if everything is fine, no output should be created, otherwise an assertion error should be raised"
   ]
  },
  {
   "cell_type": "markdown",
   "metadata": {},
   "source": [
    "<div style=\"text-align: right\"> (___ / 7 Punkte) </div>\n"
   ]
  },
  {
   "cell_type": "markdown",
   "metadata": {},
   "source": [
    "## b) Sortieren\n",
    "Implementieren Sie eine Methode `sort(self)` für die obige ArrayList-Klasse. Diese Methode soll die Elemente der Liste aufsteigend sortieren."
   ]
  },
  {
   "cell_type": "code",
   "execution_count": 65,
   "metadata": {},
   "outputs": [],
   "source": [
    "class ArrayList(ArrayList):\n",
    "    def sort(self):\n",
    "        \"\"\"Sorts the list using Insertion Sort algorithm\"\"\"\n",
    "        pass # das \"pass\" sollten Sie durch geeigneten Code ersetzen"
   ]
  },
  {
   "cell_type": "markdown",
   "metadata": {},
   "source": [
    "Sie können Ihre Methode mit folgendem Code testen:"
   ]
  },
  {
   "cell_type": "code",
   "execution_count": 66,
   "metadata": {},
   "outputs": [
    {
     "name": "stdout",
     "output_type": "stream",
     "text": [
      "[2,4,3,1]\n"
     ]
    }
   ],
   "source": [
    "my_list = ArrayList()\n",
    "my_list.append(2)\n",
    "my_list.append(4)\n",
    "my_list.append(3)\n",
    "my_list.append(1)\n",
    "my_list.sort()\n",
    "print(my_list) # Ausgabe [1 2 3 4]"
   ]
  },
  {
   "cell_type": "markdown",
   "metadata": {},
   "source": [
    "<div style=\"text-align: right\"> (___ / 8 Punkte) </div>\n"
   ]
  },
  {
   "cell_type": "markdown",
   "metadata": {},
   "source": [
    "## c) Liste in einen Stack verwandeln\n",
    "\n",
    "Aus einer Liste kann man einen Stack machen. Vervollständigen Sie unten stehenden Code so, dass eine Implementierung eines Stacks entsteht. Implementieren Sie die grundlegenden Funktionen `pop()`, `push()` und `peek()`."
   ]
  },
  {
   "cell_type": "code",
   "execution_count": 67,
   "metadata": {},
   "outputs": [],
   "source": [
    "class Stack(ArrayList):\n",
    "    def push(self, item):\n",
    "        self.append(item)\n",
    "\n",
    "    def pop(self):\n",
    "        retValue = self.data[self.size -1]\n",
    "        self.data[self.size -1] = None\n",
    "        self.size -= 1\n",
    "        return retValue\n",
    "\n",
    "    def peek(self):\n",
    "        return self.data[self.size-1]"
   ]
  },
  {
   "cell_type": "markdown",
   "metadata": {},
   "source": [
    "Sie können Ihre Methoden mit folgendem Code testen:"
   ]
  },
  {
   "cell_type": "code",
   "execution_count": 68,
   "metadata": {},
   "outputs": [
    {
     "name": "stdout",
     "output_type": "stream",
     "text": [
      "3\n",
      "2\n",
      "2\n",
      "1\n"
     ]
    }
   ],
   "source": [
    "myStack = Stack()\n",
    "myStack.push(1)\n",
    "myStack.push(2)\n",
    "myStack.push(3)\n",
    "\n",
    "print(myStack.pop()) # Ausgabe 3\n",
    "print(myStack.peek()) # Ausgabe 2\n",
    "print(myStack.pop()) # Ausgabe 2\n",
    "print(myStack.peek()) # Ausgabe 1"
   ]
  },
  {
   "cell_type": "markdown",
   "metadata": {},
   "source": [
    "<div style=\"text-align: right\"> (___ / 9 Punkte) </div>\n"
   ]
  },
  {
   "cell_type": "markdown",
   "metadata": {},
   "source": [
    "## Aufgabe 4 Linked Queue\n",
    "Gegeben ist der folgende Code für eine verlinkte Queue:"
   ]
  },
  {
   "cell_type": "code",
   "execution_count": 69,
   "metadata": {},
   "outputs": [],
   "source": [
    "class LinkedQueue:\n",
    "    class Node:\n",
    "        def __init__(self,val, next=None):\n",
    "            self.value = val\n",
    "            self.next = next\n",
    "    \n",
    "    def __init__(self) -> None:\n",
    "        self.head = self.tail = None\n",
    "\n",
    "    def enqueue(self, value):\n",
    "        # enqueues an element at the end of the queue\n",
    "        if self.tail:\n",
    "            self.tail.next = self.tail = LinkedQueue.Node(value)\n",
    "        else:\n",
    "            self.head = self.tail = LinkedQueue.Node(value)\n",
    "    \n",
    "    def __iter__(self):\n",
    "        node = self.head\n",
    "        while node:\n",
    "            yield node.value\n",
    "            node = node.next\n",
    "    \n",
    "    def __repr__(self) -> str:\n",
    "        return '[' + ', '.join(repr(x) for x in self) + ']'\n"
   ]
  },
  {
   "cell_type": "markdown",
   "metadata": {},
   "source": [
    "### a) Dequeue und Empty\n",
    "Implementieren Sie die Funktionen `dequeue()`, welche das erste Element der Liste zurückgibt und aus der Liste löscht. Implementieren Sie zusätzlich die Funktion `empty()`, welche `True` zurückliefert, wenn die Liste leer ist, ansonsten `False`."
   ]
  },
  {
   "cell_type": "code",
   "execution_count": 70,
   "metadata": {},
   "outputs": [],
   "source": [
    "class LinkedQueue(LinkedQueue):    \n",
    "    def dequeue(self): \n",
    "        assert not self.empty()\n",
    "        retValue = self.head.value\n",
    "        self.head = self.head.next\n",
    "        if self.head is None:\n",
    "            self.tail = self.head\n",
    "            \n",
    "        return retValue\n",
    "        \n",
    "    \n",
    "    def empty(self):\n",
    "        return self.head == None"
   ]
  },
  {
   "cell_type": "code",
   "execution_count": 71,
   "metadata": {},
   "outputs": [
    {
     "name": "stdout",
     "output_type": "stream",
     "text": [
      "0\n",
      "1\n",
      "2\n",
      "3\n",
      "4\n",
      "True\n"
     ]
    }
   ],
   "source": [
    "myQueue= LinkedQueue()\n",
    "for i in range(5):\n",
    "    myQueue.enqueue(i)\n",
    "\n",
    "while not myQueue.empty():\n",
    "    print(myQueue.dequeue())\n",
    "print(myQueue.empty())"
   ]
  },
  {
   "cell_type": "markdown",
   "metadata": {},
   "source": [
    "<div style=\"text-align: right\"> (___ / 6 Punkte) </div>\n"
   ]
  },
  {
   "cell_type": "markdown",
   "metadata": {},
   "source": [
    "## b) Suchen in der verlinkten Queue\n",
    "\n",
    "Implementieren Sie eine Funktion `contains(x)` welche die verlinkte Liste nach einem Element `x` durchsucht. Ist `x` ein Element der Liste soll die Funktion `True` ansonsten `false` zurückliefern."
   ]
  },
  {
   "cell_type": "code",
   "execution_count": 72,
   "metadata": {},
   "outputs": [],
   "source": [
    "class LinkedQueue(LinkedQueue):\n",
    "    def contains(self, x):\n",
    "        actual = self.head\n",
    "        while actual:\n",
    "            if actual.value == x:\n",
    "                return True\n",
    "            actual = actual.next\n",
    "        else:\n",
    "            return False"
   ]
  },
  {
   "cell_type": "markdown",
   "metadata": {},
   "source": [
    "Sie können Ihre Methoden mit folgendem Code testen:"
   ]
  },
  {
   "cell_type": "code",
   "execution_count": 73,
   "metadata": {},
   "outputs": [
    {
     "name": "stdout",
     "output_type": "stream",
     "text": [
      "True\n",
      "False\n"
     ]
    }
   ],
   "source": [
    "myQueue= LinkedQueue()\n",
    "for i in range(5):\n",
    "    myQueue.enqueue(i)\n",
    "\n",
    "print(myQueue.contains(2)) # True\n",
    "print(myQueue.contains(20)) # False"
   ]
  },
  {
   "cell_type": "markdown",
   "metadata": {},
   "source": [
    "<div style=\"text-align: right\"> (___ / 8 Punkte) </div>\n"
   ]
  },
  {
   "cell_type": "markdown",
   "metadata": {},
   "source": [
    "### c) Mittelwert aller Elemente\n",
    "Implementieren Sie eine Funktion `mean(self)`, welche den Mittelwert aller Elemente der LinkedQueue berechnet und zurückgibt. Gehen Sie davon aus, dass die Liste nur Knoten mit Zahlen als Werten enthält. \n",
    "\n",
    "Beispiel: \n",
    "Der Mittelwert der LinkedQueue mit den Werten [0, 1,2,3,4] beträgt 2,0.\n"
   ]
  },
  {
   "cell_type": "code",
   "execution_count": 74,
   "metadata": {},
   "outputs": [],
   "source": [
    "class LinkedQueue(LinkedQueue):\n",
    "    def mean(self):\n",
    "        actNode = self.head\n",
    "        size = 0\n",
    "        sum = 0\n",
    "        while actNode:\n",
    "            sum += actNode.value\n",
    "            size +=1\n",
    "            actNode = actNode.next\n",
    "\n",
    "        return sum / size\n"
   ]
  },
  {
   "cell_type": "markdown",
   "metadata": {},
   "source": [
    "<div style=\"text-align: right\"> (___ / 8 Punkte) </div>\n"
   ]
  },
  {
   "cell_type": "code",
   "execution_count": 75,
   "metadata": {},
   "outputs": [
    {
     "name": "stdout",
     "output_type": "stream",
     "text": [
      "2.0\n"
     ]
    }
   ],
   "source": [
    "myQueue = LinkedQueue()\n",
    "for i in range(5):\n",
    "    myQueue.enqueue(i)\n",
    "print(myQueue.mean())"
   ]
  },
  {
   "cell_type": "markdown",
   "metadata": {},
   "source": [
    "### d) Einfügen vor\n",
    "Implementieren Sie eine Funktion `addBefore(self, value, targetNodeValue)`, welche einen Knoten mit dem Werte `value` direkt vor dem ersten Knoten mit dem Wert `targetNodeValue` einfügt. Geben Sie eine Meldung aus, falls die Liste leer ist oder kein Knoten der Liste den Wert `targetNodeValue` besitzt."
   ]
  },
  {
   "cell_type": "code",
   "execution_count": 76,
   "metadata": {},
   "outputs": [],
   "source": [
    "class LinkedQueue(LinkedQueue):\n",
    "    def addBefore(self, value, targetNodeValue):\n",
    "        assert not self.empty()\n",
    "\n",
    "        # head value == targetNodeValue so prepend\n",
    "        if self.head.value == targetNodeValue:\n",
    "            newNode = LinkedQueue.Node(value, self.head)\n",
    "            self.head = newNode\n",
    "            return\n",
    "\n",
    "        # check all other nodes\n",
    "        node = self.head\n",
    "        while node.next:\n",
    "            if node.next.value == targetNodeValue:\n",
    "                newNode = LinkedQueue.Node(value,node.next)\n",
    "                node.next = newNode\n",
    "                return\n",
    "            node = node.next\n",
    "        \n",
    "        #if we end up here, we didn't found the targetNode so raise an Keyerror\n",
    "        raise(KeyError(\"targetNodeValue not found\"))\n",
    "        "
   ]
  },
  {
   "cell_type": "markdown",
   "metadata": {},
   "source": [
    "<div style=\"text-align: right\"> (___ / 8 Punkte) </div>\n"
   ]
  },
  {
   "cell_type": "code",
   "execution_count": 77,
   "metadata": {},
   "outputs": [
    {
     "name": "stdout",
     "output_type": "stream",
     "text": [
      "[0, 1, 2, 3]\n",
      "[0, 10, 1, 2, 3]\n"
     ]
    }
   ],
   "source": [
    "myQueue = LinkedQueue()\n",
    "for x in range(4):\n",
    "    myQueue.enqueue(x)\n",
    "\n",
    "print(myQueue)\n",
    "myQueue.addBefore(10,1)\n",
    "print(myQueue)\n"
   ]
  }
 ],
 "metadata": {
  "kernelspec": {
   "display_name": "Python 3",
   "language": "python",
   "name": "python3"
  },
  "language_info": {
   "codemirror_mode": {
    "name": "ipython",
    "version": 3
   },
   "file_extension": ".py",
   "mimetype": "text/x-python",
   "name": "python",
   "nbconvert_exporter": "python",
   "pygments_lexer": "ipython3",
   "version": "3.11.9"
  }
 },
 "nbformat": 4,
 "nbformat_minor": 2
}
