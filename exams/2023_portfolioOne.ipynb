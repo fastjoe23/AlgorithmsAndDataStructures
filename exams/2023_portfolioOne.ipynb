{
 "cells": [
  {
   "attachments": {},
   "cell_type": "markdown",
   "metadata": {},
   "source": [
    "# Portfolio Prüfung I WWI2022B\n",
    "Bitte bearbeiten Sie alle Aufgaben direkt  hier im Notebook und geben Sie die .ipynb-Datei am Ende der Portfolio-Prüfung [hier](https://privacy.dhbw-stuttgart.de/wwi2022b.html) ab.\n",
    "Für Aufgaben die ohne Code erstellt werden, steht nach der Aufgabenstellung ein Markdown Antwortfeld zur Verfügung. \n",
    "Für Aufgaben bei denen ein Code verlangt wird, befindet sich nach der Aufgabenstellung ein interaktives Code-Feld (ggf. mit schon vorab ausgefüllten Code-Fragementen).\n",
    "\n",
    "Viel Erfolg "
   ]
  },
  {
   "attachments": {},
   "cell_type": "markdown",
   "metadata": {},
   "source": [
    "## Aufgabe 1 Python Basics\n",
    "\n",
    "### a) Bildschirmausgaben \n",
    "Ersetzen Sie unten in der Variable `myNumber` die Zahl 12345678 durch Ihre Matrikelnummer. Geben Sie anschließend den Inhalt der LIste myList einmal normal, einmal rückwärts und einmal nur jedes zweite Zeichen am Ende der Codezeile aus. \n",
    "Beispielausgabe:\n",
    "```\n",
    "MatrikelNummer:  ['1', '2', '3', '4', '5', '6', '7', '8', '9']\n",
    "Rückwärts:  ['9', '8', '7', '6', '5', '4', '3', '2', '1']\n",
    "Jedes zweite Zeichen:  ['1', '3', '5', '7', '9']\n",
    "```\n",
    "(____ / 2 Punkte)"
   ]
  },
  {
   "cell_type": "code",
   "execution_count": null,
   "metadata": {},
   "outputs": [],
   "source": [
    "# insert code for print here:\n",
    "myNumber ='123456789'\n",
    "myList = list(myNumber)\n",
    "print(\"MatrikelNummer: \", ?)\n",
    "print(\"Rückwärts: \", ?)\n",
    "print(\"Jedes zweite Zeichen: \", ?)"
   ]
  },
  {
   "attachments": {},
   "cell_type": "markdown",
   "metadata": {},
   "source": [
    "### b) Erzeugen von Grafiken\n",
    "Erzeugen Sie eine Grafik welche die Unterschiede von Komplexitätsgraden von Algorithmen veranschaulicht. Auf der x-Achse sollte $n$ abgebildet sein, auf der y-Achse die Funktionen $f(n), g(n), h(n), i(n)$, wobei gilt $f(n) = O(n), g(n) = O(n^2), h(n)= O(\\log n), i(n) = O(n \\log n)$.\n",
    "\n",
    "(____ / 3 Punkte)"
   ]
  },
  {
   "cell_type": "code",
   "execution_count": null,
   "metadata": {},
   "outputs": [],
   "source": [
    "import matplotlib.pyplot as plt\n",
    "import numpy as np #includes log-function np.log(x) \n",
    "\n",
    "x = np.linspace(1, 10,30)\n",
    "\n",
    "# generate the function values\n",
    "fx = np.zeros(len(x))\n",
    "# gx =  ?\n",
    "# hx =\n",
    "# ix = ?\n",
    "\n",
    "# Plotting\n",
    "plt.plot(x,fx)\n",
    "#....\n",
    "\n",
    "plt.legend(['f(x)']) # add other functions\n"
   ]
  },
  {
   "attachments": {},
   "cell_type": "markdown",
   "metadata": {},
   "source": [
    "## Aufgabe 2 Komplexität von Algorithmen\n",
    "\n",
    "### a) Schätzen von Aufwand\n",
    "Geben Sie für die folgenden Funktionen `(funktion1, funktion2, funktion3)` jeweils in der Markdwon-Zeile darunter den Aufwand in der Big-O / Landau-Notation an (ersetzen Sie das Fragezeichen)."
   ]
  },
  {
   "cell_type": "code",
   "execution_count": null,
   "metadata": {},
   "outputs": [],
   "source": [
    "def funktion1(n):\n",
    "    retValue = 0\n",
    "    for i in range(n,0,-1):\n",
    "        retValue += i\n",
    "    return retValue"
   ]
  },
  {
   "attachments": {},
   "cell_type": "markdown",
   "metadata": {},
   "source": [
    "Der Aufwand für `funktion1` beträgt $O(?)$."
   ]
  },
  {
   "cell_type": "code",
   "execution_count": null,
   "metadata": {},
   "outputs": [],
   "source": [
    "def funktion2(n):\n",
    "    lst = []\n",
    "    for i in range(n*n):  \n",
    "        lst.append(i)\n",
    "        lst[i%n] += i\n",
    "    return lst "
   ]
  },
  {
   "attachments": {},
   "cell_type": "markdown",
   "metadata": {},
   "source": [
    "Der Aufwand für `funktion2` beträgt $O(?)$."
   ]
  },
  {
   "cell_type": "code",
   "execution_count": null,
   "metadata": {},
   "outputs": [],
   "source": [
    "def funktion3(n):\n",
    "    lst = []\n",
    "    for i in range(100):\n",
    "       lst.append(i)\n",
    "       for j in range(1,100,n):\n",
    "          lst[i] = j\n",
    "    return lst"
   ]
  },
  {
   "attachments": {},
   "cell_type": "markdown",
   "metadata": {},
   "source": [
    "Der Aufwand für `funktion3`beträgt $O(?)$.\n",
    "\n",
    "(____ /  6 Punkte)"
   ]
  },
  {
   "attachments": {},
   "cell_type": "markdown",
   "metadata": {},
   "source": [
    "## Aufgabe 3 Implementieren einer Array-List\n",
    "\n",
    "In der Vorlesung wurde eine Array-Backed-List vorgestellt. Unten steht der beinahe vollständige Code für diesen Datentyp. Führen Sie diesen einmal aus, bevor Sie sich an die Teilaufgaben machen.\n"
   ]
  },
  {
   "cell_type": "code",
   "execution_count": null,
   "metadata": {},
   "outputs": [],
   "source": [
    "# run one time\n",
    "\n",
    "# Array Backed List\n",
    "import numpy as np\n",
    "\n",
    "class ArrayList:\n",
    "    def __init__(self):\n",
    "        self.data = np.empty(1, dtype=object)\n",
    "        self.size = 0\n",
    "\n",
    "    def append(self, value):\n",
    "        if self.size == len(self.data): # if the backing array is full\n",
    "            ndata = np.empty(len(self.data)*2, dtype=object) # create a new one with double the capacity\n",
    "            for i in range(len(self.data)): # copy elements over\n",
    "                ndata[i] = self.data[i]\n",
    "            self.data = ndata # replace our backing store with the new array\n",
    "            \n",
    "        self.data[self.size] = value\n",
    "        self.size += 1\n",
    " \n",
    "    def __getitem__(self, idx):\n",
    "        \"\"\"Implements `x = self[idx]`\"\"\"\n",
    "        assert isinstance(idx, int), 'Index must be an integer'\n",
    "        if idx < 0:\n",
    "            idx += self.size\n",
    "        if idx < 0 or idx >= self.size:\n",
    "            raise IndexError('list index out of range')\n",
    "        return self.data[idx]        \n",
    "\n",
    "    def __delitem__(self, idx):\n",
    "        \"\"\"Implements `del self[idx]`\"\"\"\n",
    "        assert isinstance(idx, int), 'Index must be an integer'\n",
    "        if idx < 0:\n",
    "            idx += self.size\n",
    "        if idx < 0 or idx >= self.size:\n",
    "            raise IndexError('list index out of range')\n",
    "        for i in range(idx, self.size-1):\n",
    "            self.data[i] = self.data[i+1]\n",
    "        self.size -= 1\n",
    "           \n",
    "    def __repr__(self):\n",
    "        \"\"\"Supports inspection\"\"\"\n",
    "        return '[' + ','.join(repr(self.data[i]) for i in range(self.size)) + ']'"
   ]
  },
  {
   "attachments": {},
   "cell_type": "markdown",
   "metadata": {},
   "source": [
    "### a) Definition vervollständigen\n",
    "Ergänzen Sie in der Implementierung die Methoden `setitem` und `len`. (____ / 3 Punkte)"
   ]
  },
  {
   "cell_type": "code",
   "execution_count": null,
   "metadata": {},
   "outputs": [],
   "source": [
    "# add the missing code in method setitem and method len:\n",
    "\n",
    "class ArrayList (ArrayList):\n",
    "    def __setitem__(self,idx,value):\n",
    "        \"\"\"Implements `self[idx] = x`\"\"\"\n",
    "        assert isinstance(idx, int), 'Index must be an integer'\n",
    "        if idx < 0:\n",
    "            idx += self.size\n",
    "        if idx < 0 or idx >= self.size:\n",
    "            raise IndexError('list index out of range')\n",
    "        # ...\n",
    "        \n",
    "\n",
    "    def __len__(self):\n",
    "        \"\"\"Should return the number of elements in the ArrayList\"\"\"\n",
    "        #...\n",
    "        \n",
    "        \n",
    "             "
   ]
  },
  {
   "cell_type": "code",
   "execution_count": null,
   "metadata": {},
   "outputs": [],
   "source": [
    "# you can check your code with the following statements:\n",
    "myList = ArrayList()\n",
    "for i in range(10):\n",
    "    myList.append(i)\n",
    "\n",
    "myList[0] = 9\n",
    "myList[9] = 0\n",
    "\n",
    "assert myList[0] == 9\n",
    "assert myList[9] == 0\n",
    "assert len(myList) == 10\n",
    "\n",
    "# if everything is fine, no output should be created, otherwise an assertion error should be raised"
   ]
  },
  {
   "attachments": {},
   "cell_type": "markdown",
   "metadata": {},
   "source": [
    "### b) Sortieren\n",
    "Vervollständigen Sie den unten stehenden Code, so dass die Klasse `ArrayList` eine Funktionalität zum Sortieren, mittels der InsertionSort-Methode erhält. \n",
    "\n",
    "(____ / 4 Punkte)"
   ]
  },
  {
   "cell_type": "code",
   "execution_count": null,
   "metadata": {},
   "outputs": [],
   "source": [
    "class ArrayList(ArrayList):\n",
    "    def sort(self):\n",
    "        # Implements insertion sort ( in ascending order) on\n",
    "        # the contents of the list\n",
    "        "
   ]
  },
  {
   "cell_type": "code",
   "execution_count": null,
   "metadata": {},
   "outputs": [],
   "source": [
    "# check your sort method with the following code\n",
    "toSortList = ArrayList()\n",
    "values = [5,3,2,1,4]\n",
    "for i in values:\n",
    "    toSortList.append(i)\n",
    "print(\"unsorted: \" + repr(toSortList))\n",
    "toSortList.sort()\n",
    "print(\"sorted:   \" + repr(toSortList)) # should be [1,2,3,4,5]"
   ]
  },
  {
   "attachments": {},
   "cell_type": "markdown",
   "metadata": {},
   "source": [
    "Gestalten Sie zusätzlich ein Sortier-Experiment, welches zeigt, dass der Aufwand beim Insertion Sort im schlechtesten Fall $O(n^2)$ ist (____ / 5 Punkte):"
   ]
  },
  {
   "cell_type": "code",
   "execution_count": null,
   "metadata": {},
   "outputs": [],
   "source": [
    "import timeit\n",
    "import matplotlib.pyplot as plt\n",
    "import numpy as np\n",
    "\n",
    "def mySetup(lst, n): \n",
    "    # funtion for the timeit setup\n",
    "    # should fill the ArrayList lst with a number of n unsorted values\n",
    "    pass\n",
    "\n",
    "ns = np.linspace(100, 1000, 50, dtype=int)\n",
    "\n",
    "# in the stmt string the unsorted ArrayList should be sorted\n",
    "ts1 = [timeit.timeit(stmt='?.....?', \n",
    "                     setup= f'lst = ArrayList(); mySetup(lst,{n})',\n",
    "                     globals=globals(), \n",
    "                     number=3)\n",
    "       for n in ns]\n",
    "\n",
    "\n",
    "plt.plot(ns, ts1, 'ob')\n"
   ]
  },
  {
   "attachments": {},
   "cell_type": "markdown",
   "metadata": {},
   "source": [
    "### c) Teile löschen\n",
    "Implementieren Sie eine Methode `truncate`, welche alle Elemente einer ArrayList außer denen zwischen einem vorgegebenen `start`-Index (inklusive) und `stop`-Index (exklusive), löscht. \n",
    "\n",
    "Beispiel: Gegeben sei die Liste mit den Einträgen `myList = [a, b, c, d, e, f, g, h]`. Wendet man auf diese den Befehl `myList.truncate(2,6)` an, so ergibt sich `[c, d, e, f]`.\n",
    "\n",
    "Gehen Sie davon aus, dass `start` und `stop` gültige Indizes der Liste sind. \n",
    "\n",
    "(____ / 7 Punkte)"
   ]
  },
  {
   "cell_type": "code",
   "execution_count": null,
   "metadata": {},
   "outputs": [],
   "source": [
    "class ArrayList(ArrayList):\n",
    "    def truncate(startIndex, endIndex):\n",
    "        pass"
   ]
  },
  {
   "cell_type": "code",
   "execution_count": null,
   "metadata": {},
   "outputs": [],
   "source": [
    "# you can check your truncate method with the following code\n",
    "myList = ArrayList()\n",
    "values = ['a','b','c','d','e','f','g','h']\n",
    "for c in values:\n",
    "    myList.append(c)\n",
    "print(myList) # prints ['a','b','c','d','e','f','g','h']\n",
    "myList.truncate(2,6)\n",
    "print(myList) # should print ['c','d','e','f']"
   ]
  },
  {
   "attachments": {},
   "cell_type": "markdown",
   "metadata": {},
   "source": [
    "## Abgabe\n",
    "Bitte denken Sie daran, ihre Notebook-Datei auf den Abgabe-Server hochzuladen.\n",
    "\n",
    "https://privacy.dhbw-stuttgart.de/wwi2022b.html"
   ]
  }
 ],
 "metadata": {
  "kernelspec": {
   "display_name": "Python 3",
   "language": "python",
   "name": "python3"
  },
  "language_info": {
   "codemirror_mode": {
    "name": "ipython",
    "version": 3
   },
   "file_extension": ".py",
   "mimetype": "text/x-python",
   "name": "python",
   "nbconvert_exporter": "python",
   "pygments_lexer": "ipython3",
   "version": "3.11.5"
  },
  "orig_nbformat": 4
 },
 "nbformat": 4,
 "nbformat_minor": 2
}
