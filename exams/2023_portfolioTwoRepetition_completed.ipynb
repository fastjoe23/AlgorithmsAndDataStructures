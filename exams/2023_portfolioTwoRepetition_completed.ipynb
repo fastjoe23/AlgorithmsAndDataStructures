{
 "cells": [
  {
   "attachments": {},
   "cell_type": "markdown",
   "metadata": {},
   "source": [
    "# Portfolio Prüfung Wiederholung WWI2022B\n",
    "Bitte bearbeiten Sie alle Aufgaben direkt  hier im Notebook und geben Sie die .ipynb-Datei am Ende der Portfolio-Prüfung [hier](https://privacy.dhbw-stuttgart.de/wwi2022b.html) ab.\n",
    "Für Aufgaben die ohne Code erstellt werden, steht nach der Aufgabenstellung ein Markdown Antwortfeld zur Verfügung. \n",
    "Für Aufgaben bei denen ein Code verlangt wird, befindet sich nach der Aufgabenstellung ein interaktives Code-Feld (ggf. mit schon vorab ausgefüllten Code-Fragementen).\n",
    "\n",
    "Viel Erfolg "
   ]
  },
  {
   "attachments": {},
   "cell_type": "markdown",
   "metadata": {},
   "source": [
    "## Aufgabe 1 Python Basics\n",
    "\n",
    "Verwenden Sie jeweils eine Zeile Code um die im Kommentar beschriebene Funktionalität zu erzeugen."
   ]
  },
  {
   "cell_type": "code",
   "execution_count": 77,
   "metadata": {},
   "outputs": [
    {
     "name": "stdout",
     "output_type": "stream",
     "text": [
      "WWI rockt\n"
     ]
    }
   ],
   "source": [
    "# geben Sie \"WWI rockt\" als Output der Codezelle aus\n",
    "print(\"WWI rockt\")"
   ]
  },
  {
   "cell_type": "code",
   "execution_count": 78,
   "metadata": {},
   "outputs": [],
   "source": [
    "# Erstellen Sie eine Liste mit den Zahlen 1, 2, 3, 4 und weise Sie sie der Variablen \"zahlen\" zu.\n",
    "zahlen= [1,2,34]"
   ]
  },
  {
   "cell_type": "code",
   "execution_count": 79,
   "metadata": {},
   "outputs": [],
   "source": [
    "# Erstellen Sie eine Range aller geraden Zahlen von 2 bis 100 (einschließlich) und weisen Sie sie der Variablen \"nummern\" zu.\n",
    "nummern = range(2,101,2)"
   ]
  },
  {
   "attachments": {},
   "cell_type": "markdown",
   "metadata": {},
   "source": [
    "<div style=\"text-align: right\"> (___ / 3 Punkte) </div>\n"
   ]
  },
  {
   "attachments": {},
   "cell_type": "markdown",
   "metadata": {},
   "source": [
    "## Aufgabe 2 Linked Queue\n",
    "Gegeben ist der folgende Code für eine verlinkte Queue:"
   ]
  },
  {
   "cell_type": "code",
   "execution_count": 80,
   "metadata": {},
   "outputs": [],
   "source": [
    "class LinkedQueue:\n",
    "    class Node:\n",
    "        def __init__(self,val, next=None):\n",
    "            self.value = val\n",
    "            self.next = next\n",
    "    \n",
    "    def __init__(self) -> None:\n",
    "        self.head = self.tail = None\n",
    "\n",
    "    def enqueue(self, value):\n",
    "        # enqueues an element at the end of the queue\n",
    "        if self.tail:\n",
    "            self.tail.next = self.tail = LinkedQueue.Node(value)\n",
    "        else:\n",
    "            self.head = self.tail = LinkedQueue.Node(value)\n",
    "    \n",
    "    def __iter__(self):\n",
    "        node = self.head\n",
    "        while node:\n",
    "            yield node.value\n",
    "            node = node.next\n",
    "    \n",
    "    def __repr__(self) -> str:\n",
    "        return '[' + ', '.join(repr(x) for x in self) + ']'\n"
   ]
  },
  {
   "attachments": {},
   "cell_type": "markdown",
   "metadata": {},
   "source": [
    "### a) Dequeue und Empty\n",
    "Implementieren Sie die Funktionen `dequeue()`, welche das erste Element der Liste zurückgibt und aus der Liste löscht. Implementieren Sie zusätzlich die Funktion `empty()`, welche `True` zurückliefert, wenn die Liste leer ist, ansonsten `False`."
   ]
  },
  {
   "cell_type": "code",
   "execution_count": 81,
   "metadata": {},
   "outputs": [],
   "source": [
    "class LinkedQueue(LinkedQueue):    \n",
    "    def dequeue(self): \n",
    "        assert not self.empty()\n",
    "        retValue = self.head.value\n",
    "        self.head = self.head.next\n",
    "        if self.head is None:\n",
    "            self.tail = self.head\n",
    "            \n",
    "        return retValue\n",
    "        \n",
    "    \n",
    "    def empty(self):\n",
    "        return self.head == None"
   ]
  },
  {
   "attachments": {},
   "cell_type": "markdown",
   "metadata": {},
   "source": [
    "<div style=\"text-align: right\"> (___ / 6 Punkte) </div>\n"
   ]
  },
  {
   "cell_type": "code",
   "execution_count": 82,
   "metadata": {},
   "outputs": [
    {
     "name": "stdout",
     "output_type": "stream",
     "text": [
      "0\n",
      "1\n",
      "2\n",
      "3\n",
      "4\n",
      "True\n"
     ]
    }
   ],
   "source": [
    "myQueue= LinkedQueue()\n",
    "for i in range(5):\n",
    "    myQueue.enqueue(i)\n",
    "\n",
    "while not myQueue.empty():\n",
    "    print(myQueue.dequeue())\n",
    "print(myQueue.empty())"
   ]
  },
  {
   "attachments": {},
   "cell_type": "markdown",
   "metadata": {},
   "source": [
    "### b) Mittelwert aller Elemente\n",
    "Implementieren Sie eine Funktion `mean(self)`, welche den Mittelwert aller Elemente der LinkedQueue berechnet und zurückgibt. Gehen Sie davon aus, dass die Liste nur Knoten mit Zahlen als Werten enthält. \n",
    "\n",
    "Beispiel: \n",
    "Der Mittelwert der LinkedQueue mit den Werten [1,2,3,4] beträgt 2,5.\n"
   ]
  },
  {
   "cell_type": "code",
   "execution_count": 83,
   "metadata": {},
   "outputs": [],
   "source": [
    "class LinkedQueue(LinkedQueue):\n",
    "    def mean(self):\n",
    "        actNode = self.head\n",
    "        size = 0\n",
    "        sum = 0\n",
    "        while actNode:\n",
    "            sum += actNode.value\n",
    "            size +=1\n",
    "            actNode = actNode.next\n",
    "\n",
    "        return sum / size\n"
   ]
  },
  {
   "attachments": {},
   "cell_type": "markdown",
   "metadata": {},
   "source": [
    "<div style=\"text-align: right\"> (___ / 3 Punkte) </div>\n"
   ]
  },
  {
   "cell_type": "code",
   "execution_count": 84,
   "metadata": {},
   "outputs": [
    {
     "name": "stdout",
     "output_type": "stream",
     "text": [
      "2.0\n"
     ]
    }
   ],
   "source": [
    "myQueue = LinkedQueue()\n",
    "for i in range(5):\n",
    "    myQueue.enqueue(i)\n",
    "print(myQueue.mean())"
   ]
  },
  {
   "attachments": {},
   "cell_type": "markdown",
   "metadata": {},
   "source": [
    "### c) Einfügen vor\n",
    "Implementieren Sie eine Funktion `addBefore(self, value, targetNodeValue)`, welche einen Knoten mit dem Werte `value` direkt vor dem ersten Knoten mit dem Wert `targetNodeValue` einfügt. Geben Sie eine Meldung aus, falls die Liste leer ist oder kein Knoten der Liste den Wert `targetNodeValue` besitzt."
   ]
  },
  {
   "cell_type": "code",
   "execution_count": 85,
   "metadata": {},
   "outputs": [],
   "source": [
    "class LinkedQueue(LinkedQueue):\n",
    "    def addBefore(self, value, targetNodeValue):\n",
    "        assert not self.empty()\n",
    "\n",
    "        # head value == targetNodeValue so prepend\n",
    "        if self.head.value == targetNodeValue:\n",
    "            newNode = LinkedQueue.Node(value, self.head)\n",
    "            self.head = newNode\n",
    "            return\n",
    "\n",
    "        # check all other nodes\n",
    "        node = self.head\n",
    "        while node.next:\n",
    "            if node.next.value == targetNodeValue:\n",
    "                newNode = LinkedQueue.Node(value,node.next)\n",
    "                node.next = newNode\n",
    "                return\n",
    "            node = node.next\n",
    "        \n",
    "        #if we end up here, we didn't found the targetNode so raise an Keyerror\n",
    "        raise(KeyError(\"targetNodeValue not found\"))\n",
    "        "
   ]
  },
  {
   "attachments": {},
   "cell_type": "markdown",
   "metadata": {},
   "source": [
    "<div style=\"text-align: right\"> (___ / 6 Punkte) </div>\n"
   ]
  },
  {
   "cell_type": "code",
   "execution_count": 86,
   "metadata": {},
   "outputs": [
    {
     "name": "stdout",
     "output_type": "stream",
     "text": [
      "[0, 1, 2, 3]\n",
      "[0, 10, 1, 2, 3]\n"
     ]
    }
   ],
   "source": [
    "myQueue = LinkedQueue()\n",
    "for x in range(4):\n",
    "    myQueue.enqueue(x)\n",
    "\n",
    "print(myQueue)\n",
    "myQueue.addBefore(10,1)\n",
    "print(myQueue)\n"
   ]
  },
  {
   "attachments": {},
   "cell_type": "markdown",
   "metadata": {},
   "source": [
    "## Aufgabe 3 Komplexität von Algorithmen\n",
    "Schreiben Sie jeweils eine beliebige Funktion, welche eine Python Liste als Eingabe erhält und die vorgegeben Laufzeitkomplexität hat.\n",
    "\n",
    "Beispiel:\n",
    "\n",
    "Erstellen Sie eine Funktion mit konstanten Aufwand $O(1)$:"
   ]
  },
  {
   "cell_type": "code",
   "execution_count": 87,
   "metadata": {},
   "outputs": [],
   "source": [
    "myList = [x for x in range(10)]\n",
    "# define a function with O(1) complexity\n",
    "def functionExample(myList):\n",
    "    return myList[0]"
   ]
  },
  {
   "attachments": {},
   "cell_type": "markdown",
   "metadata": {},
   "source": [
    "### a) Linearer Aufwand\n",
    "Definieren Sie eine Funktion mit linearem Aufwand $O(n)$."
   ]
  },
  {
   "cell_type": "code",
   "execution_count": 88,
   "metadata": {},
   "outputs": [],
   "source": [
    "myList = [x for x in range(10)]\n",
    "# define a function with O(n) complexity\n",
    "def function1(myList):\n",
    "    pass"
   ]
  },
  {
   "attachments": {},
   "cell_type": "markdown",
   "metadata": {},
   "source": [
    "<div style=\"text-align: right\"> (___ / 3 Punkte) </div>\n"
   ]
  },
  {
   "attachments": {},
   "cell_type": "markdown",
   "metadata": {},
   "source": [
    "### b) Quadratischer Aufwand\n",
    "Definieren Sie eine Funktion mit quadratischem Aufwand $O(n^2)$."
   ]
  },
  {
   "cell_type": "code",
   "execution_count": 89,
   "metadata": {},
   "outputs": [],
   "source": [
    "myList = [x for x in range(10)]\n",
    "# define a function with O(n^2) complexity\n",
    "def function2(myList):\n",
    "    pass"
   ]
  },
  {
   "attachments": {},
   "cell_type": "markdown",
   "metadata": {},
   "source": [
    "<div style=\"text-align: right\"> (___ / 3 Punkte) </div>\n"
   ]
  },
  {
   "attachments": {},
   "cell_type": "markdown",
   "metadata": {},
   "source": [
    "### c) Exponentieller Aufwand\n",
    "Definieren Sie eine Funktion mit exponentiellem Aufwand, z.B. $O(2^n)$ oder $O(3^n)$."
   ]
  },
  {
   "cell_type": "code",
   "execution_count": 90,
   "metadata": {},
   "outputs": [],
   "source": [
    "myList = [x for x in range(10)]\n",
    "# define a function with e.g. O(2^n) or O(3^n) complexity\n",
    "def function3(myList):\n",
    "    pass"
   ]
  },
  {
   "attachments": {},
   "cell_type": "markdown",
   "metadata": {},
   "source": [
    "<div style=\"text-align: right\"> (___ / 3 Punkte) </div>\n"
   ]
  },
  {
   "attachments": {},
   "cell_type": "markdown",
   "metadata": {},
   "source": [
    "### d) Logarithmischer Aufwand\n",
    "Definieren Sie eine Funktion mit logarithmischem Aufwand $O(\\log(n))$."
   ]
  },
  {
   "cell_type": "code",
   "execution_count": 91,
   "metadata": {},
   "outputs": [],
   "source": [
    "myList = [x for x in range(10)]\n",
    "# define a function with O(log(n)) complexity\n",
    "def function4(myList):\n",
    "    pass"
   ]
  },
  {
   "attachments": {},
   "cell_type": "markdown",
   "metadata": {},
   "source": [
    "<div style=\"text-align: right\"> (___ / 3 Punkte) </div>\n"
   ]
  },
  {
   "cell_type": "markdown",
   "metadata": {},
   "source": [
    "## Abgabe\n",
    "Bitte denken Sie daran, ihre Notebook-Datei auf den Abgabe-Server hochzuladen.\n",
    "\n",
    "https://privacy.dhbw-stuttgart.de/wwi2022b.html"
   ]
  }
 ],
 "metadata": {
  "kernelspec": {
   "display_name": "Python 3",
   "language": "python",
   "name": "python3"
  },
  "language_info": {
   "codemirror_mode": {
    "name": "ipython",
    "version": 3
   },
   "file_extension": ".py",
   "mimetype": "text/x-python",
   "name": "python",
   "nbconvert_exporter": "python",
   "pygments_lexer": "ipython3",
   "version": "3.11.5"
  },
  "orig_nbformat": 4
 },
 "nbformat": 4,
 "nbformat_minor": 2
}
